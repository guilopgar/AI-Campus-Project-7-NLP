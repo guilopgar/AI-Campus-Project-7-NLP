{
  "cells": [
    {
      "cell_type": "code",
      "execution_count": 1,
      "metadata": {},
      "outputs": [],
      "source": [
        "import os\n",
        "import pickle\n",
        "import pandas as pd\n",
        "\n",
        "import sys\n",
        "sys.path.append('..')\n",
        "import utils\n",
        "\n",
        "from sklearn.metrics import accuracy_score"
      ]
    },
    {
      "cell_type": "code",
      "execution_count": 2,
      "metadata": {},
      "outputs": [],
      "source": [
        "# Constants and arguments\n",
        "data_dir = \"../../data/tnm_stage\"\n",
        "out_preds_path = \"./model_preds\"\n",
        "model_name = \"llama_8B\"\n",
        "prompt_name = \"tnm_zs\"\n",
        "out_path = os.path.join(out_preds_path, f\"tnm_label_{model_name}_prompt_{prompt_name}_{{dataset}}_preds.csv\")"
      ]
    },
    {
      "cell_type": "markdown",
      "metadata": {},
      "source": [
        "# Data loading"
      ]
    },
    {
      "cell_type": "markdown",
      "metadata": {},
      "source": [
        "## Training"
      ]
    },
    {
      "cell_type": "code",
      "execution_count": 3,
      "metadata": {
        "id": "8WsLF10gjltK"
      },
      "outputs": [],
      "source": [
        "df_train = pd.read_csv(os.path.join(data_dir, \"train_tcga_reports_tnm_stage.csv\"))"
      ]
    },
    {
      "cell_type": "code",
      "execution_count": 4,
      "metadata": {},
      "outputs": [
        {
          "data": {
            "text/plain": [
              "(1947, 6)"
            ]
          },
          "execution_count": 4,
          "metadata": {},
          "output_type": "execute_result"
        }
      ],
      "source": [
        "df_train.shape"
      ]
    },
    {
      "cell_type": "code",
      "execution_count": 5,
      "metadata": {},
      "outputs": [],
      "source": [
        "assert not df_train['patient_id'].duplicated().any()\n",
        "df_train.index = df_train['patient_id'].values"
      ]
    },
    {
      "cell_type": "markdown",
      "metadata": {},
      "source": [
        "## Test"
      ]
    },
    {
      "cell_type": "code",
      "execution_count": 9,
      "metadata": {
        "id": "8WsLF10gjltK"
      },
      "outputs": [],
      "source": [
        "df_test = pd.read_csv(os.path.join(data_dir, \"test_tcga_reports_tnm_stage.csv\"))"
      ]
    },
    {
      "cell_type": "code",
      "execution_count": 10,
      "metadata": {},
      "outputs": [
        {
          "data": {
            "text/plain": [
              "(1170, 6)"
            ]
          },
          "execution_count": 10,
          "metadata": {},
          "output_type": "execute_result"
        }
      ],
      "source": [
        "df_test.shape"
      ]
    },
    {
      "cell_type": "code",
      "execution_count": 11,
      "metadata": {},
      "outputs": [],
      "source": [
        "assert not df_test['patient_id'].duplicated().any()\n",
        "df_test.index = df_test['patient_id'].values"
      ]
    },
    {
      "cell_type": "markdown",
      "metadata": {},
      "source": [
        "## Model preds"
      ]
    },
    {
      "cell_type": "markdown",
      "metadata": {},
      "source": [
        "### Test"
      ]
    },
    {
      "cell_type": "code",
      "execution_count": 16,
      "metadata": {},
      "outputs": [],
      "source": [
        "df_test_pred = pd.read_csv(out_path.format(dataset=\"test\"))"
      ]
    },
    {
      "cell_type": "code",
      "execution_count": 17,
      "metadata": {},
      "outputs": [
        {
          "data": {
            "text/plain": [
              "(1170, 8)"
            ]
          },
          "execution_count": 17,
          "metadata": {},
          "output_type": "execute_result"
        }
      ],
      "source": [
        "df_test_pred.shape"
      ]
    },
    {
      "cell_type": "code",
      "execution_count": 18,
      "metadata": {},
      "outputs": [],
      "source": [
        "assert not df_test_pred['patient_id'].duplicated().any()\n",
        "df_test_pred.index = df_test_pred['patient_id'].values"
      ]
    },
    {
      "cell_type": "markdown",
      "metadata": {},
      "source": [
        "# T subtask"
      ]
    },
    {
      "cell_type": "code",
      "execution_count": 19,
      "metadata": {},
      "outputs": [
        {
          "data": {
            "text/plain": [
              "0.541025641025641"
            ]
          },
          "execution_count": 19,
          "metadata": {},
          "output_type": "execute_result"
        }
      ],
      "source": [
        "accuracy_score(\n",
        "    y_true=df_test['t_label'].values,\n",
        "    y_pred=df_test_pred.loc[df_test['patient_id'].values, 't_label'].values\n",
        ")"
      ]
    },
    {
      "cell_type": "code",
      "execution_count": 20,
      "metadata": {},
      "outputs": [
        {
          "data": {
            "text/html": [
              "<div>\n",
              "<style scoped>\n",
              "    .dataframe tbody tr th:only-of-type {\n",
              "        vertical-align: middle;\n",
              "    }\n",
              "\n",
              "    .dataframe tbody tr th {\n",
              "        vertical-align: top;\n",
              "    }\n",
              "\n",
              "    .dataframe thead th {\n",
              "        text-align: right;\n",
              "    }\n",
              "</style>\n",
              "<table border=\"1\" class=\"dataframe\">\n",
              "  <thead>\n",
              "    <tr style=\"text-align: right;\">\n",
              "      <th></th>\n",
              "      <th>label</th>\n",
              "      <th>precision</th>\n",
              "      <th>recall</th>\n",
              "      <th>f1</th>\n",
              "      <th>n_train</th>\n",
              "      <th>n_val</th>\n",
              "    </tr>\n",
              "  </thead>\n",
              "  <tbody>\n",
              "    <tr>\n",
              "      <th>0</th>\n",
              "      <td>T1</td>\n",
              "      <td>0.788889</td>\n",
              "      <td>0.270992</td>\n",
              "      <td>0.403409</td>\n",
              "      <td>435</td>\n",
              "      <td>262</td>\n",
              "    </tr>\n",
              "    <tr>\n",
              "      <th>1</th>\n",
              "      <td>T2</td>\n",
              "      <td>0.525727</td>\n",
              "      <td>0.570388</td>\n",
              "      <td>0.547148</td>\n",
              "      <td>689</td>\n",
              "      <td>412</td>\n",
              "    </tr>\n",
              "    <tr>\n",
              "      <th>2</th>\n",
              "      <td>T3</td>\n",
              "      <td>0.484429</td>\n",
              "      <td>0.777778</td>\n",
              "      <td>0.597015</td>\n",
              "      <td>596</td>\n",
              "      <td>360</td>\n",
              "    </tr>\n",
              "    <tr>\n",
              "      <th>3</th>\n",
              "      <td>T4</td>\n",
              "      <td>0.854545</td>\n",
              "      <td>0.345588</td>\n",
              "      <td>0.492147</td>\n",
              "      <td>227</td>\n",
              "      <td>136</td>\n",
              "    </tr>\n",
              "  </tbody>\n",
              "</table>\n",
              "</div>"
            ],
            "text/plain": [
              "  label  precision    recall        f1  n_train  n_val\n",
              "0    T1   0.788889  0.270992  0.403409      435    262\n",
              "1    T2   0.525727  0.570388  0.547148      689    412\n",
              "2    T3   0.484429  0.777778  0.597015      596    360\n",
              "3    T4   0.854545  0.345588  0.492147      227    136"
            ]
          },
          "execution_count": 20,
          "metadata": {},
          "output_type": "execute_result"
        }
      ],
      "source": [
        "utils.calculate_performance(\n",
        "    arr_gs=df_test['t_label'].values,\n",
        "    arr_preds=df_test_pred.loc[df_test['patient_id'].values, 't_label'].values,\n",
        "    arr_labels=sorted(df_test['t_label'].unique()),\n",
        "    col_label=f\"t_label\",\n",
        "    df_data=df_test,\n",
        "    df_train_data=df_train\n",
        ")"
      ]
    },
    {
      "cell_type": "markdown",
      "metadata": {},
      "source": [
        "# N subtask"
      ]
    },
    {
      "cell_type": "code",
      "execution_count": 21,
      "metadata": {},
      "outputs": [
        {
          "data": {
            "text/plain": [
              "0.8427350427350427"
            ]
          },
          "execution_count": 21,
          "metadata": {},
          "output_type": "execute_result"
        }
      ],
      "source": [
        "accuracy_score(\n",
        "    y_true=df_test[f'n_label'].values,\n",
        "    y_pred=df_test_pred.loc[df_test['patient_id'].values, 'n_label'].values\n",
        ")"
      ]
    },
    {
      "cell_type": "code",
      "execution_count": 22,
      "metadata": {},
      "outputs": [
        {
          "data": {
            "text/html": [
              "<div>\n",
              "<style scoped>\n",
              "    .dataframe tbody tr th:only-of-type {\n",
              "        vertical-align: middle;\n",
              "    }\n",
              "\n",
              "    .dataframe tbody tr th {\n",
              "        vertical-align: top;\n",
              "    }\n",
              "\n",
              "    .dataframe thead th {\n",
              "        text-align: right;\n",
              "    }\n",
              "</style>\n",
              "<table border=\"1\" class=\"dataframe\">\n",
              "  <thead>\n",
              "    <tr style=\"text-align: right;\">\n",
              "      <th></th>\n",
              "      <th>label</th>\n",
              "      <th>precision</th>\n",
              "      <th>recall</th>\n",
              "      <th>f1</th>\n",
              "      <th>n_train</th>\n",
              "      <th>n_val</th>\n",
              "    </tr>\n",
              "  </thead>\n",
              "  <tbody>\n",
              "    <tr>\n",
              "      <th>0</th>\n",
              "      <td>N0</td>\n",
              "      <td>0.959762</td>\n",
              "      <td>0.948454</td>\n",
              "      <td>0.954074</td>\n",
              "      <td>1129</td>\n",
              "      <td>679</td>\n",
              "    </tr>\n",
              "    <tr>\n",
              "      <th>1</th>\n",
              "      <td>N1</td>\n",
              "      <td>0.846473</td>\n",
              "      <td>0.675497</td>\n",
              "      <td>0.751381</td>\n",
              "      <td>503</td>\n",
              "      <td>302</td>\n",
              "    </tr>\n",
              "    <tr>\n",
              "      <th>2</th>\n",
              "      <td>N2</td>\n",
              "      <td>0.562842</td>\n",
              "      <td>0.725352</td>\n",
              "      <td>0.633846</td>\n",
              "      <td>236</td>\n",
              "      <td>142</td>\n",
              "    </tr>\n",
              "    <tr>\n",
              "      <th>3</th>\n",
              "      <td>N3</td>\n",
              "      <td>0.466667</td>\n",
              "      <td>0.744681</td>\n",
              "      <td>0.573770</td>\n",
              "      <td>79</td>\n",
              "      <td>47</td>\n",
              "    </tr>\n",
              "  </tbody>\n",
              "</table>\n",
              "</div>"
            ],
            "text/plain": [
              "  label  precision    recall        f1  n_train  n_val\n",
              "0    N0   0.959762  0.948454  0.954074     1129    679\n",
              "1    N1   0.846473  0.675497  0.751381      503    302\n",
              "2    N2   0.562842  0.725352  0.633846      236    142\n",
              "3    N3   0.466667  0.744681  0.573770       79     47"
            ]
          },
          "execution_count": 22,
          "metadata": {},
          "output_type": "execute_result"
        }
      ],
      "source": [
        "utils.calculate_performance(\n",
        "    arr_gs=df_test['n_label'].values,\n",
        "    arr_preds=df_test_pred.loc[df_test['patient_id'].values, 'n_label'].values,\n",
        "    arr_labels=sorted(df_test['n_label'].unique()),\n",
        "    col_label=f\"n_label\",\n",
        "    df_data=df_test,\n",
        "    df_train_data=df_train\n",
        ")"
      ]
    },
    {
      "cell_type": "markdown",
      "metadata": {},
      "source": [
        "# M subtask"
      ]
    },
    {
      "cell_type": "code",
      "execution_count": 23,
      "metadata": {},
      "outputs": [
        {
          "data": {
            "text/plain": [
              "0.9085470085470085"
            ]
          },
          "execution_count": 23,
          "metadata": {},
          "output_type": "execute_result"
        }
      ],
      "source": [
        "accuracy_score(\n",
        "    y_true=df_test['m_label'].values,\n",
        "    y_pred=df_test_pred.loc[df_test['patient_id'].values, 'm_label'].values\n",
        ")"
      ]
    },
    {
      "cell_type": "code",
      "execution_count": 24,
      "metadata": {},
      "outputs": [
        {
          "data": {
            "text/html": [
              "<div>\n",
              "<style scoped>\n",
              "    .dataframe tbody tr th:only-of-type {\n",
              "        vertical-align: middle;\n",
              "    }\n",
              "\n",
              "    .dataframe tbody tr th {\n",
              "        vertical-align: top;\n",
              "    }\n",
              "\n",
              "    .dataframe thead th {\n",
              "        text-align: right;\n",
              "    }\n",
              "</style>\n",
              "<table border=\"1\" class=\"dataframe\">\n",
              "  <thead>\n",
              "    <tr style=\"text-align: right;\">\n",
              "      <th></th>\n",
              "      <th>label</th>\n",
              "      <th>precision</th>\n",
              "      <th>recall</th>\n",
              "      <th>f1</th>\n",
              "      <th>n_train</th>\n",
              "      <th>n_val</th>\n",
              "    </tr>\n",
              "  </thead>\n",
              "  <tbody>\n",
              "    <tr>\n",
              "      <th>0</th>\n",
              "      <td>M0</td>\n",
              "      <td>0.966070</td>\n",
              "      <td>0.935219</td>\n",
              "      <td>0.950394</td>\n",
              "      <td>1821</td>\n",
              "      <td>1096</td>\n",
              "    </tr>\n",
              "    <tr>\n",
              "      <th>1</th>\n",
              "      <td>M1</td>\n",
              "      <td>0.348624</td>\n",
              "      <td>0.513514</td>\n",
              "      <td>0.415301</td>\n",
              "      <td>126</td>\n",
              "      <td>74</td>\n",
              "    </tr>\n",
              "  </tbody>\n",
              "</table>\n",
              "</div>"
            ],
            "text/plain": [
              "  label  precision    recall        f1  n_train  n_val\n",
              "0    M0   0.966070  0.935219  0.950394     1821   1096\n",
              "1    M1   0.348624  0.513514  0.415301      126     74"
            ]
          },
          "execution_count": 24,
          "metadata": {},
          "output_type": "execute_result"
        }
      ],
      "source": [
        "utils.calculate_performance(\n",
        "    arr_gs=df_test[f'm_label'].values,\n",
        "    arr_preds=df_test_pred.loc[df_test['patient_id'].values, 'm_label'].values,\n",
        "    arr_labels=sorted(df_test['m_label'].unique()),\n",
        "    col_label=f\"m_label\",\n",
        "    df_data=df_test,\n",
        "    df_train_data=df_train\n",
        ")"
      ]
    }
  ],
  "metadata": {
    "accelerator": "GPU",
    "colab": {
      "collapsed_sections": [],
      "machine_shape": "hm",
      "provenance": []
    },
    "gpuClass": "standard",
    "kernelspec": {
      "display_name": "ai-campus",
      "language": "python",
      "name": "python3"
    },
    "language_info": {
      "codemirror_mode": {
        "name": "ipython",
        "version": 3
      },
      "file_extension": ".py",
      "mimetype": "text/x-python",
      "name": "python",
      "nbconvert_exporter": "python",
      "pygments_lexer": "ipython3",
      "version": "3.13.2"
    }
  },
  "nbformat": 4,
  "nbformat_minor": 4
}
