{
  "cells": [
    {
      "cell_type": "markdown",
      "metadata": {},
      "source": [
        "This notebook uses a BERT-based model to predict the 'T' label of the TNM staging classification."
      ]
    },
    {
      "cell_type": "code",
      "execution_count": null,
      "metadata": {},
      "outputs": [],
      "source": [
        "import os\n",
        "import pickle\n",
        "from datetime import timedelta\n",
        "import numpy as np\n",
        "import pandas as pd\n",
        "import time\n",
        "import copy\n",
        "\n",
        "import sys\n",
        "sys.path.append('..')\n",
        "import utils\n",
        "import llm_utils\n",
        "\n",
        "from sklearn.preprocessing import LabelEncoder\n",
        "\n",
        "import torch\n",
        "import torchinfo\n",
        "from transformers import AutoTokenizer, AutoModelForSequenceClassification, Trainer, TrainingArguments, set_seed\n",
        "from sklearn.metrics import accuracy_score"
      ]
    },
    {
      "cell_type": "code",
      "execution_count": 3,
      "metadata": {},
      "outputs": [],
      "source": [
        "# Constants and arguments\n",
        "seq_len = 4096\n",
        "epochs = 10\n",
        "lr = 2e-5\n",
        "bs = 6\n",
        "cuda_gpu_id = \"0\"\n",
        "\n",
        "tnm_label = 't'\n",
        "\n",
        "model_name = \"yikuan8/Clinical-BigBird\"\n",
        "data_dir = \"../../data/tnm_stage\"\n",
        "out_path = \"./model_weights\"\n",
        "out_preds_path = \"./model_preds\""
      ]
    },
    {
      "cell_type": "code",
      "execution_count": 4,
      "metadata": {},
      "outputs": [
        {
          "name": "stdout",
          "output_type": "stream",
          "text": [
            "Number of GPUs available: 1\n"
          ]
        }
      ],
      "source": [
        "if cuda_gpu_id != \"-1\":\n",
        "    os.environ[\"CUDA_VISIBLE_DEVICES\"] = cuda_gpu_id\n",
        "_ = torch.device('cuda')\n",
        "torch.backends.cuda.matmul.allow_tf32 = True\n",
        "assert torch.cuda.is_available()\n",
        "print(\"Number of GPUs available:\", torch.cuda.device_count())"
      ]
    },
    {
      "cell_type": "markdown",
      "metadata": {},
      "source": [
        "# Data loading"
      ]
    },
    {
      "cell_type": "code",
      "execution_count": 5,
      "metadata": {},
      "outputs": [],
      "source": [
        "label_enc = LabelEncoder()"
      ]
    },
    {
      "cell_type": "markdown",
      "metadata": {},
      "source": [
        "## Training"
      ]
    },
    {
      "cell_type": "code",
      "execution_count": 6,
      "metadata": {
        "id": "8WsLF10gjltK"
      },
      "outputs": [],
      "source": [
        "df_train = pd.read_csv(os.path.join(data_dir, \"train_tcga_reports_tnm_stage.csv\"))"
      ]
    },
    {
      "cell_type": "code",
      "execution_count": 7,
      "metadata": {},
      "outputs": [
        {
          "data": {
            "text/plain": [
              "(1947, 6)"
            ]
          },
          "execution_count": 7,
          "metadata": {},
          "output_type": "execute_result"
        }
      ],
      "source": [
        "df_train.shape"
      ]
    },
    {
      "cell_type": "code",
      "execution_count": 8,
      "metadata": {},
      "outputs": [
        {
          "data": {
            "text/plain": [
              "t_label\n",
              "T2    689\n",
              "T3    596\n",
              "T1    435\n",
              "T4    227\n",
              "Name: count, dtype: int64"
            ]
          },
          "execution_count": 8,
          "metadata": {},
          "output_type": "execute_result"
        }
      ],
      "source": [
        "df_train[f'{tnm_label}_label'].value_counts()"
      ]
    },
    {
      "cell_type": "code",
      "execution_count": 9,
      "metadata": {},
      "outputs": [],
      "source": [
        "df_train[f'{tnm_label}_class'] = label_enc.fit_transform(df_train[f'{tnm_label}_label'])"
      ]
    },
    {
      "cell_type": "markdown",
      "metadata": {},
      "source": [
        "## Validation"
      ]
    },
    {
      "cell_type": "code",
      "execution_count": 10,
      "metadata": {
        "id": "8WsLF10gjltK"
      },
      "outputs": [],
      "source": [
        "df_val = pd.read_csv(os.path.join(data_dir, \"val_tcga_reports_tnm_stage.csv\"))"
      ]
    },
    {
      "cell_type": "code",
      "execution_count": 11,
      "metadata": {},
      "outputs": [
        {
          "data": {
            "text/plain": [
              "(780, 6)"
            ]
          },
          "execution_count": 11,
          "metadata": {},
          "output_type": "execute_result"
        }
      ],
      "source": [
        "df_val.shape"
      ]
    },
    {
      "cell_type": "code",
      "execution_count": 12,
      "metadata": {},
      "outputs": [],
      "source": [
        "df_val[f'{tnm_label}_class'] = label_enc.fit_transform(df_val[f'{tnm_label}_label'])"
      ]
    },
    {
      "cell_type": "markdown",
      "metadata": {},
      "source": [
        "## Test"
      ]
    },
    {
      "cell_type": "code",
      "execution_count": 13,
      "metadata": {
        "id": "8WsLF10gjltK"
      },
      "outputs": [],
      "source": [
        "df_test = pd.read_csv(os.path.join(data_dir, \"test_tcga_reports_tnm_stage.csv\"))"
      ]
    },
    {
      "cell_type": "code",
      "execution_count": 14,
      "metadata": {},
      "outputs": [
        {
          "data": {
            "text/plain": [
              "(1170, 6)"
            ]
          },
          "execution_count": 14,
          "metadata": {},
          "output_type": "execute_result"
        }
      ],
      "source": [
        "df_test.shape"
      ]
    },
    {
      "cell_type": "code",
      "execution_count": 15,
      "metadata": {},
      "outputs": [],
      "source": [
        "df_test[f'{tnm_label}_class'] = label_enc.fit_transform(df_test[f'{tnm_label}_label'])"
      ]
    },
    {
      "cell_type": "markdown",
      "metadata": {},
      "source": [
        "# Model training"
      ]
    },
    {
      "cell_type": "markdown",
      "metadata": {},
      "source": [
        "## Tokenization"
      ]
    },
    {
      "cell_type": "code",
      "execution_count": 16,
      "metadata": {},
      "outputs": [
        {
          "name": "stderr",
          "output_type": "stream",
          "text": [
            "/common/lopezgg/miniconda3/envs/nlp/lib/python3.12/site-packages/transformers/tokenization_utils_base.py:1601: FutureWarning: `clean_up_tokenization_spaces` was not set. It will be set to `True` by default. This behavior will be depracted in transformers v4.45, and will be then set to `False` by default. For more details check this issue: https://github.com/huggingface/transformers/issues/31884\n",
            "  warnings.warn(\n"
          ]
        }
      ],
      "source": [
        "tokenizer = AutoTokenizer.from_pretrained(model_name)"
      ]
    },
    {
      "cell_type": "code",
      "execution_count": 17,
      "metadata": {},
      "outputs": [],
      "source": [
        "arr_train_text = df_train['text'].apply(str).to_list()\n",
        "arr_train_label = df_train[f'{tnm_label}_class'].apply(int).to_list()\n",
        "\n",
        "arr_val_text = df_val['text'].apply(str).to_list()\n",
        "arr_val_label = df_val[f'{tnm_label}_class'].apply(int).to_list()\n",
        "\n",
        "arr_test_text = df_test['text'].apply(str).to_list()\n",
        "arr_test_label = df_test[f'{tnm_label}_class'].apply(int).to_list()"
      ]
    },
    {
      "cell_type": "markdown",
      "metadata": {},
      "source": [
        "We first analyze the token length of each document in the corpus:"
      ]
    },
    {
      "cell_type": "code",
      "execution_count": 18,
      "metadata": {},
      "outputs": [
        {
          "name": "stderr",
          "output_type": "stream",
          "text": [
            "Token indices sequence length is longer than the specified maximum sequence length for this model (5074 > 4096). Running this sequence through the model will result in indexing errors\n"
          ]
        }
      ],
      "source": [
        "arr_corpus_text = arr_train_text + arr_val_text + arr_test_text\n",
        "arr_tok = []\n",
        "for document in arr_corpus_text:\n",
        "    tokens = tokenizer(\n",
        "        document,\n",
        "        truncation=False,\n",
        "        padding=False\n",
        "    )\n",
        "    arr_tok.append(tokens['input_ids'])"
      ]
    },
    {
      "cell_type": "code",
      "execution_count": 19,
      "metadata": {},
      "outputs": [
        {
          "name": "stdout",
          "output_type": "stream",
          "text": [
            "count    3897.000000\n",
            "mean      877.958686\n",
            "std       824.078881\n",
            "min        27.000000\n",
            "25%       242.000000\n",
            "50%       634.000000\n",
            "75%      1242.000000\n",
            "max      5447.000000\n",
            "dtype: float64\n"
          ]
        }
      ],
      "source": [
        "arr_tok_len = pd.Series([len(seq) for seq in arr_tok])\n",
        "print(arr_tok_len.describe())"
      ]
    },
    {
      "cell_type": "code",
      "execution_count": 20,
      "metadata": {},
      "outputs": [
        {
          "name": "stdout",
          "output_type": "stream",
          "text": [
            "        abs       rel\n",
            "True   3877  0.994868\n",
            "False    20  0.005132\n",
            "\n"
          ]
        }
      ],
      "source": [
        "print(pd.DataFrame({\n",
        "    \"abs\": (arr_tok_len <= seq_len).value_counts(normalize=False),\n",
        "    \"rel\": (arr_tok_len <= seq_len).value_counts(normalize=True)\n",
        "}))\n",
        "print()"
      ]
    },
    {
      "cell_type": "markdown",
      "metadata": {},
      "source": [
        "Only 20 documents do not fit into the model."
      ]
    },
    {
      "cell_type": "code",
      "execution_count": 21,
      "metadata": {},
      "outputs": [],
      "source": [
        "train_encodings = tokenizer(\n",
        "    arr_train_text,\n",
        "    truncation=True,\n",
        "    padding=True,\n",
        "    max_length=seq_len,\n",
        "    return_tensors=\"pt\"\n",
        ")"
      ]
    },
    {
      "cell_type": "code",
      "execution_count": 22,
      "metadata": {},
      "outputs": [],
      "source": [
        "val_encodings = tokenizer(\n",
        "    arr_val_text,\n",
        "    truncation=True,\n",
        "    padding=True,\n",
        "    max_length=seq_len,\n",
        "    return_tensors=\"pt\"\n",
        ")"
      ]
    },
    {
      "cell_type": "code",
      "execution_count": 23,
      "metadata": {},
      "outputs": [],
      "source": [
        "test_encodings = tokenizer(\n",
        "    arr_test_text,\n",
        "    truncation=True,\n",
        "    padding=True,\n",
        "    max_length=seq_len,\n",
        "    return_tensors=\"pt\"\n",
        ")"
      ]
    },
    {
      "cell_type": "code",
      "execution_count": null,
      "metadata": {},
      "outputs": [],
      "source": [
        "train_dataset = llm_utils.CustomDataset(\n",
        "    encodings=train_encodings,\n",
        "    labels=torch.tensor(arr_train_label)\n",
        ")"
      ]
    },
    {
      "cell_type": "code",
      "execution_count": null,
      "metadata": {},
      "outputs": [],
      "source": [
        "val_dataset = llm_utils.CustomDataset(\n",
        "    encodings=val_encodings,\n",
        "    labels=torch.tensor(arr_val_label)\n",
        ")"
      ]
    },
    {
      "cell_type": "code",
      "execution_count": null,
      "metadata": {},
      "outputs": [],
      "source": [
        "test_dataset = llm_utils.CustomDataset(\n",
        "    encodings=test_encodings,\n",
        "    labels=torch.tensor(arr_test_label)\n",
        ")"
      ]
    },
    {
      "cell_type": "code",
      "execution_count": 27,
      "metadata": {},
      "outputs": [
        {
          "name": "stdout",
          "output_type": "stream",
          "text": [
            "Train data length: 1947\n",
            "Val data length: 780\n",
            "Test data length: 1170\n"
          ]
        }
      ],
      "source": [
        "print(\"Train data length:\", len(train_dataset))\n",
        "print(\"Val data length:\", len(val_dataset))\n",
        "print(\"Test data length:\", len(test_dataset))"
      ]
    },
    {
      "cell_type": "markdown",
      "metadata": {},
      "source": [
        "## Model fine-tuning"
      ]
    },
    {
      "cell_type": "code",
      "execution_count": 28,
      "metadata": {},
      "outputs": [],
      "source": [
        "set_seed(0)"
      ]
    },
    {
      "cell_type": "code",
      "execution_count": 29,
      "metadata": {},
      "outputs": [
        {
          "name": "stderr",
          "output_type": "stream",
          "text": [
            "Some weights of BigBirdForSequenceClassification were not initialized from the model checkpoint at yikuan8/Clinical-BigBird and are newly initialized: ['classifier.dense.bias', 'classifier.dense.weight', 'classifier.out_proj.bias', 'classifier.out_proj.weight']\n",
            "You should probably TRAIN this model on a down-stream task to be able to use it for predictions and inference.\n"
          ]
        }
      ],
      "source": [
        "model = AutoModelForSequenceClassification.from_pretrained(\n",
        "    model_name,\n",
        "    num_labels=len(label_enc.classes_)\n",
        ")"
      ]
    },
    {
      "cell_type": "code",
      "execution_count": 30,
      "metadata": {},
      "outputs": [
        {
          "name": "stdout",
          "output_type": "stream",
          "text": [
            "==========================================================================================\n",
            "Layer (type:depth-idx)                                            Param #\n",
            "==========================================================================================\n",
            "BigBirdForSequenceClassification                                  --\n",
            "├─BigBirdModel: 1-1                                               --\n",
            "│    └─BigBirdEmbeddings: 2-1                                     --\n",
            "│    │    └─Embedding: 3-1                                        38,674,944\n",
            "│    │    └─Embedding: 3-2                                        3,145,728\n",
            "│    │    └─Embedding: 3-3                                        1,536\n",
            "│    │    └─LayerNorm: 3-4                                        1,536\n",
            "│    │    └─Dropout: 3-5                                          --\n",
            "│    └─BigBirdEncoder: 2-2                                        --\n",
            "│    │    └─ModuleList: 3-6                                       85,054,464\n",
            "│    └─Linear: 2-3                                                590,592\n",
            "│    └─Tanh: 2-4                                                  --\n",
            "├─BigBirdClassificationHead: 1-2                                  --\n",
            "│    └─Linear: 2-5                                                590,592\n",
            "│    └─Dropout: 2-6                                               --\n",
            "│    └─Linear: 2-7                                                3,076\n",
            "==========================================================================================\n",
            "Total params: 128,062,468\n",
            "Trainable params: 128,062,468\n",
            "Non-trainable params: 0\n",
            "==========================================================================================\n"
          ]
        }
      ],
      "source": [
        "print(torchinfo.summary(model))"
      ]
    },
    {
      "cell_type": "code",
      "execution_count": 31,
      "metadata": {},
      "outputs": [],
      "source": [
        "torch.backends.cuda.matmul.allow_tf32 = True\n",
        "\n",
        "training_args = TrainingArguments(\n",
        "    tf32=True,\n",
        "    dataloader_num_workers=4,\n",
        "    output_dir=out_path,          # output directory\n",
        "    disable_tqdm=False,\n",
        "    num_train_epochs=epochs,\n",
        "    per_device_train_batch_size=bs,  # batch size per device during training\n",
        "    per_device_eval_batch_size=bs,   # batch size for evaluation\n",
        "    learning_rate=lr,\n",
        "    warmup_steps=0,                # number of warmup steps for learning rate scheduler\n",
        "    eval_strategy=\"epoch\",\n",
        "    logging_strategy=\"epoch\",\n",
        "    save_strategy=\"epoch\",\n",
        "    save_total_limit=1,\n",
        "    load_best_model_at_end=True,\n",
        "    metric_for_best_model=\"f1\",\n",
        "    greater_is_better=True,\n",
        "    save_safetensors=False,\n",
        "    seed=0\n",
        ")"
      ]
    },
    {
      "cell_type": "code",
      "execution_count": null,
      "metadata": {},
      "outputs": [
        {
          "name": "stderr",
          "output_type": "stream",
          "text": [
            "Detected kernel version 4.18.0, which is below the recommended minimum of 5.5.0; this can cause the process to hang. It is recommended to upgrade the kernel to the minimum version or higher.\n"
          ]
        }
      ],
      "source": [
        "trainer = Trainer(\n",
        "    model=model,                         # the instantiated 🤗 Transformers model to be trained\n",
        "    args=training_args,                  # training arguments, defined above\n",
        "    train_dataset=train_dataset,         # training dataset\n",
        "    eval_dataset=val_dataset,             # evaluation dataset\n",
        "    compute_metrics=llm_utils.compute_metrics_text_class\n",
        ")"
      ]
    },
    {
      "cell_type": "code",
      "execution_count": null,
      "metadata": {
        "scrolled": true
      },
      "outputs": [],
      "source": [
        "start_time = time.time()\n",
        "\n",
        "trainer.train()\n",
        "\n",
        "end_time = time.time()"
      ]
    },
    {
      "cell_type": "code",
      "execution_count": 34,
      "metadata": {},
      "outputs": [
        {
          "name": "stdout",
          "output_type": "stream",
          "text": [
            "Total training time: 0:37:04.148488\n"
          ]
        }
      ],
      "source": [
        "print(\"Total training time:\", str(timedelta(seconds=end_time - start_time)))"
      ]
    },
    {
      "cell_type": "code",
      "execution_count": 35,
      "metadata": {},
      "outputs": [],
      "source": [
        "arr_train_logs = copy.deepcopy(trainer.state.log_history)"
      ]
    },
    {
      "cell_type": "code",
      "execution_count": 36,
      "metadata": {},
      "outputs": [],
      "source": [
        "train_stats = arr_train_logs.pop()"
      ]
    },
    {
      "cell_type": "code",
      "execution_count": 37,
      "metadata": {},
      "outputs": [
        {
          "name": "stdout",
          "output_type": "stream",
          "text": [
            "Training stats:\n",
            "{'train_runtime': 2222.5959, 'train_samples_per_second': 8.76, 'train_steps_per_second': 1.462, 'total_flos': 4.12655090614272e+16, 'train_loss': 0.48219405834491436, 'epoch': 10.0, 'step': 3250}\n"
          ]
        }
      ],
      "source": [
        "print(\"Training stats:\")\n",
        "print(train_stats)"
      ]
    },
    {
      "cell_type": "code",
      "execution_count": 38,
      "metadata": {},
      "outputs": [],
      "source": [
        "assert len(arr_train_logs) == epochs * 2\n",
        "\n",
        "arr_print_logs = []\n",
        "for i in range(0, len(arr_train_logs), 2):\n",
        "    arr_print_logs.append({**arr_train_logs[i], **arr_train_logs[i+1]})\n",
        "\n",
        "df_print_logs = pd.DataFrame(\n",
        "    arr_print_logs,\n",
        "    index=range(1, epochs+1)\n",
        ")"
      ]
    },
    {
      "cell_type": "code",
      "execution_count": 39,
      "metadata": {},
      "outputs": [
        {
          "data": {
            "text/html": [
              "<div>\n",
              "<style scoped>\n",
              "    .dataframe tbody tr th:only-of-type {\n",
              "        vertical-align: middle;\n",
              "    }\n",
              "\n",
              "    .dataframe tbody tr th {\n",
              "        vertical-align: top;\n",
              "    }\n",
              "\n",
              "    .dataframe thead th {\n",
              "        text-align: right;\n",
              "    }\n",
              "</style>\n",
              "<table border=\"1\" class=\"dataframe\">\n",
              "  <thead>\n",
              "    <tr style=\"text-align: right;\">\n",
              "      <th></th>\n",
              "      <th>loss</th>\n",
              "      <th>grad_norm</th>\n",
              "      <th>learning_rate</th>\n",
              "      <th>epoch</th>\n",
              "      <th>step</th>\n",
              "      <th>eval_loss</th>\n",
              "      <th>eval_accuracy</th>\n",
              "      <th>eval_precision</th>\n",
              "      <th>eval_recall</th>\n",
              "      <th>eval_f1</th>\n",
              "      <th>eval_runtime</th>\n",
              "      <th>eval_samples_per_second</th>\n",
              "      <th>eval_steps_per_second</th>\n",
              "    </tr>\n",
              "  </thead>\n",
              "  <tbody>\n",
              "    <tr>\n",
              "      <th>1</th>\n",
              "      <td>1.2080</td>\n",
              "      <td>7.888074</td>\n",
              "      <td>0.000018</td>\n",
              "      <td>1.0</td>\n",
              "      <td>325</td>\n",
              "      <td>1.162644</td>\n",
              "      <td>52.1</td>\n",
              "      <td>52.6</td>\n",
              "      <td>52.1</td>\n",
              "      <td>50.5</td>\n",
              "      <td>18.0811</td>\n",
              "      <td>43.139</td>\n",
              "      <td>7.190</td>\n",
              "    </tr>\n",
              "    <tr>\n",
              "      <th>2</th>\n",
              "      <td>1.0539</td>\n",
              "      <td>10.183757</td>\n",
              "      <td>0.000016</td>\n",
              "      <td>2.0</td>\n",
              "      <td>650</td>\n",
              "      <td>1.099547</td>\n",
              "      <td>54.4</td>\n",
              "      <td>55.6</td>\n",
              "      <td>54.4</td>\n",
              "      <td>53.8</td>\n",
              "      <td>18.2052</td>\n",
              "      <td>42.845</td>\n",
              "      <td>7.141</td>\n",
              "    </tr>\n",
              "    <tr>\n",
              "      <th>3</th>\n",
              "      <td>0.8440</td>\n",
              "      <td>15.342978</td>\n",
              "      <td>0.000014</td>\n",
              "      <td>3.0</td>\n",
              "      <td>975</td>\n",
              "      <td>0.731370</td>\n",
              "      <td>74.5</td>\n",
              "      <td>75.1</td>\n",
              "      <td>74.5</td>\n",
              "      <td>73.9</td>\n",
              "      <td>18.2033</td>\n",
              "      <td>42.849</td>\n",
              "      <td>7.142</td>\n",
              "    </tr>\n",
              "    <tr>\n",
              "      <th>4</th>\n",
              "      <td>0.4977</td>\n",
              "      <td>29.082773</td>\n",
              "      <td>0.000012</td>\n",
              "      <td>4.0</td>\n",
              "      <td>1300</td>\n",
              "      <td>0.679947</td>\n",
              "      <td>77.3</td>\n",
              "      <td>77.3</td>\n",
              "      <td>77.3</td>\n",
              "      <td>77.2</td>\n",
              "      <td>18.1886</td>\n",
              "      <td>42.884</td>\n",
              "      <td>7.147</td>\n",
              "    </tr>\n",
              "    <tr>\n",
              "      <th>5</th>\n",
              "      <td>0.3786</td>\n",
              "      <td>6.901114</td>\n",
              "      <td>0.000010</td>\n",
              "      <td>5.0</td>\n",
              "      <td>1625</td>\n",
              "      <td>0.719719</td>\n",
              "      <td>79.9</td>\n",
              "      <td>80.0</td>\n",
              "      <td>79.9</td>\n",
              "      <td>79.8</td>\n",
              "      <td>18.2359</td>\n",
              "      <td>42.773</td>\n",
              "      <td>7.129</td>\n",
              "    </tr>\n",
              "    <tr>\n",
              "      <th>6</th>\n",
              "      <td>0.2715</td>\n",
              "      <td>0.166738</td>\n",
              "      <td>0.000008</td>\n",
              "      <td>6.0</td>\n",
              "      <td>1950</td>\n",
              "      <td>0.882529</td>\n",
              "      <td>78.6</td>\n",
              "      <td>78.8</td>\n",
              "      <td>78.6</td>\n",
              "      <td>78.5</td>\n",
              "      <td>18.2333</td>\n",
              "      <td>42.779</td>\n",
              "      <td>7.130</td>\n",
              "    </tr>\n",
              "    <tr>\n",
              "      <th>7</th>\n",
              "      <td>0.2113</td>\n",
              "      <td>14.992931</td>\n",
              "      <td>0.000006</td>\n",
              "      <td>7.0</td>\n",
              "      <td>2275</td>\n",
              "      <td>1.020149</td>\n",
              "      <td>78.3</td>\n",
              "      <td>78.7</td>\n",
              "      <td>78.3</td>\n",
              "      <td>78.3</td>\n",
              "      <td>18.2128</td>\n",
              "      <td>42.827</td>\n",
              "      <td>7.138</td>\n",
              "    </tr>\n",
              "    <tr>\n",
              "      <th>8</th>\n",
              "      <td>0.1528</td>\n",
              "      <td>0.058437</td>\n",
              "      <td>0.000004</td>\n",
              "      <td>8.0</td>\n",
              "      <td>2600</td>\n",
              "      <td>1.011350</td>\n",
              "      <td>80.1</td>\n",
              "      <td>80.2</td>\n",
              "      <td>80.1</td>\n",
              "      <td>80.1</td>\n",
              "      <td>18.2172</td>\n",
              "      <td>42.817</td>\n",
              "      <td>7.136</td>\n",
              "    </tr>\n",
              "    <tr>\n",
              "      <th>9</th>\n",
              "      <td>0.1177</td>\n",
              "      <td>31.321905</td>\n",
              "      <td>0.000002</td>\n",
              "      <td>9.0</td>\n",
              "      <td>2925</td>\n",
              "      <td>1.078330</td>\n",
              "      <td>79.2</td>\n",
              "      <td>79.5</td>\n",
              "      <td>79.2</td>\n",
              "      <td>79.2</td>\n",
              "      <td>18.2102</td>\n",
              "      <td>42.833</td>\n",
              "      <td>7.139</td>\n",
              "    </tr>\n",
              "    <tr>\n",
              "      <th>10</th>\n",
              "      <td>0.0864</td>\n",
              "      <td>0.037645</td>\n",
              "      <td>0.000000</td>\n",
              "      <td>10.0</td>\n",
              "      <td>3250</td>\n",
              "      <td>1.084226</td>\n",
              "      <td>79.2</td>\n",
              "      <td>79.4</td>\n",
              "      <td>79.2</td>\n",
              "      <td>79.2</td>\n",
              "      <td>18.1317</td>\n",
              "      <td>43.019</td>\n",
              "      <td>7.170</td>\n",
              "    </tr>\n",
              "  </tbody>\n",
              "</table>\n",
              "</div>"
            ],
            "text/plain": [
              "      loss  grad_norm  learning_rate  epoch  step  eval_loss  eval_accuracy  \\\n",
              "1   1.2080   7.888074       0.000018    1.0   325   1.162644           52.1   \n",
              "2   1.0539  10.183757       0.000016    2.0   650   1.099547           54.4   \n",
              "3   0.8440  15.342978       0.000014    3.0   975   0.731370           74.5   \n",
              "4   0.4977  29.082773       0.000012    4.0  1300   0.679947           77.3   \n",
              "5   0.3786   6.901114       0.000010    5.0  1625   0.719719           79.9   \n",
              "6   0.2715   0.166738       0.000008    6.0  1950   0.882529           78.6   \n",
              "7   0.2113  14.992931       0.000006    7.0  2275   1.020149           78.3   \n",
              "8   0.1528   0.058437       0.000004    8.0  2600   1.011350           80.1   \n",
              "9   0.1177  31.321905       0.000002    9.0  2925   1.078330           79.2   \n",
              "10  0.0864   0.037645       0.000000   10.0  3250   1.084226           79.2   \n",
              "\n",
              "    eval_precision  eval_recall  eval_f1  eval_runtime  \\\n",
              "1             52.6         52.1     50.5       18.0811   \n",
              "2             55.6         54.4     53.8       18.2052   \n",
              "3             75.1         74.5     73.9       18.2033   \n",
              "4             77.3         77.3     77.2       18.1886   \n",
              "5             80.0         79.9     79.8       18.2359   \n",
              "6             78.8         78.6     78.5       18.2333   \n",
              "7             78.7         78.3     78.3       18.2128   \n",
              "8             80.2         80.1     80.1       18.2172   \n",
              "9             79.5         79.2     79.2       18.2102   \n",
              "10            79.4         79.2     79.2       18.1317   \n",
              "\n",
              "    eval_samples_per_second  eval_steps_per_second  \n",
              "1                    43.139                  7.190  \n",
              "2                    42.845                  7.141  \n",
              "3                    42.849                  7.142  \n",
              "4                    42.884                  7.147  \n",
              "5                    42.773                  7.129  \n",
              "6                    42.779                  7.130  \n",
              "7                    42.827                  7.138  \n",
              "8                    42.817                  7.136  \n",
              "9                    42.833                  7.139  \n",
              "10                   43.019                  7.170  "
            ]
          },
          "execution_count": 39,
          "metadata": {},
          "output_type": "execute_result"
        }
      ],
      "source": [
        "df_print_logs"
      ]
    },
    {
      "cell_type": "markdown",
      "metadata": {},
      "source": [
        "# Evaluation"
      ]
    },
    {
      "cell_type": "markdown",
      "metadata": {},
      "source": [
        "## Validation"
      ]
    },
    {
      "cell_type": "code",
      "execution_count": null,
      "metadata": {},
      "outputs": [],
      "source": [
        "val_preds = trainer.predict(val_dataset)"
      ]
    },
    {
      "cell_type": "code",
      "execution_count": null,
      "metadata": {},
      "outputs": [
        {
          "name": "stdout",
          "output_type": "stream",
          "text": [
            "Performance on val set: {'accuracy': 80.1, 'precision': 80.2, 'recall': 80.1, 'f1': 80.1}\n"
          ]
        }
      ],
      "source": [
        "print(\"Performance on val set:\", llm_utils.compute_metrics_text_class(val_preds))"
      ]
    },
    {
      "cell_type": "code",
      "execution_count": 42,
      "metadata": {},
      "outputs": [],
      "source": [
        "arr_val_label_preds = label_enc.inverse_transform(val_preds[0].argmax(axis=1))"
      ]
    },
    {
      "cell_type": "code",
      "execution_count": 43,
      "metadata": {},
      "outputs": [
        {
          "data": {
            "text/plain": [
              "0.8012820512820513"
            ]
          },
          "execution_count": 43,
          "metadata": {},
          "output_type": "execute_result"
        }
      ],
      "source": [
        "accuracy_score(\n",
        "    y_true=df_val[f'{tnm_label}_label'].values,\n",
        "    y_pred=arr_val_label_preds\n",
        ")"
      ]
    },
    {
      "cell_type": "code",
      "execution_count": 44,
      "metadata": {},
      "outputs": [
        {
          "data": {
            "text/html": [
              "<div>\n",
              "<style scoped>\n",
              "    .dataframe tbody tr th:only-of-type {\n",
              "        vertical-align: middle;\n",
              "    }\n",
              "\n",
              "    .dataframe tbody tr th {\n",
              "        vertical-align: top;\n",
              "    }\n",
              "\n",
              "    .dataframe thead th {\n",
              "        text-align: right;\n",
              "    }\n",
              "</style>\n",
              "<table border=\"1\" class=\"dataframe\">\n",
              "  <thead>\n",
              "    <tr style=\"text-align: right;\">\n",
              "      <th></th>\n",
              "      <th>label</th>\n",
              "      <th>precision</th>\n",
              "      <th>recall</th>\n",
              "      <th>f1</th>\n",
              "      <th>n_train</th>\n",
              "      <th>n_val</th>\n",
              "    </tr>\n",
              "  </thead>\n",
              "  <tbody>\n",
              "    <tr>\n",
              "      <th>0</th>\n",
              "      <td>T1</td>\n",
              "      <td>0.766667</td>\n",
              "      <td>0.788571</td>\n",
              "      <td>0.777465</td>\n",
              "      <td>435</td>\n",
              "      <td>175</td>\n",
              "    </tr>\n",
              "    <tr>\n",
              "      <th>1</th>\n",
              "      <td>T2</td>\n",
              "      <td>0.790941</td>\n",
              "      <td>0.825455</td>\n",
              "      <td>0.807829</td>\n",
              "      <td>689</td>\n",
              "      <td>275</td>\n",
              "    </tr>\n",
              "    <tr>\n",
              "      <th>2</th>\n",
              "      <td>T3</td>\n",
              "      <td>0.831224</td>\n",
              "      <td>0.820833</td>\n",
              "      <td>0.825996</td>\n",
              "      <td>596</td>\n",
              "      <td>240</td>\n",
              "    </tr>\n",
              "    <tr>\n",
              "      <th>3</th>\n",
              "      <td>T4</td>\n",
              "      <td>0.828947</td>\n",
              "      <td>0.700000</td>\n",
              "      <td>0.759036</td>\n",
              "      <td>227</td>\n",
              "      <td>90</td>\n",
              "    </tr>\n",
              "  </tbody>\n",
              "</table>\n",
              "</div>"
            ],
            "text/plain": [
              "  label  precision    recall        f1  n_train  n_val\n",
              "0    T1   0.766667  0.788571  0.777465      435    175\n",
              "1    T2   0.790941  0.825455  0.807829      689    275\n",
              "2    T3   0.831224  0.820833  0.825996      596    240\n",
              "3    T4   0.828947  0.700000  0.759036      227     90"
            ]
          },
          "execution_count": 44,
          "metadata": {},
          "output_type": "execute_result"
        }
      ],
      "source": [
        "utils.calculate_performance(\n",
        "    arr_gs=df_val[f'{tnm_label}_label'].values,\n",
        "    arr_preds=arr_val_label_preds,\n",
        "    arr_labels=label_enc.classes_,\n",
        "    col_label=f\"{tnm_label}_label\",\n",
        "    df_data=df_val,\n",
        "    df_train_data=df_train\n",
        ")"
      ]
    },
    {
      "cell_type": "markdown",
      "metadata": {},
      "source": [
        "We save the model predictions (probability values):"
      ]
    },
    {
      "cell_type": "code",
      "execution_count": 45,
      "metadata": {},
      "outputs": [],
      "source": [
        "with open(\n",
        "    os.path.join(out_preds_path, f\"{tnm_label}_label_{model_name.split('/')[-1]}_val_preds.pkl\"),\n",
        "    'wb'\n",
        ") as file:\n",
        "    pickle.dump(val_preds[0], file)"
      ]
    },
    {
      "cell_type": "markdown",
      "metadata": {},
      "source": [
        "## Test"
      ]
    },
    {
      "cell_type": "code",
      "execution_count": null,
      "metadata": {},
      "outputs": [],
      "source": [
        "test_preds = trainer.predict(test_dataset)"
      ]
    },
    {
      "cell_type": "code",
      "execution_count": null,
      "metadata": {
        "scrolled": true
      },
      "outputs": [
        {
          "name": "stdout",
          "output_type": "stream",
          "text": [
            "Performance on test set: {'accuracy': 79.6, 'precision': 79.6, 'recall': 79.6, 'f1': 79.6}\n"
          ]
        }
      ],
      "source": [
        "print(\"Performance on test set:\", llm_utils.compute_metrics_text_class(test_preds))"
      ]
    },
    {
      "cell_type": "code",
      "execution_count": 48,
      "metadata": {},
      "outputs": [],
      "source": [
        "arr_test_label_preds = label_enc.inverse_transform(test_preds[0].argmax(axis=1))"
      ]
    },
    {
      "cell_type": "code",
      "execution_count": 49,
      "metadata": {},
      "outputs": [
        {
          "data": {
            "text/plain": [
              "0.7957264957264957"
            ]
          },
          "execution_count": 49,
          "metadata": {},
          "output_type": "execute_result"
        }
      ],
      "source": [
        "accuracy_score(\n",
        "    y_true=df_test[f'{tnm_label}_label'].values,\n",
        "    y_pred=arr_test_label_preds\n",
        ")"
      ]
    },
    {
      "cell_type": "code",
      "execution_count": 50,
      "metadata": {},
      "outputs": [
        {
          "data": {
            "text/html": [
              "<div>\n",
              "<style scoped>\n",
              "    .dataframe tbody tr th:only-of-type {\n",
              "        vertical-align: middle;\n",
              "    }\n",
              "\n",
              "    .dataframe tbody tr th {\n",
              "        vertical-align: top;\n",
              "    }\n",
              "\n",
              "    .dataframe thead th {\n",
              "        text-align: right;\n",
              "    }\n",
              "</style>\n",
              "<table border=\"1\" class=\"dataframe\">\n",
              "  <thead>\n",
              "    <tr style=\"text-align: right;\">\n",
              "      <th></th>\n",
              "      <th>label</th>\n",
              "      <th>precision</th>\n",
              "      <th>recall</th>\n",
              "      <th>f1</th>\n",
              "      <th>n_train</th>\n",
              "      <th>n_val</th>\n",
              "    </tr>\n",
              "  </thead>\n",
              "  <tbody>\n",
              "    <tr>\n",
              "      <th>0</th>\n",
              "      <td>T1</td>\n",
              "      <td>0.753906</td>\n",
              "      <td>0.736641</td>\n",
              "      <td>0.745174</td>\n",
              "      <td>435</td>\n",
              "      <td>262</td>\n",
              "    </tr>\n",
              "    <tr>\n",
              "      <th>1</th>\n",
              "      <td>T2</td>\n",
              "      <td>0.799065</td>\n",
              "      <td>0.830097</td>\n",
              "      <td>0.814286</td>\n",
              "      <td>689</td>\n",
              "      <td>412</td>\n",
              "    </tr>\n",
              "    <tr>\n",
              "      <th>2</th>\n",
              "      <td>T3</td>\n",
              "      <td>0.814085</td>\n",
              "      <td>0.802778</td>\n",
              "      <td>0.808392</td>\n",
              "      <td>596</td>\n",
              "      <td>360</td>\n",
              "    </tr>\n",
              "    <tr>\n",
              "      <th>3</th>\n",
              "      <td>T4</td>\n",
              "      <td>0.816794</td>\n",
              "      <td>0.786765</td>\n",
              "      <td>0.801498</td>\n",
              "      <td>227</td>\n",
              "      <td>136</td>\n",
              "    </tr>\n",
              "  </tbody>\n",
              "</table>\n",
              "</div>"
            ],
            "text/plain": [
              "  label  precision    recall        f1  n_train  n_val\n",
              "0    T1   0.753906  0.736641  0.745174      435    262\n",
              "1    T2   0.799065  0.830097  0.814286      689    412\n",
              "2    T3   0.814085  0.802778  0.808392      596    360\n",
              "3    T4   0.816794  0.786765  0.801498      227    136"
            ]
          },
          "execution_count": 50,
          "metadata": {},
          "output_type": "execute_result"
        }
      ],
      "source": [
        "utils.calculate_performance(\n",
        "    arr_gs=df_test[f'{tnm_label}_label'].values,\n",
        "    arr_preds=arr_test_label_preds,\n",
        "    arr_labels=label_enc.classes_,\n",
        "    col_label=f\"{tnm_label}_label\",\n",
        "    df_data=df_test,\n",
        "    df_train_data=df_train\n",
        ")"
      ]
    },
    {
      "cell_type": "markdown",
      "metadata": {},
      "source": [
        "We save the model predictions (probability values):"
      ]
    },
    {
      "cell_type": "code",
      "execution_count": 51,
      "metadata": {},
      "outputs": [],
      "source": [
        "with open(\n",
        "    os.path.join(out_preds_path, f\"{tnm_label}_label_{model_name.split('/')[-1]}_test_preds.pkl\"),\n",
        "    'wb'\n",
        ") as file:\n",
        "    pickle.dump(test_preds[0], file)"
      ]
    }
  ],
  "metadata": {
    "accelerator": "GPU",
    "colab": {
      "collapsed_sections": [],
      "machine_shape": "hm",
      "provenance": []
    },
    "gpuClass": "standard",
    "kernelspec": {
      "display_name": "nlp",
      "language": "python",
      "name": "python3"
    },
    "language_info": {
      "codemirror_mode": {
        "name": "ipython",
        "version": 3
      },
      "file_extension": ".py",
      "mimetype": "text/x-python",
      "name": "python",
      "nbconvert_exporter": "python",
      "pygments_lexer": "ipython3",
      "version": "3.12.2"
    }
  },
  "nbformat": 4,
  "nbformat_minor": 4
}
