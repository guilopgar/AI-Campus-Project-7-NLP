{
  "cells": [
    {
      "cell_type": "code",
      "execution_count": null,
      "metadata": {},
      "outputs": [],
      "source": [
        "import os\n",
        "import pickle\n",
        "import pandas as pd\n",
        "\n",
        "import sys\n",
        "sys.path.append('..')\n",
        "import utils\n",
        "\n",
        "from sklearn.preprocessing import LabelEncoder\n",
        "from sklearn.metrics import accuracy_score"
      ]
    },
    {
      "cell_type": "code",
      "execution_count": null,
      "metadata": {},
      "outputs": [],
      "source": [
        "# Constants and arguments\n",
        "data_dir = \"../../data/tnm_stage\"\n",
        "out_preds_path = \"./model_preds\"\n",
        "model_name = \"Clinical-BigBird\""
      ]
    },
    {
      "cell_type": "markdown",
      "metadata": {},
      "source": [
        "# Data loading"
      ]
    },
    {
      "cell_type": "code",
      "execution_count": null,
      "metadata": {},
      "outputs": [],
      "source": [
        "t_label_enc = LabelEncoder()\n",
        "n_label_enc = LabelEncoder()\n",
        "m_label_enc = LabelEncoder()"
      ]
    },
    {
      "cell_type": "markdown",
      "metadata": {},
      "source": [
        "## Training"
      ]
    },
    {
      "cell_type": "code",
      "execution_count": null,
      "metadata": {
        "id": "8WsLF10gjltK"
      },
      "outputs": [],
      "source": [
        "df_train = pd.read_csv(os.path.join(data_dir, \"train_tcga_reports_tnm_stage.csv\"))"
      ]
    },
    {
      "cell_type": "code",
      "execution_count": null,
      "metadata": {},
      "outputs": [
        {
          "data": {
            "text/plain": [
              "(1947, 6)"
            ]
          },
          "execution_count": 6,
          "metadata": {},
          "output_type": "execute_result"
        }
      ],
      "source": [
        "df_train.shape"
      ]
    },
    {
      "cell_type": "code",
      "execution_count": null,
      "metadata": {},
      "outputs": [],
      "source": [
        "t_label_enc = t_label_enc.fit(df_train['t_label'])\n",
        "n_label_enc = n_label_enc.fit(df_train['n_label'])\n",
        "m_label_enc = m_label_enc.fit(df_train['m_label'])"
      ]
    },
    {
      "cell_type": "markdown",
      "metadata": {},
      "source": [
        "## Validation"
      ]
    },
    {
      "cell_type": "code",
      "execution_count": null,
      "metadata": {
        "id": "8WsLF10gjltK"
      },
      "outputs": [],
      "source": [
        "df_val = pd.read_csv(os.path.join(data_dir, \"val_tcga_reports_tnm_stage.csv\"))"
      ]
    },
    {
      "cell_type": "code",
      "execution_count": 9,
      "metadata": {},
      "outputs": [
        {
          "data": {
            "text/plain": [
              "(780, 6)"
            ]
          },
          "execution_count": 9,
          "metadata": {},
          "output_type": "execute_result"
        }
      ],
      "source": [
        "df_val.shape"
      ]
    },
    {
      "cell_type": "markdown",
      "metadata": {},
      "source": [
        "## Test"
      ]
    },
    {
      "cell_type": "code",
      "execution_count": null,
      "metadata": {
        "id": "8WsLF10gjltK"
      },
      "outputs": [],
      "source": [
        "df_test = pd.read_csv(os.path.join(data_dir, \"test_tcga_reports_tnm_stage.csv\"))"
      ]
    },
    {
      "cell_type": "code",
      "execution_count": null,
      "metadata": {},
      "outputs": [
        {
          "data": {
            "text/plain": [
              "(1170, 6)"
            ]
          },
          "execution_count": 11,
          "metadata": {},
          "output_type": "execute_result"
        }
      ],
      "source": [
        "df_test.shape"
      ]
    },
    {
      "cell_type": "markdown",
      "metadata": {},
      "source": [
        "# Multi-task approach"
      ]
    },
    {
      "cell_type": "markdown",
      "metadata": {},
      "source": [
        "## T subtask"
      ]
    },
    {
      "cell_type": "code",
      "execution_count": null,
      "metadata": {},
      "outputs": [],
      "source": [
        "with open(\n",
        "    os.path.join(out_preds_path, f\"t_label_{model_name}_test_preds.pkl\"),\n",
        "    'rb'\n",
        ") as file:\n",
        "    t_test_preds = pickle.load(file)"
      ]
    },
    {
      "cell_type": "code",
      "execution_count": null,
      "metadata": {},
      "outputs": [],
      "source": [
        "arr_t_test_label_preds = t_label_enc.inverse_transform(t_test_preds.argmax(axis=1))"
      ]
    },
    {
      "cell_type": "code",
      "execution_count": null,
      "metadata": {},
      "outputs": [
        {
          "data": {
            "text/plain": [
              "0.7957264957264957"
            ]
          },
          "execution_count": 14,
          "metadata": {},
          "output_type": "execute_result"
        }
      ],
      "source": [
        "accuracy_score(\n",
        "    y_true=df_test[f't_label'].values,\n",
        "    y_pred=arr_t_test_label_preds\n",
        ")"
      ]
    },
    {
      "cell_type": "code",
      "execution_count": null,
      "metadata": {},
      "outputs": [
        {
          "data": {
            "text/html": [
              "<div>\n",
              "<style scoped>\n",
              "    .dataframe tbody tr th:only-of-type {\n",
              "        vertical-align: middle;\n",
              "    }\n",
              "\n",
              "    .dataframe tbody tr th {\n",
              "        vertical-align: top;\n",
              "    }\n",
              "\n",
              "    .dataframe thead th {\n",
              "        text-align: right;\n",
              "    }\n",
              "</style>\n",
              "<table border=\"1\" class=\"dataframe\">\n",
              "  <thead>\n",
              "    <tr style=\"text-align: right;\">\n",
              "      <th></th>\n",
              "      <th>label</th>\n",
              "      <th>precision</th>\n",
              "      <th>recall</th>\n",
              "      <th>f1</th>\n",
              "      <th>n_train</th>\n",
              "      <th>n_val</th>\n",
              "    </tr>\n",
              "  </thead>\n",
              "  <tbody>\n",
              "    <tr>\n",
              "      <th>0</th>\n",
              "      <td>T1</td>\n",
              "      <td>0.753906</td>\n",
              "      <td>0.736641</td>\n",
              "      <td>0.745174</td>\n",
              "      <td>435</td>\n",
              "      <td>262</td>\n",
              "    </tr>\n",
              "    <tr>\n",
              "      <th>1</th>\n",
              "      <td>T2</td>\n",
              "      <td>0.799065</td>\n",
              "      <td>0.830097</td>\n",
              "      <td>0.814286</td>\n",
              "      <td>689</td>\n",
              "      <td>412</td>\n",
              "    </tr>\n",
              "    <tr>\n",
              "      <th>2</th>\n",
              "      <td>T3</td>\n",
              "      <td>0.814085</td>\n",
              "      <td>0.802778</td>\n",
              "      <td>0.808392</td>\n",
              "      <td>596</td>\n",
              "      <td>360</td>\n",
              "    </tr>\n",
              "    <tr>\n",
              "      <th>3</th>\n",
              "      <td>T4</td>\n",
              "      <td>0.816794</td>\n",
              "      <td>0.786765</td>\n",
              "      <td>0.801498</td>\n",
              "      <td>227</td>\n",
              "      <td>136</td>\n",
              "    </tr>\n",
              "  </tbody>\n",
              "</table>\n",
              "</div>"
            ],
            "text/plain": [
              "  label  precision    recall        f1  n_train  n_val\n",
              "0    T1   0.753906  0.736641  0.745174      435    262\n",
              "1    T2   0.799065  0.830097  0.814286      689    412\n",
              "2    T3   0.814085  0.802778  0.808392      596    360\n",
              "3    T4   0.816794  0.786765  0.801498      227    136"
            ]
          },
          "execution_count": 15,
          "metadata": {},
          "output_type": "execute_result"
        }
      ],
      "source": [
        "utils.calculate_performance(\n",
        "    arr_gs=df_test[f't_label'].values,\n",
        "    arr_preds=arr_t_test_label_preds,\n",
        "    arr_labels=t_label_enc.classes_,\n",
        "    col_label=f\"t_label\",\n",
        "    df_data=df_test,\n",
        "    df_train_data=df_train\n",
        ")"
      ]
    },
    {
      "cell_type": "markdown",
      "metadata": {},
      "source": [
        "## N subtask"
      ]
    },
    {
      "cell_type": "code",
      "execution_count": null,
      "metadata": {},
      "outputs": [],
      "source": [
        "with open(\n",
        "    os.path.join(out_preds_path, f\"n_label_{model_name}_test_preds.pkl\"),\n",
        "    'rb'\n",
        ") as file:\n",
        "    n_test_preds = pickle.load(file)"
      ]
    },
    {
      "cell_type": "code",
      "execution_count": null,
      "metadata": {},
      "outputs": [],
      "source": [
        "arr_n_test_label_preds = n_label_enc.inverse_transform(n_test_preds.argmax(axis=1))"
      ]
    },
    {
      "cell_type": "code",
      "execution_count": null,
      "metadata": {},
      "outputs": [
        {
          "data": {
            "text/plain": [
              "0.8136752136752137"
            ]
          },
          "execution_count": 18,
          "metadata": {},
          "output_type": "execute_result"
        }
      ],
      "source": [
        "accuracy_score(\n",
        "    y_true=df_test[f'n_label'].values,\n",
        "    y_pred=arr_n_test_label_preds\n",
        ")"
      ]
    },
    {
      "cell_type": "code",
      "execution_count": null,
      "metadata": {},
      "outputs": [
        {
          "data": {
            "text/html": [
              "<div>\n",
              "<style scoped>\n",
              "    .dataframe tbody tr th:only-of-type {\n",
              "        vertical-align: middle;\n",
              "    }\n",
              "\n",
              "    .dataframe tbody tr th {\n",
              "        vertical-align: top;\n",
              "    }\n",
              "\n",
              "    .dataframe thead th {\n",
              "        text-align: right;\n",
              "    }\n",
              "</style>\n",
              "<table border=\"1\" class=\"dataframe\">\n",
              "  <thead>\n",
              "    <tr style=\"text-align: right;\">\n",
              "      <th></th>\n",
              "      <th>label</th>\n",
              "      <th>precision</th>\n",
              "      <th>recall</th>\n",
              "      <th>f1</th>\n",
              "      <th>n_train</th>\n",
              "      <th>n_val</th>\n",
              "    </tr>\n",
              "  </thead>\n",
              "  <tbody>\n",
              "    <tr>\n",
              "      <th>0</th>\n",
              "      <td>N0</td>\n",
              "      <td>0.908836</td>\n",
              "      <td>0.954345</td>\n",
              "      <td>0.931034</td>\n",
              "      <td>1129</td>\n",
              "      <td>679</td>\n",
              "    </tr>\n",
              "    <tr>\n",
              "      <th>1</th>\n",
              "      <td>N1</td>\n",
              "      <td>0.694611</td>\n",
              "      <td>0.768212</td>\n",
              "      <td>0.729560</td>\n",
              "      <td>503</td>\n",
              "      <td>302</td>\n",
              "    </tr>\n",
              "    <tr>\n",
              "      <th>2</th>\n",
              "      <td>N2</td>\n",
              "      <td>0.588235</td>\n",
              "      <td>0.422535</td>\n",
              "      <td>0.491803</td>\n",
              "      <td>236</td>\n",
              "      <td>142</td>\n",
              "    </tr>\n",
              "    <tr>\n",
              "      <th>3</th>\n",
              "      <td>N3</td>\n",
              "      <td>0.571429</td>\n",
              "      <td>0.255319</td>\n",
              "      <td>0.352941</td>\n",
              "      <td>79</td>\n",
              "      <td>47</td>\n",
              "    </tr>\n",
              "  </tbody>\n",
              "</table>\n",
              "</div>"
            ],
            "text/plain": [
              "  label  precision    recall        f1  n_train  n_val\n",
              "0    N0   0.908836  0.954345  0.931034     1129    679\n",
              "1    N1   0.694611  0.768212  0.729560      503    302\n",
              "2    N2   0.588235  0.422535  0.491803      236    142\n",
              "3    N3   0.571429  0.255319  0.352941       79     47"
            ]
          },
          "execution_count": 19,
          "metadata": {},
          "output_type": "execute_result"
        }
      ],
      "source": [
        "utils.calculate_performance(\n",
        "    arr_gs=df_test[f'n_label'].values,\n",
        "    arr_preds=arr_n_test_label_preds,\n",
        "    arr_labels=n_label_enc.classes_,\n",
        "    col_label=f\"n_label\",\n",
        "    df_data=df_test,\n",
        "    df_train_data=df_train\n",
        ")"
      ]
    },
    {
      "cell_type": "markdown",
      "metadata": {},
      "source": [
        "## M subtask"
      ]
    },
    {
      "cell_type": "code",
      "execution_count": null,
      "metadata": {},
      "outputs": [],
      "source": [
        "with open(\n",
        "    os.path.join(out_preds_path, f\"m_label_{model_name}_test_preds.pkl\"),\n",
        "    'rb'\n",
        ") as file:\n",
        "    m_test_preds = pickle.load(file)"
      ]
    },
    {
      "cell_type": "code",
      "execution_count": null,
      "metadata": {},
      "outputs": [],
      "source": [
        "arr_m_test_label_preds = m_label_enc.inverse_transform(m_test_preds.argmax(axis=1))"
      ]
    },
    {
      "cell_type": "code",
      "execution_count": 22,
      "metadata": {},
      "outputs": [
        {
          "data": {
            "text/plain": [
              "0.9205128205128205"
            ]
          },
          "execution_count": 22,
          "metadata": {},
          "output_type": "execute_result"
        }
      ],
      "source": [
        "accuracy_score(\n",
        "    y_true=df_test[f'm_label'].values,\n",
        "    y_pred=arr_m_test_label_preds\n",
        ")"
      ]
    },
    {
      "cell_type": "code",
      "execution_count": 23,
      "metadata": {},
      "outputs": [
        {
          "data": {
            "text/html": [
              "<div>\n",
              "<style scoped>\n",
              "    .dataframe tbody tr th:only-of-type {\n",
              "        vertical-align: middle;\n",
              "    }\n",
              "\n",
              "    .dataframe tbody tr th {\n",
              "        vertical-align: top;\n",
              "    }\n",
              "\n",
              "    .dataframe thead th {\n",
              "        text-align: right;\n",
              "    }\n",
              "</style>\n",
              "<table border=\"1\" class=\"dataframe\">\n",
              "  <thead>\n",
              "    <tr style=\"text-align: right;\">\n",
              "      <th></th>\n",
              "      <th>label</th>\n",
              "      <th>precision</th>\n",
              "      <th>recall</th>\n",
              "      <th>f1</th>\n",
              "      <th>n_train</th>\n",
              "      <th>n_val</th>\n",
              "    </tr>\n",
              "  </thead>\n",
              "  <tbody>\n",
              "    <tr>\n",
              "      <th>0</th>\n",
              "      <td>M0</td>\n",
              "      <td>0.945778</td>\n",
              "      <td>0.970803</td>\n",
              "      <td>0.958127</td>\n",
              "      <td>1821</td>\n",
              "      <td>1096</td>\n",
              "    </tr>\n",
              "    <tr>\n",
              "      <th>1</th>\n",
              "      <td>M1</td>\n",
              "      <td>0.288889</td>\n",
              "      <td>0.175676</td>\n",
              "      <td>0.218487</td>\n",
              "      <td>126</td>\n",
              "      <td>74</td>\n",
              "    </tr>\n",
              "  </tbody>\n",
              "</table>\n",
              "</div>"
            ],
            "text/plain": [
              "  label  precision    recall        f1  n_train  n_val\n",
              "0    M0   0.945778  0.970803  0.958127     1821   1096\n",
              "1    M1   0.288889  0.175676  0.218487      126     74"
            ]
          },
          "execution_count": 23,
          "metadata": {},
          "output_type": "execute_result"
        }
      ],
      "source": [
        "utils.calculate_performance(\n",
        "    arr_gs=df_test[f'm_label'].values,\n",
        "    arr_preds=arr_m_test_label_preds,\n",
        "    arr_labels=m_label_enc.classes_,\n",
        "    col_label=f\"m_label\",\n",
        "    df_data=df_test,\n",
        "    df_train_data=df_train\n",
        ")"
      ]
    }
  ],
  "metadata": {
    "accelerator": "GPU",
    "colab": {
      "collapsed_sections": [],
      "machine_shape": "hm",
      "provenance": []
    },
    "gpuClass": "standard",
    "kernelspec": {
      "display_name": "Python 3 (ipykernel)",
      "language": "python",
      "name": "python3"
    },
    "language_info": {
      "codemirror_mode": {
        "name": "ipython",
        "version": 3
      },
      "file_extension": ".py",
      "mimetype": "text/x-python",
      "name": "python",
      "nbconvert_exporter": "python",
      "pygments_lexer": "ipython3",
      "version": "3.12.2"
    }
  },
  "nbformat": 4,
  "nbformat_minor": 4
}
