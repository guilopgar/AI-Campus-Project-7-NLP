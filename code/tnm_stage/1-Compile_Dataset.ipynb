{
 "cells": [
  {
   "cell_type": "code",
   "execution_count": 1,
   "metadata": {},
   "outputs": [],
   "source": [
    "import os\n",
    "import pandas as pd"
   ]
  },
  {
   "cell_type": "markdown",
   "metadata": {},
   "source": [
    "# Data loading"
   ]
  },
  {
   "cell_type": "code",
   "execution_count": 2,
   "metadata": {},
   "outputs": [],
   "source": [
    "data_dir = \"../../data\""
   ]
  },
  {
   "cell_type": "markdown",
   "metadata": {},
   "source": [
    "## Corpus"
   ]
  },
  {
   "cell_type": "code",
   "execution_count": 3,
   "metadata": {},
   "outputs": [],
   "source": [
    "df_corpus = pd.read_csv(\n",
    "    os.path.join(data_dir, \"corpus\", \"TCGA_Reports.csv\"),\n",
    "    sep=',',\n",
    "    header=0\n",
    ")"
   ]
  },
  {
   "cell_type": "code",
   "execution_count": 4,
   "metadata": {},
   "outputs": [
    {
     "data": {
      "text/plain": [
       "(9523, 2)"
      ]
     },
     "execution_count": 4,
     "metadata": {},
     "output_type": "execute_result"
    }
   ],
   "source": [
    "df_corpus.shape"
   ]
  },
  {
   "cell_type": "code",
   "execution_count": 5,
   "metadata": {},
   "outputs": [
    {
     "data": {
      "text/html": [
       "<div>\n",
       "<style scoped>\n",
       "    .dataframe tbody tr th:only-of-type {\n",
       "        vertical-align: middle;\n",
       "    }\n",
       "\n",
       "    .dataframe tbody tr th {\n",
       "        vertical-align: top;\n",
       "    }\n",
       "\n",
       "    .dataframe thead th {\n",
       "        text-align: right;\n",
       "    }\n",
       "</style>\n",
       "<table border=\"1\" class=\"dataframe\">\n",
       "  <thead>\n",
       "    <tr style=\"text-align: right;\">\n",
       "      <th></th>\n",
       "      <th>patient_filename</th>\n",
       "      <th>text</th>\n",
       "    </tr>\n",
       "  </thead>\n",
       "  <tbody>\n",
       "    <tr>\n",
       "      <th>0</th>\n",
       "      <td>TCGA-BP-5195.25c0b433-5557-4165-922e-2c1eac9c26f0</td>\n",
       "      <td>Date of Recelpt: Clinical Diagnosis &amp; History:...</td>\n",
       "    </tr>\n",
       "    <tr>\n",
       "      <th>1</th>\n",
       "      <td>TCGA-D7-8573.b7306a47-697d-4ed3-bbe1-81d49674a8f8</td>\n",
       "      <td>Material: 1) Material: stomach, Method of coll...</td>\n",
       "    </tr>\n",
       "    <tr>\n",
       "      <th>2</th>\n",
       "      <td>TCGA-EI-7004.13591eed-30e5-47a3-91be-7a370663d2d4</td>\n",
       "      <td>page 1 / 1. copy No. 3. Examination: Histopath...</td>\n",
       "    </tr>\n",
       "    <tr>\n",
       "      <th>3</th>\n",
       "      <td>TCGA-EB-A82B.23E186C6-739C-4EF1-8788-79AA89C6E87A</td>\n",
       "      <td>Patient ID: Gross Description: A mass is locat...</td>\n",
       "    </tr>\n",
       "    <tr>\n",
       "      <th>4</th>\n",
       "      <td>TCGA-A6-3808.e1505f65-72ef-438d-a5e1-93ed8bf6635d</td>\n",
       "      <td>SPECIMEN. Right colon. CLINICAL NOTES. PRE-OP ...</td>\n",
       "    </tr>\n",
       "  </tbody>\n",
       "</table>\n",
       "</div>"
      ],
      "text/plain": [
       "                                    patient_filename  \\\n",
       "0  TCGA-BP-5195.25c0b433-5557-4165-922e-2c1eac9c26f0   \n",
       "1  TCGA-D7-8573.b7306a47-697d-4ed3-bbe1-81d49674a8f8   \n",
       "2  TCGA-EI-7004.13591eed-30e5-47a3-91be-7a370663d2d4   \n",
       "3  TCGA-EB-A82B.23E186C6-739C-4EF1-8788-79AA89C6E87A   \n",
       "4  TCGA-A6-3808.e1505f65-72ef-438d-a5e1-93ed8bf6635d   \n",
       "\n",
       "                                                text  \n",
       "0  Date of Recelpt: Clinical Diagnosis & History:...  \n",
       "1  Material: 1) Material: stomach, Method of coll...  \n",
       "2  page 1 / 1. copy No. 3. Examination: Histopath...  \n",
       "3  Patient ID: Gross Description: A mass is locat...  \n",
       "4  SPECIMEN. Right colon. CLINICAL NOTES. PRE-OP ...  "
      ]
     },
     "execution_count": 5,
     "metadata": {},
     "output_type": "execute_result"
    }
   ],
   "source": [
    "df_corpus.head()"
   ]
  },
  {
   "cell_type": "markdown",
   "metadata": {},
   "source": [
    "Extract TCGA patient IDs:"
   ]
  },
  {
   "cell_type": "code",
   "execution_count": 6,
   "metadata": {},
   "outputs": [],
   "source": [
    "df_corpus[\"patient_id\"] = df_corpus[\"patient_filename\"].apply(lambda x: x.split('.')[0])"
   ]
  },
  {
   "cell_type": "code",
   "execution_count": 7,
   "metadata": {},
   "outputs": [],
   "source": [
    "assert not df_corpus[\"patient_filename\"].duplicated().any()"
   ]
  },
  {
   "cell_type": "code",
   "execution_count": 8,
   "metadata": {},
   "outputs": [],
   "source": [
    "assert not df_corpus[\"patient_id\"].duplicated().any()"
   ]
  },
  {
   "cell_type": "code",
   "execution_count": 9,
   "metadata": {},
   "outputs": [],
   "source": [
    "df_corpus = df_corpus[[\"patient_id\", \"text\"]]"
   ]
  },
  {
   "cell_type": "code",
   "execution_count": 10,
   "metadata": {},
   "outputs": [],
   "source": [
    "df_corpus.index = df_corpus[\"patient_id\"].values"
   ]
  },
  {
   "cell_type": "code",
   "execution_count": 11,
   "metadata": {},
   "outputs": [
    {
     "data": {
      "text/html": [
       "<div>\n",
       "<style scoped>\n",
       "    .dataframe tbody tr th:only-of-type {\n",
       "        vertical-align: middle;\n",
       "    }\n",
       "\n",
       "    .dataframe tbody tr th {\n",
       "        vertical-align: top;\n",
       "    }\n",
       "\n",
       "    .dataframe thead th {\n",
       "        text-align: right;\n",
       "    }\n",
       "</style>\n",
       "<table border=\"1\" class=\"dataframe\">\n",
       "  <thead>\n",
       "    <tr style=\"text-align: right;\">\n",
       "      <th></th>\n",
       "      <th>patient_id</th>\n",
       "      <th>text</th>\n",
       "    </tr>\n",
       "  </thead>\n",
       "  <tbody>\n",
       "    <tr>\n",
       "      <th>TCGA-BP-5195</th>\n",
       "      <td>TCGA-BP-5195</td>\n",
       "      <td>Date of Recelpt: Clinical Diagnosis &amp; History:...</td>\n",
       "    </tr>\n",
       "    <tr>\n",
       "      <th>TCGA-D7-8573</th>\n",
       "      <td>TCGA-D7-8573</td>\n",
       "      <td>Material: 1) Material: stomach, Method of coll...</td>\n",
       "    </tr>\n",
       "    <tr>\n",
       "      <th>TCGA-EI-7004</th>\n",
       "      <td>TCGA-EI-7004</td>\n",
       "      <td>page 1 / 1. copy No. 3. Examination: Histopath...</td>\n",
       "    </tr>\n",
       "    <tr>\n",
       "      <th>TCGA-EB-A82B</th>\n",
       "      <td>TCGA-EB-A82B</td>\n",
       "      <td>Patient ID: Gross Description: A mass is locat...</td>\n",
       "    </tr>\n",
       "    <tr>\n",
       "      <th>TCGA-A6-3808</th>\n",
       "      <td>TCGA-A6-3808</td>\n",
       "      <td>SPECIMEN. Right colon. CLINICAL NOTES. PRE-OP ...</td>\n",
       "    </tr>\n",
       "  </tbody>\n",
       "</table>\n",
       "</div>"
      ],
      "text/plain": [
       "                patient_id                                               text\n",
       "TCGA-BP-5195  TCGA-BP-5195  Date of Recelpt: Clinical Diagnosis & History:...\n",
       "TCGA-D7-8573  TCGA-D7-8573  Material: 1) Material: stomach, Method of coll...\n",
       "TCGA-EI-7004  TCGA-EI-7004  page 1 / 1. copy No. 3. Examination: Histopath...\n",
       "TCGA-EB-A82B  TCGA-EB-A82B  Patient ID: Gross Description: A mass is locat...\n",
       "TCGA-A6-3808  TCGA-A6-3808  SPECIMEN. Right colon. CLINICAL NOTES. PRE-OP ..."
      ]
     },
     "execution_count": 11,
     "metadata": {},
     "output_type": "execute_result"
    }
   ],
   "source": [
    "df_corpus.head()"
   ]
  },
  {
   "cell_type": "markdown",
   "metadata": {},
   "source": [
    "## TNM staging"
   ]
  },
  {
   "cell_type": "markdown",
   "metadata": {},
   "source": [
    "### Tumor size (T)"
   ]
  },
  {
   "cell_type": "code",
   "execution_count": 12,
   "metadata": {},
   "outputs": [],
   "source": [
    "df_tnm_t = pd.read_csv(\n",
    "    os.path.join(data_dir, \"tnm_stage\", \"TCGA_T14_patients.csv\"),\n",
    "    sep=',',\n",
    "    header=0\n",
    ")"
   ]
  },
  {
   "cell_type": "code",
   "execution_count": 13,
   "metadata": {},
   "outputs": [
    {
     "data": {
      "text/plain": [
       "(6966, 4)"
      ]
     },
     "execution_count": 13,
     "metadata": {},
     "output_type": "execute_result"
    }
   ],
   "source": [
    "df_tnm_t.shape"
   ]
  },
  {
   "cell_type": "code",
   "execution_count": 14,
   "metadata": {},
   "outputs": [
    {
     "data": {
      "text/html": [
       "<div>\n",
       "<style scoped>\n",
       "    .dataframe tbody tr th:only-of-type {\n",
       "        vertical-align: middle;\n",
       "    }\n",
       "\n",
       "    .dataframe tbody tr th {\n",
       "        vertical-align: top;\n",
       "    }\n",
       "\n",
       "    .dataframe thead th {\n",
       "        text-align: right;\n",
       "    }\n",
       "</style>\n",
       "<table border=\"1\" class=\"dataframe\">\n",
       "  <thead>\n",
       "    <tr style=\"text-align: right;\">\n",
       "      <th></th>\n",
       "      <th>ajcc_pathologic_t</th>\n",
       "      <th>project_id</th>\n",
       "      <th>case_id</th>\n",
       "      <th>case_submitter_id</th>\n",
       "    </tr>\n",
       "  </thead>\n",
       "  <tbody>\n",
       "    <tr>\n",
       "      <th>0</th>\n",
       "      <td>T3</td>\n",
       "      <td>TCGA-BRCA</td>\n",
       "      <td>3af31fcf-ad0c-4fd9-a8e3-10f9176b5e9d</td>\n",
       "      <td>TCGA-AR-A5QQ</td>\n",
       "    </tr>\n",
       "    <tr>\n",
       "      <th>1</th>\n",
       "      <td>T1</td>\n",
       "      <td>TCGA-THCA</td>\n",
       "      <td>b0cb6ed7-3d9f-4d5e-8df5-edcc921c43b4</td>\n",
       "      <td>TCGA-FY-A2QD</td>\n",
       "    </tr>\n",
       "    <tr>\n",
       "      <th>2</th>\n",
       "      <td>T1</td>\n",
       "      <td>TCGA-BRCA</td>\n",
       "      <td>b5fba77b-1f50-4e71-95b2-566afba4bdd7</td>\n",
       "      <td>TCGA-A2-A04Q</td>\n",
       "    </tr>\n",
       "    <tr>\n",
       "      <th>3</th>\n",
       "      <td>T2</td>\n",
       "      <td>TCGA-THCA</td>\n",
       "      <td>ca65a38e-8b49-4b50-908a-478b95b95c02</td>\n",
       "      <td>TCGA-EL-A3GW</td>\n",
       "    </tr>\n",
       "    <tr>\n",
       "      <th>4</th>\n",
       "      <td>T2</td>\n",
       "      <td>TCGA-LUSC</td>\n",
       "      <td>3d6a027b-dfda-42b3-9323-407e42cf6d10</td>\n",
       "      <td>TCGA-66-2737</td>\n",
       "    </tr>\n",
       "  </tbody>\n",
       "</table>\n",
       "</div>"
      ],
      "text/plain": [
       "  ajcc_pathologic_t project_id                               case_id  \\\n",
       "0                T3  TCGA-BRCA  3af31fcf-ad0c-4fd9-a8e3-10f9176b5e9d   \n",
       "1                T1  TCGA-THCA  b0cb6ed7-3d9f-4d5e-8df5-edcc921c43b4   \n",
       "2                T1  TCGA-BRCA  b5fba77b-1f50-4e71-95b2-566afba4bdd7   \n",
       "3                T2  TCGA-THCA  ca65a38e-8b49-4b50-908a-478b95b95c02   \n",
       "4                T2  TCGA-LUSC  3d6a027b-dfda-42b3-9323-407e42cf6d10   \n",
       "\n",
       "  case_submitter_id  \n",
       "0      TCGA-AR-A5QQ  \n",
       "1      TCGA-FY-A2QD  \n",
       "2      TCGA-A2-A04Q  \n",
       "3      TCGA-EL-A3GW  \n",
       "4      TCGA-66-2737  "
      ]
     },
     "execution_count": 14,
     "metadata": {},
     "output_type": "execute_result"
    }
   ],
   "source": [
    "df_tnm_t.head()"
   ]
  },
  {
   "cell_type": "code",
   "execution_count": 15,
   "metadata": {},
   "outputs": [],
   "source": [
    "df_tnm_t.rename(\n",
    "    columns={\"case_submitter_id\": \"patient_id\"},\n",
    "    inplace=True\n",
    ")"
   ]
  },
  {
   "cell_type": "code",
   "execution_count": 16,
   "metadata": {},
   "outputs": [],
   "source": [
    "assert not df_tnm_t[\"patient_id\"].duplicated().any()"
   ]
  },
  {
   "cell_type": "code",
   "execution_count": 17,
   "metadata": {},
   "outputs": [],
   "source": [
    "df_tnm_t.index = df_tnm_t[\"patient_id\"].values"
   ]
  },
  {
   "cell_type": "code",
   "execution_count": 18,
   "metadata": {},
   "outputs": [],
   "source": [
    "df_tnm_t = df_tnm_t[[\"patient_id\", \"ajcc_pathologic_t\"]]"
   ]
  },
  {
   "cell_type": "code",
   "execution_count": 19,
   "metadata": {},
   "outputs": [
    {
     "data": {
      "text/html": [
       "<div>\n",
       "<style scoped>\n",
       "    .dataframe tbody tr th:only-of-type {\n",
       "        vertical-align: middle;\n",
       "    }\n",
       "\n",
       "    .dataframe tbody tr th {\n",
       "        vertical-align: top;\n",
       "    }\n",
       "\n",
       "    .dataframe thead th {\n",
       "        text-align: right;\n",
       "    }\n",
       "</style>\n",
       "<table border=\"1\" class=\"dataframe\">\n",
       "  <thead>\n",
       "    <tr style=\"text-align: right;\">\n",
       "      <th></th>\n",
       "      <th>patient_id</th>\n",
       "      <th>ajcc_pathologic_t</th>\n",
       "    </tr>\n",
       "  </thead>\n",
       "  <tbody>\n",
       "    <tr>\n",
       "      <th>TCGA-AR-A5QQ</th>\n",
       "      <td>TCGA-AR-A5QQ</td>\n",
       "      <td>T3</td>\n",
       "    </tr>\n",
       "    <tr>\n",
       "      <th>TCGA-FY-A2QD</th>\n",
       "      <td>TCGA-FY-A2QD</td>\n",
       "      <td>T1</td>\n",
       "    </tr>\n",
       "    <tr>\n",
       "      <th>TCGA-A2-A04Q</th>\n",
       "      <td>TCGA-A2-A04Q</td>\n",
       "      <td>T1</td>\n",
       "    </tr>\n",
       "    <tr>\n",
       "      <th>TCGA-EL-A3GW</th>\n",
       "      <td>TCGA-EL-A3GW</td>\n",
       "      <td>T2</td>\n",
       "    </tr>\n",
       "    <tr>\n",
       "      <th>TCGA-66-2737</th>\n",
       "      <td>TCGA-66-2737</td>\n",
       "      <td>T2</td>\n",
       "    </tr>\n",
       "  </tbody>\n",
       "</table>\n",
       "</div>"
      ],
      "text/plain": [
       "                patient_id ajcc_pathologic_t\n",
       "TCGA-AR-A5QQ  TCGA-AR-A5QQ                T3\n",
       "TCGA-FY-A2QD  TCGA-FY-A2QD                T1\n",
       "TCGA-A2-A04Q  TCGA-A2-A04Q                T1\n",
       "TCGA-EL-A3GW  TCGA-EL-A3GW                T2\n",
       "TCGA-66-2737  TCGA-66-2737                T2"
      ]
     },
     "execution_count": 19,
     "metadata": {},
     "output_type": "execute_result"
    }
   ],
   "source": [
    "df_tnm_t.head()"
   ]
  },
  {
   "cell_type": "code",
   "execution_count": 20,
   "metadata": {},
   "outputs": [
    {
     "data": {
      "text/plain": [
       "24"
      ]
     },
     "execution_count": 20,
     "metadata": {},
     "output_type": "execute_result"
    }
   ],
   "source": [
    "len(set(df_tnm_t[\"ajcc_pathologic_t\"].values))"
   ]
  },
  {
   "cell_type": "code",
   "execution_count": 21,
   "metadata": {},
   "outputs": [
    {
     "data": {
      "text/plain": [
       "ajcc_pathologic_t\n",
       "T2      1722\n",
       "T3      1378\n",
       "T1       628\n",
       "T3a      441\n",
       "T1b      429\n",
       "T1a      363\n",
       "T4a      311\n",
       "T3b      289\n",
       "T2a      250\n",
       "T4       228\n",
       "T1c      218\n",
       "T2b      197\n",
       "T2c      156\n",
       "T4b      147\n",
       "TX        76\n",
       "T1b1      71\n",
       "T1b2      30\n",
       "T2a2      11\n",
       "T2a1       7\n",
       "T4d        5\n",
       "T3c        4\n",
       "T0         3\n",
       "T4c        1\n",
       "T4e        1\n",
       "Name: count, dtype: int64"
      ]
     },
     "execution_count": 21,
     "metadata": {},
     "output_type": "execute_result"
    }
   ],
   "source": [
    "df_tnm_t[\"ajcc_pathologic_t\"].value_counts(dropna=False)"
   ]
  },
  {
   "cell_type": "markdown",
   "metadata": {},
   "source": [
    "#### Preprocess labels"
   ]
  },
  {
   "cell_type": "code",
   "execution_count": 22,
   "metadata": {},
   "outputs": [],
   "source": [
    "def label_t_stage(t_value):\n",
    "    # Extract the first digit after 'T'\n",
    "    if t_value.startswith('T') and len(t_value) > 1:\n",
    "        first_char = t_value[1]\n",
    "        if first_char in ['1', '2', '3', '4']:\n",
    "            return t_value[:2]\n",
    "    return None"
   ]
  },
  {
   "cell_type": "code",
   "execution_count": 23,
   "metadata": {},
   "outputs": [],
   "source": [
    "df_tnm_t[\"t_label\"] = df_tnm_t[\"ajcc_pathologic_t\"].apply(label_t_stage)"
   ]
  },
  {
   "cell_type": "code",
   "execution_count": 24,
   "metadata": {},
   "outputs": [
    {
     "data": {
      "text/plain": [
       "(6966, 3)"
      ]
     },
     "execution_count": 24,
     "metadata": {},
     "output_type": "execute_result"
    }
   ],
   "source": [
    "df_tnm_t.shape"
   ]
  },
  {
   "cell_type": "code",
   "execution_count": 25,
   "metadata": {},
   "outputs": [],
   "source": [
    "df_tnm_t = df_tnm_t[df_tnm_t[\"t_label\"].notna()]"
   ]
  },
  {
   "cell_type": "code",
   "execution_count": 26,
   "metadata": {},
   "outputs": [
    {
     "data": {
      "text/plain": [
       "(6887, 3)"
      ]
     },
     "execution_count": 26,
     "metadata": {},
     "output_type": "execute_result"
    }
   ],
   "source": [
    "df_tnm_t.shape"
   ]
  },
  {
   "cell_type": "code",
   "execution_count": 27,
   "metadata": {},
   "outputs": [
    {
     "data": {
      "text/plain": [
       "t_label\n",
       "T2    2343\n",
       "T3    2112\n",
       "T1    1739\n",
       "T4     693\n",
       "Name: count, dtype: int64"
      ]
     },
     "execution_count": 27,
     "metadata": {},
     "output_type": "execute_result"
    }
   ],
   "source": [
    "df_tnm_t[\"t_label\"].value_counts(dropna=False)"
   ]
  },
  {
   "cell_type": "markdown",
   "metadata": {},
   "source": [
    "### Regional lymph node involvement (N)"
   ]
  },
  {
   "cell_type": "code",
   "execution_count": 28,
   "metadata": {},
   "outputs": [],
   "source": [
    "df_tnm_n = pd.read_csv(\n",
    "    os.path.join(data_dir, \"tnm_stage\", \"TCGA_N03_patients.csv\"),\n",
    "    sep=',',\n",
    "    header=0\n",
    ")"
   ]
  },
  {
   "cell_type": "code",
   "execution_count": 29,
   "metadata": {},
   "outputs": [
    {
     "data": {
      "text/plain": [
       "(5678, 4)"
      ]
     },
     "execution_count": 29,
     "metadata": {},
     "output_type": "execute_result"
    }
   ],
   "source": [
    "df_tnm_n.shape"
   ]
  },
  {
   "cell_type": "code",
   "execution_count": 30,
   "metadata": {},
   "outputs": [
    {
     "data": {
      "text/html": [
       "<div>\n",
       "<style scoped>\n",
       "    .dataframe tbody tr th:only-of-type {\n",
       "        vertical-align: middle;\n",
       "    }\n",
       "\n",
       "    .dataframe tbody tr th {\n",
       "        vertical-align: top;\n",
       "    }\n",
       "\n",
       "    .dataframe thead th {\n",
       "        text-align: right;\n",
       "    }\n",
       "</style>\n",
       "<table border=\"1\" class=\"dataframe\">\n",
       "  <thead>\n",
       "    <tr style=\"text-align: right;\">\n",
       "      <th></th>\n",
       "      <th>ajcc_pathologic_n</th>\n",
       "      <th>project_id</th>\n",
       "      <th>case_id</th>\n",
       "      <th>case_submitter_id</th>\n",
       "    </tr>\n",
       "  </thead>\n",
       "  <tbody>\n",
       "    <tr>\n",
       "      <th>0</th>\n",
       "      <td>N1</td>\n",
       "      <td>TCGA-BRCA</td>\n",
       "      <td>3af31fcf-ad0c-4fd9-a8e3-10f9176b5e9d</td>\n",
       "      <td>TCGA-AR-A5QQ</td>\n",
       "    </tr>\n",
       "    <tr>\n",
       "      <th>1</th>\n",
       "      <td>N0</td>\n",
       "      <td>TCGA-THCA</td>\n",
       "      <td>b0cb6ed7-3d9f-4d5e-8df5-edcc921c43b4</td>\n",
       "      <td>TCGA-FY-A2QD</td>\n",
       "    </tr>\n",
       "    <tr>\n",
       "      <th>2</th>\n",
       "      <td>N0</td>\n",
       "      <td>TCGA-THCA</td>\n",
       "      <td>ca65a38e-8b49-4b50-908a-478b95b95c02</td>\n",
       "      <td>TCGA-EL-A3GW</td>\n",
       "    </tr>\n",
       "    <tr>\n",
       "      <th>3</th>\n",
       "      <td>N1</td>\n",
       "      <td>TCGA-LUSC</td>\n",
       "      <td>3d6a027b-dfda-42b3-9323-407e42cf6d10</td>\n",
       "      <td>TCGA-66-2737</td>\n",
       "    </tr>\n",
       "    <tr>\n",
       "      <th>4</th>\n",
       "      <td>N0</td>\n",
       "      <td>TCGA-BLCA</td>\n",
       "      <td>ccd65bc8-82ef-453e-b4bc-a005cc2262d5</td>\n",
       "      <td>TCGA-ZF-AA4V</td>\n",
       "    </tr>\n",
       "  </tbody>\n",
       "</table>\n",
       "</div>"
      ],
      "text/plain": [
       "  ajcc_pathologic_n project_id                               case_id  \\\n",
       "0                N1  TCGA-BRCA  3af31fcf-ad0c-4fd9-a8e3-10f9176b5e9d   \n",
       "1                N0  TCGA-THCA  b0cb6ed7-3d9f-4d5e-8df5-edcc921c43b4   \n",
       "2                N0  TCGA-THCA  ca65a38e-8b49-4b50-908a-478b95b95c02   \n",
       "3                N1  TCGA-LUSC  3d6a027b-dfda-42b3-9323-407e42cf6d10   \n",
       "4                N0  TCGA-BLCA  ccd65bc8-82ef-453e-b4bc-a005cc2262d5   \n",
       "\n",
       "  case_submitter_id  \n",
       "0      TCGA-AR-A5QQ  \n",
       "1      TCGA-FY-A2QD  \n",
       "2      TCGA-EL-A3GW  \n",
       "3      TCGA-66-2737  \n",
       "4      TCGA-ZF-AA4V  "
      ]
     },
     "execution_count": 30,
     "metadata": {},
     "output_type": "execute_result"
    }
   ],
   "source": [
    "df_tnm_n.head()"
   ]
  },
  {
   "cell_type": "code",
   "execution_count": 31,
   "metadata": {},
   "outputs": [],
   "source": [
    "df_tnm_n.rename(\n",
    "    columns={\"case_submitter_id\": \"patient_id\"},\n",
    "    inplace=True\n",
    ")"
   ]
  },
  {
   "cell_type": "code",
   "execution_count": 32,
   "metadata": {},
   "outputs": [],
   "source": [
    "assert not df_tnm_n[\"patient_id\"].duplicated().any()"
   ]
  },
  {
   "cell_type": "code",
   "execution_count": 33,
   "metadata": {},
   "outputs": [],
   "source": [
    "df_tnm_n.index = df_tnm_n[\"patient_id\"].values"
   ]
  },
  {
   "cell_type": "code",
   "execution_count": 34,
   "metadata": {},
   "outputs": [],
   "source": [
    "df_tnm_n = df_tnm_n[[\"patient_id\", \"ajcc_pathologic_n\"]]"
   ]
  },
  {
   "cell_type": "code",
   "execution_count": 35,
   "metadata": {},
   "outputs": [
    {
     "data": {
      "text/html": [
       "<div>\n",
       "<style scoped>\n",
       "    .dataframe tbody tr th:only-of-type {\n",
       "        vertical-align: middle;\n",
       "    }\n",
       "\n",
       "    .dataframe tbody tr th {\n",
       "        vertical-align: top;\n",
       "    }\n",
       "\n",
       "    .dataframe thead th {\n",
       "        text-align: right;\n",
       "    }\n",
       "</style>\n",
       "<table border=\"1\" class=\"dataframe\">\n",
       "  <thead>\n",
       "    <tr style=\"text-align: right;\">\n",
       "      <th></th>\n",
       "      <th>patient_id</th>\n",
       "      <th>ajcc_pathologic_n</th>\n",
       "    </tr>\n",
       "  </thead>\n",
       "  <tbody>\n",
       "    <tr>\n",
       "      <th>TCGA-AR-A5QQ</th>\n",
       "      <td>TCGA-AR-A5QQ</td>\n",
       "      <td>N1</td>\n",
       "    </tr>\n",
       "    <tr>\n",
       "      <th>TCGA-FY-A2QD</th>\n",
       "      <td>TCGA-FY-A2QD</td>\n",
       "      <td>N0</td>\n",
       "    </tr>\n",
       "    <tr>\n",
       "      <th>TCGA-EL-A3GW</th>\n",
       "      <td>TCGA-EL-A3GW</td>\n",
       "      <td>N0</td>\n",
       "    </tr>\n",
       "    <tr>\n",
       "      <th>TCGA-66-2737</th>\n",
       "      <td>TCGA-66-2737</td>\n",
       "      <td>N1</td>\n",
       "    </tr>\n",
       "    <tr>\n",
       "      <th>TCGA-ZF-AA4V</th>\n",
       "      <td>TCGA-ZF-AA4V</td>\n",
       "      <td>N0</td>\n",
       "    </tr>\n",
       "  </tbody>\n",
       "</table>\n",
       "</div>"
      ],
      "text/plain": [
       "                patient_id ajcc_pathologic_n\n",
       "TCGA-AR-A5QQ  TCGA-AR-A5QQ                N1\n",
       "TCGA-FY-A2QD  TCGA-FY-A2QD                N0\n",
       "TCGA-EL-A3GW  TCGA-EL-A3GW                N0\n",
       "TCGA-66-2737  TCGA-66-2737                N1\n",
       "TCGA-ZF-AA4V  TCGA-ZF-AA4V                N0"
      ]
     },
     "execution_count": 35,
     "metadata": {},
     "output_type": "execute_result"
    }
   ],
   "source": [
    "df_tnm_n.head()"
   ]
  },
  {
   "cell_type": "code",
   "execution_count": 36,
   "metadata": {},
   "outputs": [
    {
     "data": {
      "text/plain": [
       "13"
      ]
     },
     "execution_count": 36,
     "metadata": {},
     "output_type": "execute_result"
    }
   ],
   "source": [
    "len(set(df_tnm_n[\"ajcc_pathologic_n\"].values))"
   ]
  },
  {
   "cell_type": "code",
   "execution_count": 37,
   "metadata": {},
   "outputs": [
    {
     "data": {
      "text/plain": [
       "ajcc_pathologic_n\n",
       "N0     3329\n",
       "N1     1056\n",
       "N2      434\n",
       "N1a     276\n",
       "N2b     127\n",
       "N1b     123\n",
       "N3       97\n",
       "N3a      92\n",
       "N2a      84\n",
       "N2c      48\n",
       "N3b       6\n",
       "N1c       5\n",
       "N3c       1\n",
       "Name: count, dtype: int64"
      ]
     },
     "execution_count": 37,
     "metadata": {},
     "output_type": "execute_result"
    }
   ],
   "source": [
    "df_tnm_n[\"ajcc_pathologic_n\"].value_counts(dropna=False)"
   ]
  },
  {
   "cell_type": "markdown",
   "metadata": {},
   "source": [
    "#### Preprocess labels"
   ]
  },
  {
   "cell_type": "code",
   "execution_count": 38,
   "metadata": {},
   "outputs": [],
   "source": [
    "def label_n_stage(n_value):\n",
    "    # Extract the first digit after 'N'\n",
    "    if n_value.startswith('N') and len(n_value) > 1:\n",
    "        first_char = n_value[1]\n",
    "        if first_char in ['0', '1', '2', '3']:\n",
    "            return n_value[:2]\n",
    "    return None"
   ]
  },
  {
   "cell_type": "code",
   "execution_count": 39,
   "metadata": {},
   "outputs": [],
   "source": [
    "df_tnm_n[\"n_label\"] = df_tnm_n[\"ajcc_pathologic_n\"].apply(label_n_stage)"
   ]
  },
  {
   "cell_type": "code",
   "execution_count": 40,
   "metadata": {},
   "outputs": [
    {
     "data": {
      "text/plain": [
       "(5678, 3)"
      ]
     },
     "execution_count": 40,
     "metadata": {},
     "output_type": "execute_result"
    }
   ],
   "source": [
    "df_tnm_n.shape"
   ]
  },
  {
   "cell_type": "code",
   "execution_count": 41,
   "metadata": {},
   "outputs": [],
   "source": [
    "df_tnm_n = df_tnm_n[df_tnm_n[\"n_label\"].notna()]"
   ]
  },
  {
   "cell_type": "code",
   "execution_count": 42,
   "metadata": {},
   "outputs": [
    {
     "data": {
      "text/plain": [
       "(5678, 3)"
      ]
     },
     "execution_count": 42,
     "metadata": {},
     "output_type": "execute_result"
    }
   ],
   "source": [
    "df_tnm_n.shape"
   ]
  },
  {
   "cell_type": "code",
   "execution_count": 43,
   "metadata": {},
   "outputs": [
    {
     "data": {
      "text/plain": [
       "n_label\n",
       "N0    3329\n",
       "N1    1460\n",
       "N2     693\n",
       "N3     196\n",
       "Name: count, dtype: int64"
      ]
     },
     "execution_count": 43,
     "metadata": {},
     "output_type": "execute_result"
    }
   ],
   "source": [
    "df_tnm_n[\"n_label\"].value_counts(dropna=False)"
   ]
  },
  {
   "cell_type": "markdown",
   "metadata": {},
   "source": [
    "### Distant metastasis (M)"
   ]
  },
  {
   "cell_type": "code",
   "execution_count": 44,
   "metadata": {},
   "outputs": [],
   "source": [
    "df_tnm_m = pd.read_csv(\n",
    "    os.path.join(data_dir, \"tnm_stage\", \"TCGA_M01_patients.csv\"),\n",
    "    sep=',',\n",
    "    header=0\n",
    ")"
   ]
  },
  {
   "cell_type": "code",
   "execution_count": 45,
   "metadata": {},
   "outputs": [
    {
     "data": {
      "text/plain": [
       "(4608, 4)"
      ]
     },
     "execution_count": 45,
     "metadata": {},
     "output_type": "execute_result"
    }
   ],
   "source": [
    "df_tnm_m.shape"
   ]
  },
  {
   "cell_type": "code",
   "execution_count": 46,
   "metadata": {},
   "outputs": [
    {
     "data": {
      "text/html": [
       "<div>\n",
       "<style scoped>\n",
       "    .dataframe tbody tr th:only-of-type {\n",
       "        vertical-align: middle;\n",
       "    }\n",
       "\n",
       "    .dataframe tbody tr th {\n",
       "        vertical-align: top;\n",
       "    }\n",
       "\n",
       "    .dataframe thead th {\n",
       "        text-align: right;\n",
       "    }\n",
       "</style>\n",
       "<table border=\"1\" class=\"dataframe\">\n",
       "  <thead>\n",
       "    <tr style=\"text-align: right;\">\n",
       "      <th></th>\n",
       "      <th>ajcc_pathologic_m</th>\n",
       "      <th>project_id</th>\n",
       "      <th>case_id</th>\n",
       "      <th>case_submitter_id</th>\n",
       "    </tr>\n",
       "  </thead>\n",
       "  <tbody>\n",
       "    <tr>\n",
       "      <th>0</th>\n",
       "      <td>M0</td>\n",
       "      <td>TCGA-BRCA</td>\n",
       "      <td>3af31fcf-ad0c-4fd9-a8e3-10f9176b5e9d</td>\n",
       "      <td>TCGA-AR-A5QQ</td>\n",
       "    </tr>\n",
       "    <tr>\n",
       "      <th>1</th>\n",
       "      <td>M0</td>\n",
       "      <td>TCGA-BRCA</td>\n",
       "      <td>b5fba77b-1f50-4e71-95b2-566afba4bdd7</td>\n",
       "      <td>TCGA-A2-A04Q</td>\n",
       "    </tr>\n",
       "    <tr>\n",
       "      <th>2</th>\n",
       "      <td>M0</td>\n",
       "      <td>TCGA-THCA</td>\n",
       "      <td>ca65a38e-8b49-4b50-908a-478b95b95c02</td>\n",
       "      <td>TCGA-EL-A3GW</td>\n",
       "    </tr>\n",
       "    <tr>\n",
       "      <th>3</th>\n",
       "      <td>M0</td>\n",
       "      <td>TCGA-LUSC</td>\n",
       "      <td>3d6a027b-dfda-42b3-9323-407e42cf6d10</td>\n",
       "      <td>TCGA-66-2737</td>\n",
       "    </tr>\n",
       "    <tr>\n",
       "      <th>4</th>\n",
       "      <td>M0</td>\n",
       "      <td>TCGA-BLCA</td>\n",
       "      <td>ccd65bc8-82ef-453e-b4bc-a005cc2262d5</td>\n",
       "      <td>TCGA-ZF-AA4V</td>\n",
       "    </tr>\n",
       "  </tbody>\n",
       "</table>\n",
       "</div>"
      ],
      "text/plain": [
       "  ajcc_pathologic_m project_id                               case_id  \\\n",
       "0                M0  TCGA-BRCA  3af31fcf-ad0c-4fd9-a8e3-10f9176b5e9d   \n",
       "1                M0  TCGA-BRCA  b5fba77b-1f50-4e71-95b2-566afba4bdd7   \n",
       "2                M0  TCGA-THCA  ca65a38e-8b49-4b50-908a-478b95b95c02   \n",
       "3                M0  TCGA-LUSC  3d6a027b-dfda-42b3-9323-407e42cf6d10   \n",
       "4                M0  TCGA-BLCA  ccd65bc8-82ef-453e-b4bc-a005cc2262d5   \n",
       "\n",
       "  case_submitter_id  \n",
       "0      TCGA-AR-A5QQ  \n",
       "1      TCGA-A2-A04Q  \n",
       "2      TCGA-EL-A3GW  \n",
       "3      TCGA-66-2737  \n",
       "4      TCGA-ZF-AA4V  "
      ]
     },
     "execution_count": 46,
     "metadata": {},
     "output_type": "execute_result"
    }
   ],
   "source": [
    "df_tnm_m.head()"
   ]
  },
  {
   "cell_type": "code",
   "execution_count": 47,
   "metadata": {},
   "outputs": [],
   "source": [
    "df_tnm_m.rename(\n",
    "    columns={\"case_submitter_id\": \"patient_id\"},\n",
    "    inplace=True\n",
    ")"
   ]
  },
  {
   "cell_type": "code",
   "execution_count": 48,
   "metadata": {},
   "outputs": [],
   "source": [
    "assert not df_tnm_m[\"patient_id\"].duplicated().any()"
   ]
  },
  {
   "cell_type": "code",
   "execution_count": 49,
   "metadata": {},
   "outputs": [],
   "source": [
    "df_tnm_m.index = df_tnm_m[\"patient_id\"].values"
   ]
  },
  {
   "cell_type": "code",
   "execution_count": 50,
   "metadata": {},
   "outputs": [],
   "source": [
    "df_tnm_m = df_tnm_m[[\"patient_id\", \"ajcc_pathologic_m\"]]"
   ]
  },
  {
   "cell_type": "code",
   "execution_count": 51,
   "metadata": {},
   "outputs": [
    {
     "data": {
      "text/html": [
       "<div>\n",
       "<style scoped>\n",
       "    .dataframe tbody tr th:only-of-type {\n",
       "        vertical-align: middle;\n",
       "    }\n",
       "\n",
       "    .dataframe tbody tr th {\n",
       "        vertical-align: top;\n",
       "    }\n",
       "\n",
       "    .dataframe thead th {\n",
       "        text-align: right;\n",
       "    }\n",
       "</style>\n",
       "<table border=\"1\" class=\"dataframe\">\n",
       "  <thead>\n",
       "    <tr style=\"text-align: right;\">\n",
       "      <th></th>\n",
       "      <th>patient_id</th>\n",
       "      <th>ajcc_pathologic_m</th>\n",
       "    </tr>\n",
       "  </thead>\n",
       "  <tbody>\n",
       "    <tr>\n",
       "      <th>TCGA-AR-A5QQ</th>\n",
       "      <td>TCGA-AR-A5QQ</td>\n",
       "      <td>M0</td>\n",
       "    </tr>\n",
       "    <tr>\n",
       "      <th>TCGA-A2-A04Q</th>\n",
       "      <td>TCGA-A2-A04Q</td>\n",
       "      <td>M0</td>\n",
       "    </tr>\n",
       "    <tr>\n",
       "      <th>TCGA-EL-A3GW</th>\n",
       "      <td>TCGA-EL-A3GW</td>\n",
       "      <td>M0</td>\n",
       "    </tr>\n",
       "    <tr>\n",
       "      <th>TCGA-66-2737</th>\n",
       "      <td>TCGA-66-2737</td>\n",
       "      <td>M0</td>\n",
       "    </tr>\n",
       "    <tr>\n",
       "      <th>TCGA-ZF-AA4V</th>\n",
       "      <td>TCGA-ZF-AA4V</td>\n",
       "      <td>M0</td>\n",
       "    </tr>\n",
       "  </tbody>\n",
       "</table>\n",
       "</div>"
      ],
      "text/plain": [
       "                patient_id ajcc_pathologic_m\n",
       "TCGA-AR-A5QQ  TCGA-AR-A5QQ                M0\n",
       "TCGA-A2-A04Q  TCGA-A2-A04Q                M0\n",
       "TCGA-EL-A3GW  TCGA-EL-A3GW                M0\n",
       "TCGA-66-2737  TCGA-66-2737                M0\n",
       "TCGA-ZF-AA4V  TCGA-ZF-AA4V                M0"
      ]
     },
     "execution_count": 51,
     "metadata": {},
     "output_type": "execute_result"
    }
   ],
   "source": [
    "df_tnm_m.head()"
   ]
  },
  {
   "cell_type": "code",
   "execution_count": 52,
   "metadata": {},
   "outputs": [
    {
     "data": {
      "text/plain": [
       "5"
      ]
     },
     "execution_count": 52,
     "metadata": {},
     "output_type": "execute_result"
    }
   ],
   "source": [
    "len(set(df_tnm_m[\"ajcc_pathologic_m\"].values))"
   ]
  },
  {
   "cell_type": "code",
   "execution_count": 53,
   "metadata": {},
   "outputs": [
    {
     "data": {
      "text/plain": [
       "ajcc_pathologic_m\n",
       "M0     4295\n",
       "M1      283\n",
       "M1a      19\n",
       "M1b      10\n",
       "M1c       1\n",
       "Name: count, dtype: int64"
      ]
     },
     "execution_count": 53,
     "metadata": {},
     "output_type": "execute_result"
    }
   ],
   "source": [
    "df_tnm_m[\"ajcc_pathologic_m\"].value_counts(dropna=False)"
   ]
  },
  {
   "cell_type": "markdown",
   "metadata": {},
   "source": [
    "#### Preprocess labels"
   ]
  },
  {
   "cell_type": "code",
   "execution_count": 54,
   "metadata": {},
   "outputs": [],
   "source": [
    "def label_m_stage(m_value):\n",
    "    # Extract the first digit after 'M'\n",
    "    if m_value.startswith('M') and len(m_value) > 1:\n",
    "        first_char = m_value[1]\n",
    "        if first_char in ['0', '1']:\n",
    "            return m_value[:2]\n",
    "    return None"
   ]
  },
  {
   "cell_type": "code",
   "execution_count": 55,
   "metadata": {},
   "outputs": [],
   "source": [
    "df_tnm_m[\"m_label\"] = df_tnm_m[\"ajcc_pathologic_m\"].apply(label_m_stage)"
   ]
  },
  {
   "cell_type": "code",
   "execution_count": 56,
   "metadata": {},
   "outputs": [
    {
     "data": {
      "text/plain": [
       "(4608, 3)"
      ]
     },
     "execution_count": 56,
     "metadata": {},
     "output_type": "execute_result"
    }
   ],
   "source": [
    "df_tnm_m.shape"
   ]
  },
  {
   "cell_type": "code",
   "execution_count": 57,
   "metadata": {},
   "outputs": [],
   "source": [
    "df_tnm_m = df_tnm_m[df_tnm_m[\"m_label\"].notna()]"
   ]
  },
  {
   "cell_type": "code",
   "execution_count": 58,
   "metadata": {},
   "outputs": [
    {
     "data": {
      "text/plain": [
       "(4608, 3)"
      ]
     },
     "execution_count": 58,
     "metadata": {},
     "output_type": "execute_result"
    }
   ],
   "source": [
    "df_tnm_m.shape"
   ]
  },
  {
   "cell_type": "code",
   "execution_count": 59,
   "metadata": {},
   "outputs": [
    {
     "data": {
      "text/plain": [
       "m_label\n",
       "M0    4295\n",
       "M1     313\n",
       "Name: count, dtype: int64"
      ]
     },
     "execution_count": 59,
     "metadata": {},
     "output_type": "execute_result"
    }
   ],
   "source": [
    "df_tnm_m[\"m_label\"].value_counts(dropna=False)"
   ]
  },
  {
   "cell_type": "markdown",
   "metadata": {},
   "source": [
    "# Data merging\n",
    "\n",
    "We combine all datasets into a single dataframe."
   ]
  },
  {
   "cell_type": "code",
   "execution_count": 66,
   "metadata": {},
   "outputs": [
    {
     "data": {
      "text/plain": [
       "((6887, 3), (5678, 3), (4608, 3))"
      ]
     },
     "execution_count": 66,
     "metadata": {},
     "output_type": "execute_result"
    }
   ],
   "source": [
    "df_tnm_t.shape, df_tnm_n.shape, df_tnm_m.shape"
   ]
  },
  {
   "cell_type": "markdown",
   "metadata": {},
   "source": [
    "We select patients annotated with T, N and M labels:"
   ]
  },
  {
   "cell_type": "code",
   "execution_count": 72,
   "metadata": {},
   "outputs": [],
   "source": [
    "arr_patient_id = sorted(\n",
    "    set(df_tnm_t[\"patient_id\"]).intersection(\n",
    "        set(df_tnm_n[\"patient_id\"])\n",
    "    ).intersection(\n",
    "        set(df_tnm_m[\"patient_id\"])\n",
    "    )\n",
    ")"
   ]
  },
  {
   "cell_type": "code",
   "execution_count": 73,
   "metadata": {},
   "outputs": [
    {
     "data": {
      "text/plain": [
       "3898"
      ]
     },
     "execution_count": 73,
     "metadata": {},
     "output_type": "execute_result"
    }
   ],
   "source": [
    "len(arr_patient_id)"
   ]
  },
  {
   "cell_type": "code",
   "execution_count": 74,
   "metadata": {},
   "outputs": [],
   "source": [
    "assert pd.Series(arr_patient_id).isin(df_corpus[\"patient_id\"]).all()"
   ]
  },
  {
   "cell_type": "code",
   "execution_count": 75,
   "metadata": {},
   "outputs": [],
   "source": [
    "df_corpus_tnm = df_corpus.loc[arr_patient_id].copy()"
   ]
  },
  {
   "cell_type": "code",
   "execution_count": 78,
   "metadata": {},
   "outputs": [],
   "source": [
    "df_corpus_tnm[\"t_label\"] = df_tnm_t.loc[arr_patient_id][\"t_label\"].values\n",
    "df_corpus_tnm[\"n_label\"] = df_tnm_n.loc[arr_patient_id][\"n_label\"].values\n",
    "df_corpus_tnm[\"m_label\"] = df_tnm_m.loc[arr_patient_id][\"m_label\"].values"
   ]
  },
  {
   "cell_type": "code",
   "execution_count": 79,
   "metadata": {},
   "outputs": [
    {
     "data": {
      "text/plain": [
       "(3898, 5)"
      ]
     },
     "execution_count": 79,
     "metadata": {},
     "output_type": "execute_result"
    }
   ],
   "source": [
    "df_corpus_tnm.shape"
   ]
  },
  {
   "cell_type": "code",
   "execution_count": 80,
   "metadata": {},
   "outputs": [
    {
     "data": {
      "text/html": [
       "<div>\n",
       "<style scoped>\n",
       "    .dataframe tbody tr th:only-of-type {\n",
       "        vertical-align: middle;\n",
       "    }\n",
       "\n",
       "    .dataframe tbody tr th {\n",
       "        vertical-align: top;\n",
       "    }\n",
       "\n",
       "    .dataframe thead th {\n",
       "        text-align: right;\n",
       "    }\n",
       "</style>\n",
       "<table border=\"1\" class=\"dataframe\">\n",
       "  <thead>\n",
       "    <tr style=\"text-align: right;\">\n",
       "      <th></th>\n",
       "      <th>patient_id</th>\n",
       "      <th>text</th>\n",
       "      <th>t_label</th>\n",
       "      <th>n_label</th>\n",
       "      <th>m_label</th>\n",
       "    </tr>\n",
       "  </thead>\n",
       "  <tbody>\n",
       "    <tr>\n",
       "      <th>TCGA-05-4244</th>\n",
       "      <td>TCGA-05-4244</td>\n",
       "      <td>Diagnosis: 1. Resection material from the righ...</td>\n",
       "      <td>T2</td>\n",
       "      <td>N2</td>\n",
       "      <td>M1</td>\n",
       "    </tr>\n",
       "    <tr>\n",
       "      <th>TCGA-05-4245</th>\n",
       "      <td>TCGA-05-4245</td>\n",
       "      <td>Diagnosis: 1. Atypical resection material from...</td>\n",
       "      <td>T2</td>\n",
       "      <td>N2</td>\n",
       "      <td>M0</td>\n",
       "    </tr>\n",
       "    <tr>\n",
       "      <th>TCGA-05-4249</th>\n",
       "      <td>TCGA-05-4249</td>\n",
       "      <td>Diagnosis: 2. and 3. Two-part resection materi...</td>\n",
       "      <td>T2</td>\n",
       "      <td>N0</td>\n",
       "      <td>M0</td>\n",
       "    </tr>\n",
       "    <tr>\n",
       "      <th>TCGA-05-4250</th>\n",
       "      <td>TCGA-05-4250</td>\n",
       "      <td>2. and 3. Resection material from the right lo...</td>\n",
       "      <td>T3</td>\n",
       "      <td>N1</td>\n",
       "      <td>M0</td>\n",
       "    </tr>\n",
       "    <tr>\n",
       "      <th>TCGA-05-4382</th>\n",
       "      <td>TCGA-05-4382</td>\n",
       "      <td>Main diagnosis/diagnoses: Primarily evidently ...</td>\n",
       "      <td>T2</td>\n",
       "      <td>N0</td>\n",
       "      <td>M0</td>\n",
       "    </tr>\n",
       "  </tbody>\n",
       "</table>\n",
       "</div>"
      ],
      "text/plain": [
       "                patient_id                                               text  \\\n",
       "TCGA-05-4244  TCGA-05-4244  Diagnosis: 1. Resection material from the righ...   \n",
       "TCGA-05-4245  TCGA-05-4245  Diagnosis: 1. Atypical resection material from...   \n",
       "TCGA-05-4249  TCGA-05-4249  Diagnosis: 2. and 3. Two-part resection materi...   \n",
       "TCGA-05-4250  TCGA-05-4250  2. and 3. Resection material from the right lo...   \n",
       "TCGA-05-4382  TCGA-05-4382  Main diagnosis/diagnoses: Primarily evidently ...   \n",
       "\n",
       "             t_label n_label m_label  \n",
       "TCGA-05-4244      T2      N2      M1  \n",
       "TCGA-05-4245      T2      N2      M0  \n",
       "TCGA-05-4249      T2      N0      M0  \n",
       "TCGA-05-4250      T3      N1      M0  \n",
       "TCGA-05-4382      T2      N0      M0  "
      ]
     },
     "execution_count": 80,
     "metadata": {},
     "output_type": "execute_result"
    }
   ],
   "source": [
    "df_corpus_tnm.head()"
   ]
  },
  {
   "cell_type": "code",
   "execution_count": 83,
   "metadata": {},
   "outputs": [],
   "source": [
    "df_corpus_tnm.to_csv(\n",
    "    os.path.join(data_dir, \"tnm_stage\", \"tcga_reports_tnm_stage.csv\"),\n",
    "    sep=',',\n",
    "    index=False,\n",
    "    header=True\n",
    ")"
   ]
  }
 ],
 "metadata": {
  "kernelspec": {
   "display_name": "ai-campus",
   "language": "python",
   "name": "python3"
  },
  "language_info": {
   "codemirror_mode": {
    "name": "ipython",
    "version": 3
   },
   "file_extension": ".py",
   "mimetype": "text/x-python",
   "name": "python",
   "nbconvert_exporter": "python",
   "pygments_lexer": "ipython3",
   "version": "3.13.2"
  }
 },
 "nbformat": 4,
 "nbformat_minor": 2
}
