{
 "cells": [
  {
   "cell_type": "code",
   "execution_count": 1,
   "metadata": {},
   "outputs": [],
   "source": [
    "import os\n",
    "import random\n",
    "import pandas as pd\n",
    "import matplotlib.pyplot as plt\n",
    "from sklearn.model_selection import train_test_split\n",
    "\n",
    "# Import file from parent directory\n",
    "import sys\n",
    "sys.path.append('../')\n",
    "import utils\n",
    "\n",
    "random.seed(0)\n",
    "\n",
    "val_size = .2\n",
    "test_size = .3"
   ]
  },
  {
   "cell_type": "markdown",
   "metadata": {},
   "source": [
    "# Data loading"
   ]
  },
  {
   "cell_type": "code",
   "execution_count": 2,
   "metadata": {},
   "outputs": [],
   "source": [
    "data_dir = \"../../data/tnm_stage\""
   ]
  },
  {
   "cell_type": "code",
   "execution_count": 3,
   "metadata": {},
   "outputs": [],
   "source": [
    "df_data = pd.read_csv(\n",
    "    os.path.join(data_dir, \"tcga_reports_tnm_stage.csv\"),\n",
    "    sep=',',\n",
    "    header=0\n",
    ")"
   ]
  },
  {
   "cell_type": "code",
   "execution_count": 4,
   "metadata": {},
   "outputs": [
    {
     "data": {
      "text/plain": [
       "(3898, 5)"
      ]
     },
     "execution_count": 4,
     "metadata": {},
     "output_type": "execute_result"
    }
   ],
   "source": [
    "df_data.shape"
   ]
  },
  {
   "cell_type": "code",
   "execution_count": 5,
   "metadata": {},
   "outputs": [
    {
     "data": {
      "text/html": [
       "<div>\n",
       "<style scoped>\n",
       "    .dataframe tbody tr th:only-of-type {\n",
       "        vertical-align: middle;\n",
       "    }\n",
       "\n",
       "    .dataframe tbody tr th {\n",
       "        vertical-align: top;\n",
       "    }\n",
       "\n",
       "    .dataframe thead th {\n",
       "        text-align: right;\n",
       "    }\n",
       "</style>\n",
       "<table border=\"1\" class=\"dataframe\">\n",
       "  <thead>\n",
       "    <tr style=\"text-align: right;\">\n",
       "      <th></th>\n",
       "      <th>patient_id</th>\n",
       "      <th>text</th>\n",
       "      <th>t_label</th>\n",
       "      <th>n_label</th>\n",
       "      <th>m_label</th>\n",
       "    </tr>\n",
       "  </thead>\n",
       "  <tbody>\n",
       "    <tr>\n",
       "      <th>0</th>\n",
       "      <td>TCGA-05-4244</td>\n",
       "      <td>Diagnosis: 1. Resection material from the righ...</td>\n",
       "      <td>T2</td>\n",
       "      <td>N2</td>\n",
       "      <td>M1</td>\n",
       "    </tr>\n",
       "    <tr>\n",
       "      <th>1</th>\n",
       "      <td>TCGA-05-4245</td>\n",
       "      <td>Diagnosis: 1. Atypical resection material from...</td>\n",
       "      <td>T2</td>\n",
       "      <td>N2</td>\n",
       "      <td>M0</td>\n",
       "    </tr>\n",
       "    <tr>\n",
       "      <th>2</th>\n",
       "      <td>TCGA-05-4249</td>\n",
       "      <td>Diagnosis: 2. and 3. Two-part resection materi...</td>\n",
       "      <td>T2</td>\n",
       "      <td>N0</td>\n",
       "      <td>M0</td>\n",
       "    </tr>\n",
       "    <tr>\n",
       "      <th>3</th>\n",
       "      <td>TCGA-05-4250</td>\n",
       "      <td>2. and 3. Resection material from the right lo...</td>\n",
       "      <td>T3</td>\n",
       "      <td>N1</td>\n",
       "      <td>M0</td>\n",
       "    </tr>\n",
       "    <tr>\n",
       "      <th>4</th>\n",
       "      <td>TCGA-05-4382</td>\n",
       "      <td>Main diagnosis/diagnoses: Primarily evidently ...</td>\n",
       "      <td>T2</td>\n",
       "      <td>N0</td>\n",
       "      <td>M0</td>\n",
       "    </tr>\n",
       "  </tbody>\n",
       "</table>\n",
       "</div>"
      ],
      "text/plain": [
       "     patient_id                                               text t_label  \\\n",
       "0  TCGA-05-4244  Diagnosis: 1. Resection material from the righ...      T2   \n",
       "1  TCGA-05-4245  Diagnosis: 1. Atypical resection material from...      T2   \n",
       "2  TCGA-05-4249  Diagnosis: 2. and 3. Two-part resection materi...      T2   \n",
       "3  TCGA-05-4250  2. and 3. Resection material from the right lo...      T3   \n",
       "4  TCGA-05-4382  Main diagnosis/diagnoses: Primarily evidently ...      T2   \n",
       "\n",
       "  n_label m_label  \n",
       "0      N2      M1  \n",
       "1      N2      M0  \n",
       "2      N0      M0  \n",
       "3      N1      M0  \n",
       "4      N0      M0  "
      ]
     },
     "execution_count": 5,
     "metadata": {},
     "output_type": "execute_result"
    }
   ],
   "source": [
    "df_data.head()"
   ]
  },
  {
   "cell_type": "code",
   "execution_count": 6,
   "metadata": {},
   "outputs": [],
   "source": [
    "df_data.index = df_data[\"patient_id\"].values"
   ]
  },
  {
   "cell_type": "code",
   "execution_count": 7,
   "metadata": {},
   "outputs": [],
   "source": [
    "df_data[\"tnm_label\"] = df_data.apply(\n",
    "    lambda row: row[\"t_label\"] + row[\"n_label\"] + row[\"m_label\"],\n",
    "    axis=1\n",
    ")"
   ]
  },
  {
   "cell_type": "code",
   "execution_count": 8,
   "metadata": {},
   "outputs": [
    {
     "data": {
      "text/plain": [
       "30"
      ]
     },
     "execution_count": 8,
     "metadata": {},
     "output_type": "execute_result"
    }
   ],
   "source": [
    "len(set(df_data[\"tnm_label\"]))"
   ]
  },
  {
   "cell_type": "code",
   "execution_count": 9,
   "metadata": {},
   "outputs": [
    {
     "data": {
      "text/html": [
       "<div>\n",
       "<style scoped>\n",
       "    .dataframe tbody tr th:only-of-type {\n",
       "        vertical-align: middle;\n",
       "    }\n",
       "\n",
       "    .dataframe tbody tr th {\n",
       "        vertical-align: top;\n",
       "    }\n",
       "\n",
       "    .dataframe thead th {\n",
       "        text-align: right;\n",
       "    }\n",
       "</style>\n",
       "<table border=\"1\" class=\"dataframe\">\n",
       "  <thead>\n",
       "    <tr style=\"text-align: right;\">\n",
       "      <th></th>\n",
       "      <th>TNM</th>\n",
       "    </tr>\n",
       "  </thead>\n",
       "  <tbody>\n",
       "    <tr>\n",
       "      <th>T2N0M0</th>\n",
       "      <td>778 (20.0%)</td>\n",
       "    </tr>\n",
       "    <tr>\n",
       "      <th>T1N0M0</th>\n",
       "      <td>692 (17.8%)</td>\n",
       "    </tr>\n",
       "    <tr>\n",
       "      <th>T3N0M0</th>\n",
       "      <td>545 (14.0%)</td>\n",
       "    </tr>\n",
       "    <tr>\n",
       "      <th>T2N1M0</th>\n",
       "      <td>371 (9.5%)</td>\n",
       "    </tr>\n",
       "    <tr>\n",
       "      <th>T3N1M0</th>\n",
       "      <td>332 (8.5%)</td>\n",
       "    </tr>\n",
       "    <tr>\n",
       "      <th>T4N0M0</th>\n",
       "      <td>169 (4.3%)</td>\n",
       "    </tr>\n",
       "    <tr>\n",
       "      <th>T3N2M0</th>\n",
       "      <td>143 (3.7%)</td>\n",
       "    </tr>\n",
       "    <tr>\n",
       "      <th>T2N2M0</th>\n",
       "      <td>143 (3.7%)</td>\n",
       "    </tr>\n",
       "    <tr>\n",
       "      <th>T1N1M0</th>\n",
       "      <td>133 (3.4%)</td>\n",
       "    </tr>\n",
       "    <tr>\n",
       "      <th>T4N2M0</th>\n",
       "      <td>91 (2.3%)</td>\n",
       "    </tr>\n",
       "    <tr>\n",
       "      <th>T4N1M0</th>\n",
       "      <td>82 (2.1%)</td>\n",
       "    </tr>\n",
       "    <tr>\n",
       "      <th>T3N3M0</th>\n",
       "      <td>49 (1.3%)</td>\n",
       "    </tr>\n",
       "    <tr>\n",
       "      <th>T3N1M1</th>\n",
       "      <td>47 (1.2%)</td>\n",
       "    </tr>\n",
       "    <tr>\n",
       "      <th>T2N3M0</th>\n",
       "      <td>44 (1.1%)</td>\n",
       "    </tr>\n",
       "    <tr>\n",
       "      <th>T4N3M0</th>\n",
       "      <td>41 (1.1%)</td>\n",
       "    </tr>\n",
       "    <tr>\n",
       "      <th>T3N0M1</th>\n",
       "      <td>37 (0.9%)</td>\n",
       "    </tr>\n",
       "    <tr>\n",
       "      <th>T1N2M0</th>\n",
       "      <td>32 (0.8%)</td>\n",
       "    </tr>\n",
       "    <tr>\n",
       "      <th>T3N2M1</th>\n",
       "      <td>32 (0.8%)</td>\n",
       "    </tr>\n",
       "    <tr>\n",
       "      <th>T4N2M1</th>\n",
       "      <td>24 (0.6%)</td>\n",
       "    </tr>\n",
       "    <tr>\n",
       "      <th>T4N1M1</th>\n",
       "      <td>24 (0.6%)</td>\n",
       "    </tr>\n",
       "    <tr>\n",
       "      <th>T2N0M1</th>\n",
       "      <td>21 (0.5%)</td>\n",
       "    </tr>\n",
       "    <tr>\n",
       "      <th>T2N1M1</th>\n",
       "      <td>12 (0.3%)</td>\n",
       "    </tr>\n",
       "    <tr>\n",
       "      <th>T4N0M1</th>\n",
       "      <td>12 (0.3%)</td>\n",
       "    </tr>\n",
       "    <tr>\n",
       "      <th>T3N3M1</th>\n",
       "      <td>11 (0.3%)</td>\n",
       "    </tr>\n",
       "    <tr>\n",
       "      <th>T4N3M1</th>\n",
       "      <td>10 (0.3%)</td>\n",
       "    </tr>\n",
       "    <tr>\n",
       "      <th>T2N2M1</th>\n",
       "      <td>7 (0.2%)</td>\n",
       "    </tr>\n",
       "    <tr>\n",
       "      <th>T1N0M1</th>\n",
       "      <td>7 (0.2%)</td>\n",
       "    </tr>\n",
       "    <tr>\n",
       "      <th>T1N1M1</th>\n",
       "      <td>5 (0.1%)</td>\n",
       "    </tr>\n",
       "    <tr>\n",
       "      <th>T1N3M0</th>\n",
       "      <td>3 (0.1%)</td>\n",
       "    </tr>\n",
       "    <tr>\n",
       "      <th>T2N3M1</th>\n",
       "      <td>1 (0.0%)</td>\n",
       "    </tr>\n",
       "  </tbody>\n",
       "</table>\n",
       "</div>"
      ],
      "text/plain": [
       "                TNM\n",
       "T2N0M0  778 (20.0%)\n",
       "T1N0M0  692 (17.8%)\n",
       "T3N0M0  545 (14.0%)\n",
       "T2N1M0   371 (9.5%)\n",
       "T3N1M0   332 (8.5%)\n",
       "T4N0M0   169 (4.3%)\n",
       "T3N2M0   143 (3.7%)\n",
       "T2N2M0   143 (3.7%)\n",
       "T1N1M0   133 (3.4%)\n",
       "T4N2M0    91 (2.3%)\n",
       "T4N1M0    82 (2.1%)\n",
       "T3N3M0    49 (1.3%)\n",
       "T3N1M1    47 (1.2%)\n",
       "T2N3M0    44 (1.1%)\n",
       "T4N3M0    41 (1.1%)\n",
       "T3N0M1    37 (0.9%)\n",
       "T1N2M0    32 (0.8%)\n",
       "T3N2M1    32 (0.8%)\n",
       "T4N2M1    24 (0.6%)\n",
       "T4N1M1    24 (0.6%)\n",
       "T2N0M1    21 (0.5%)\n",
       "T2N1M1    12 (0.3%)\n",
       "T4N0M1    12 (0.3%)\n",
       "T3N3M1    11 (0.3%)\n",
       "T4N3M1    10 (0.3%)\n",
       "T2N2M1     7 (0.2%)\n",
       "T1N0M1     7 (0.2%)\n",
       "T1N1M1     5 (0.1%)\n",
       "T1N3M0     3 (0.1%)\n",
       "T2N3M1     1 (0.0%)"
      ]
     },
     "execution_count": 9,
     "metadata": {},
     "output_type": "execute_result"
    }
   ],
   "source": [
    "utils.value_dist({\n",
    "    \"TNM\": df_data[\"tnm_label\"]\n",
    "})"
   ]
  },
  {
   "cell_type": "markdown",
   "metadata": {},
   "source": [
    "# Data split"
   ]
  },
  {
   "cell_type": "code",
   "execution_count": 10,
   "metadata": {},
   "outputs": [],
   "source": [
    "arr_pat_id = df_data[\"patient_id\"].values.tolist()"
   ]
  },
  {
   "cell_type": "code",
   "execution_count": 11,
   "metadata": {},
   "outputs": [],
   "source": [
    "n_test_size = round(test_size * df_data.shape[0])"
   ]
  },
  {
   "cell_type": "code",
   "execution_count": 12,
   "metadata": {},
   "outputs": [],
   "source": [
    "n_val_size = round(val_size * df_data.shape[0])"
   ]
  },
  {
   "cell_type": "markdown",
   "metadata": {},
   "source": [
    "## Test split"
   ]
  },
  {
   "cell_type": "code",
   "execution_count": 13,
   "metadata": {},
   "outputs": [],
   "source": [
    "arr_test_pat_id = random.sample(arr_pat_id, n_test_size)"
   ]
  },
  {
   "cell_type": "code",
   "execution_count": 14,
   "metadata": {},
   "outputs": [],
   "source": [
    "df_test = df_data.loc[arr_test_pat_id].copy()"
   ]
  },
  {
   "cell_type": "code",
   "execution_count": 15,
   "metadata": {},
   "outputs": [
    {
     "data": {
      "text/plain": [
       "(1169, 6)"
      ]
     },
     "execution_count": 15,
     "metadata": {},
     "output_type": "execute_result"
    }
   ],
   "source": [
    "df_test.shape"
   ]
  },
  {
   "cell_type": "code",
   "execution_count": 16,
   "metadata": {},
   "outputs": [],
   "source": [
    "arr_train_val_pat_id = [\n",
    "    pat_id for pat_id in arr_pat_id\n",
    "    if pat_id not in arr_test_pat_id\n",
    "]"
   ]
  },
  {
   "cell_type": "code",
   "execution_count": 17,
   "metadata": {},
   "outputs": [],
   "source": [
    "df_train_val = df_data.loc[arr_train_val_pat_id].copy()"
   ]
  },
  {
   "cell_type": "markdown",
   "metadata": {},
   "source": [
    "## Val split"
   ]
  },
  {
   "cell_type": "code",
   "execution_count": 18,
   "metadata": {},
   "outputs": [],
   "source": [
    "arr_val_pat_id = random.sample(arr_train_val_pat_id, n_val_size)"
   ]
  },
  {
   "cell_type": "code",
   "execution_count": 19,
   "metadata": {},
   "outputs": [],
   "source": [
    "df_val = df_data.loc[arr_val_pat_id].copy()"
   ]
  },
  {
   "cell_type": "code",
   "execution_count": 20,
   "metadata": {},
   "outputs": [
    {
     "data": {
      "text/plain": [
       "(780, 6)"
      ]
     },
     "execution_count": 20,
     "metadata": {},
     "output_type": "execute_result"
    }
   ],
   "source": [
    "df_val.shape"
   ]
  },
  {
   "cell_type": "code",
   "execution_count": 21,
   "metadata": {},
   "outputs": [],
   "source": [
    "arr_train_pat_id = [\n",
    "    pat_id for pat_id in arr_train_val_pat_id\n",
    "    if pat_id not in arr_val_pat_id\n",
    "]"
   ]
  },
  {
   "cell_type": "code",
   "execution_count": 22,
   "metadata": {},
   "outputs": [],
   "source": [
    "df_train = df_data.loc[arr_train_pat_id].copy()"
   ]
  },
  {
   "cell_type": "code",
   "execution_count": 23,
   "metadata": {},
   "outputs": [
    {
     "data": {
      "text/plain": [
       "(1949, 6)"
      ]
     },
     "execution_count": 23,
     "metadata": {},
     "output_type": "execute_result"
    }
   ],
   "source": [
    "df_train.shape"
   ]
  },
  {
   "cell_type": "code",
   "execution_count": 24,
   "metadata": {},
   "outputs": [],
   "source": [
    "# Sanity check\n",
    "assert df_train.shape[0] + df_val.shape[0] + df_test.shape[0] == df_data.shape[0]\n",
    "assert len(set(df_train[\"patient_id\"].values).intersection(set(df_val[\"patient_id\"].values))) == 0\n",
    "assert len(set(df_train[\"patient_id\"].values).intersection(set(df_test[\"patient_id\"].values))) == 0\n",
    "assert len(set(df_val[\"patient_id\"].values).intersection(set(df_test[\"patient_id\"].values))) == 0"
   ]
  },
  {
   "cell_type": "markdown",
   "metadata": {},
   "source": [
    "We ensure that the distribution of the labels in the three subsets is similar to the label distribution of the entire set:"
   ]
  },
  {
   "cell_type": "code",
   "execution_count": 25,
   "metadata": {},
   "outputs": [
    {
     "data": {
      "text/html": [
       "<div>\n",
       "<style scoped>\n",
       "    .dataframe tbody tr th:only-of-type {\n",
       "        vertical-align: middle;\n",
       "    }\n",
       "\n",
       "    .dataframe tbody tr th {\n",
       "        vertical-align: top;\n",
       "    }\n",
       "\n",
       "    .dataframe thead th {\n",
       "        text-align: right;\n",
       "    }\n",
       "</style>\n",
       "<table border=\"1\" class=\"dataframe\">\n",
       "  <thead>\n",
       "    <tr style=\"text-align: right;\">\n",
       "      <th></th>\n",
       "      <th>all</th>\n",
       "      <th>train</th>\n",
       "      <th>val</th>\n",
       "      <th>test</th>\n",
       "    </tr>\n",
       "  </thead>\n",
       "  <tbody>\n",
       "    <tr>\n",
       "      <th>T2N0M0</th>\n",
       "      <td>778 (20.0%)</td>\n",
       "      <td>379 (19.4%)</td>\n",
       "      <td>157 (20.1%)</td>\n",
       "      <td>242 (20.7%)</td>\n",
       "    </tr>\n",
       "    <tr>\n",
       "      <th>T1N0M0</th>\n",
       "      <td>692 (17.8%)</td>\n",
       "      <td>341 (17.5%)</td>\n",
       "      <td>133 (17.1%)</td>\n",
       "      <td>218 (18.6%)</td>\n",
       "    </tr>\n",
       "    <tr>\n",
       "      <th>T3N0M0</th>\n",
       "      <td>545 (14.0%)</td>\n",
       "      <td>285 (14.6%)</td>\n",
       "      <td>106 (13.6%)</td>\n",
       "      <td>154 (13.2%)</td>\n",
       "    </tr>\n",
       "    <tr>\n",
       "      <th>T2N1M0</th>\n",
       "      <td>371 (9.5%)</td>\n",
       "      <td>189 (9.7%)</td>\n",
       "      <td>79 (10.1%)</td>\n",
       "      <td>103 (8.8%)</td>\n",
       "    </tr>\n",
       "    <tr>\n",
       "      <th>T3N1M0</th>\n",
       "      <td>332 (8.5%)</td>\n",
       "      <td>156 (8.0%)</td>\n",
       "      <td>71 (9.1%)</td>\n",
       "      <td>105 (9.0%)</td>\n",
       "    </tr>\n",
       "    <tr>\n",
       "      <th>T4N0M0</th>\n",
       "      <td>169 (4.3%)</td>\n",
       "      <td>84 (4.3%)</td>\n",
       "      <td>42 (5.4%)</td>\n",
       "      <td>43 (3.7%)</td>\n",
       "    </tr>\n",
       "    <tr>\n",
       "      <th>T3N2M0</th>\n",
       "      <td>143 (3.7%)</td>\n",
       "      <td>76 (3.9%)</td>\n",
       "      <td>25 (3.2%)</td>\n",
       "      <td>42 (3.6%)</td>\n",
       "    </tr>\n",
       "    <tr>\n",
       "      <th>T2N2M0</th>\n",
       "      <td>143 (3.7%)</td>\n",
       "      <td>70 (3.6%)</td>\n",
       "      <td>31 (4.0%)</td>\n",
       "      <td>42 (3.6%)</td>\n",
       "    </tr>\n",
       "    <tr>\n",
       "      <th>T1N1M0</th>\n",
       "      <td>133 (3.4%)</td>\n",
       "      <td>68 (3.5%)</td>\n",
       "      <td>24 (3.1%)</td>\n",
       "      <td>41 (3.5%)</td>\n",
       "    </tr>\n",
       "    <tr>\n",
       "      <th>T4N2M0</th>\n",
       "      <td>91 (2.3%)</td>\n",
       "      <td>46 (2.4%)</td>\n",
       "      <td>14 (1.8%)</td>\n",
       "      <td>31 (2.7%)</td>\n",
       "    </tr>\n",
       "    <tr>\n",
       "      <th>T4N1M0</th>\n",
       "      <td>82 (2.1%)</td>\n",
       "      <td>42 (2.2%)</td>\n",
       "      <td>16 (2.1%)</td>\n",
       "      <td>24 (2.1%)</td>\n",
       "    </tr>\n",
       "    <tr>\n",
       "      <th>T3N3M0</th>\n",
       "      <td>49 (1.3%)</td>\n",
       "      <td>24 (1.2%)</td>\n",
       "      <td>13 (1.7%)</td>\n",
       "      <td>12 (1.0%)</td>\n",
       "    </tr>\n",
       "    <tr>\n",
       "      <th>T3N1M1</th>\n",
       "      <td>47 (1.2%)</td>\n",
       "      <td>23 (1.2%)</td>\n",
       "      <td>11 (1.4%)</td>\n",
       "      <td>13 (1.1%)</td>\n",
       "    </tr>\n",
       "    <tr>\n",
       "      <th>T2N3M0</th>\n",
       "      <td>44 (1.1%)</td>\n",
       "      <td>23 (1.2%)</td>\n",
       "      <td>8 (1.0%)</td>\n",
       "      <td>13 (1.1%)</td>\n",
       "    </tr>\n",
       "    <tr>\n",
       "      <th>T4N3M0</th>\n",
       "      <td>41 (1.1%)</td>\n",
       "      <td>20 (1.0%)</td>\n",
       "      <td>6 (0.8%)</td>\n",
       "      <td>15 (1.3%)</td>\n",
       "    </tr>\n",
       "    <tr>\n",
       "      <th>T3N0M1</th>\n",
       "      <td>37 (0.9%)</td>\n",
       "      <td>18 (0.9%)</td>\n",
       "      <td>9 (1.2%)</td>\n",
       "      <td>10 (0.9%)</td>\n",
       "    </tr>\n",
       "    <tr>\n",
       "      <th>T1N2M0</th>\n",
       "      <td>32 (0.8%)</td>\n",
       "      <td>17 (0.9%)</td>\n",
       "      <td>7 (0.9%)</td>\n",
       "      <td>8 (0.7%)</td>\n",
       "    </tr>\n",
       "    <tr>\n",
       "      <th>T3N2M1</th>\n",
       "      <td>32 (0.8%)</td>\n",
       "      <td>17 (0.9%)</td>\n",
       "      <td>6 (0.8%)</td>\n",
       "      <td>9 (0.8%)</td>\n",
       "    </tr>\n",
       "    <tr>\n",
       "      <th>T4N2M1</th>\n",
       "      <td>24 (0.6%)</td>\n",
       "      <td>14 (0.7%)</td>\n",
       "      <td>3 (0.4%)</td>\n",
       "      <td>7 (0.6%)</td>\n",
       "    </tr>\n",
       "    <tr>\n",
       "      <th>T4N1M1</th>\n",
       "      <td>24 (0.6%)</td>\n",
       "      <td>14 (0.7%)</td>\n",
       "      <td>5 (0.6%)</td>\n",
       "      <td>5 (0.4%)</td>\n",
       "    </tr>\n",
       "    <tr>\n",
       "      <th>T2N0M1</th>\n",
       "      <td>21 (0.5%)</td>\n",
       "      <td>9 (0.5%)</td>\n",
       "      <td>4 (0.5%)</td>\n",
       "      <td>8 (0.7%)</td>\n",
       "    </tr>\n",
       "    <tr>\n",
       "      <th>T2N1M1</th>\n",
       "      <td>12 (0.3%)</td>\n",
       "      <td>3 (0.2%)</td>\n",
       "      <td>3 (0.4%)</td>\n",
       "      <td>6 (0.5%)</td>\n",
       "    </tr>\n",
       "    <tr>\n",
       "      <th>T4N0M1</th>\n",
       "      <td>12 (0.3%)</td>\n",
       "      <td>5 (0.3%)</td>\n",
       "      <td>2 (0.3%)</td>\n",
       "      <td>5 (0.4%)</td>\n",
       "    </tr>\n",
       "    <tr>\n",
       "      <th>T3N3M1</th>\n",
       "      <td>11 (0.3%)</td>\n",
       "      <td>8 (0.4%)</td>\n",
       "      <td>NaN</td>\n",
       "      <td>3 (0.3%)</td>\n",
       "    </tr>\n",
       "    <tr>\n",
       "      <th>T4N3M1</th>\n",
       "      <td>10 (0.3%)</td>\n",
       "      <td>4 (0.2%)</td>\n",
       "      <td>4 (0.5%)</td>\n",
       "      <td>2 (0.2%)</td>\n",
       "    </tr>\n",
       "    <tr>\n",
       "      <th>T2N2M1</th>\n",
       "      <td>7 (0.2%)</td>\n",
       "      <td>4 (0.2%)</td>\n",
       "      <td>NaN</td>\n",
       "      <td>3 (0.3%)</td>\n",
       "    </tr>\n",
       "    <tr>\n",
       "      <th>T1N0M1</th>\n",
       "      <td>7 (0.2%)</td>\n",
       "      <td>4 (0.2%)</td>\n",
       "      <td>1 (0.1%)</td>\n",
       "      <td>2 (0.2%)</td>\n",
       "    </tr>\n",
       "    <tr>\n",
       "      <th>T1N1M1</th>\n",
       "      <td>5 (0.1%)</td>\n",
       "      <td>4 (0.2%)</td>\n",
       "      <td>NaN</td>\n",
       "      <td>1 (0.1%)</td>\n",
       "    </tr>\n",
       "    <tr>\n",
       "      <th>T1N3M0</th>\n",
       "      <td>3 (0.1%)</td>\n",
       "      <td>1 (0.1%)</td>\n",
       "      <td>NaN</td>\n",
       "      <td>2 (0.2%)</td>\n",
       "    </tr>\n",
       "    <tr>\n",
       "      <th>T2N3M1</th>\n",
       "      <td>1 (0.0%)</td>\n",
       "      <td>1 (0.1%)</td>\n",
       "      <td>NaN</td>\n",
       "      <td>NaN</td>\n",
       "    </tr>\n",
       "  </tbody>\n",
       "</table>\n",
       "</div>"
      ],
      "text/plain": [
       "                all        train          val         test\n",
       "T2N0M0  778 (20.0%)  379 (19.4%)  157 (20.1%)  242 (20.7%)\n",
       "T1N0M0  692 (17.8%)  341 (17.5%)  133 (17.1%)  218 (18.6%)\n",
       "T3N0M0  545 (14.0%)  285 (14.6%)  106 (13.6%)  154 (13.2%)\n",
       "T2N1M0   371 (9.5%)   189 (9.7%)   79 (10.1%)   103 (8.8%)\n",
       "T3N1M0   332 (8.5%)   156 (8.0%)    71 (9.1%)   105 (9.0%)\n",
       "T4N0M0   169 (4.3%)    84 (4.3%)    42 (5.4%)    43 (3.7%)\n",
       "T3N2M0   143 (3.7%)    76 (3.9%)    25 (3.2%)    42 (3.6%)\n",
       "T2N2M0   143 (3.7%)    70 (3.6%)    31 (4.0%)    42 (3.6%)\n",
       "T1N1M0   133 (3.4%)    68 (3.5%)    24 (3.1%)    41 (3.5%)\n",
       "T4N2M0    91 (2.3%)    46 (2.4%)    14 (1.8%)    31 (2.7%)\n",
       "T4N1M0    82 (2.1%)    42 (2.2%)    16 (2.1%)    24 (2.1%)\n",
       "T3N3M0    49 (1.3%)    24 (1.2%)    13 (1.7%)    12 (1.0%)\n",
       "T3N1M1    47 (1.2%)    23 (1.2%)    11 (1.4%)    13 (1.1%)\n",
       "T2N3M0    44 (1.1%)    23 (1.2%)     8 (1.0%)    13 (1.1%)\n",
       "T4N3M0    41 (1.1%)    20 (1.0%)     6 (0.8%)    15 (1.3%)\n",
       "T3N0M1    37 (0.9%)    18 (0.9%)     9 (1.2%)    10 (0.9%)\n",
       "T1N2M0    32 (0.8%)    17 (0.9%)     7 (0.9%)     8 (0.7%)\n",
       "T3N2M1    32 (0.8%)    17 (0.9%)     6 (0.8%)     9 (0.8%)\n",
       "T4N2M1    24 (0.6%)    14 (0.7%)     3 (0.4%)     7 (0.6%)\n",
       "T4N1M1    24 (0.6%)    14 (0.7%)     5 (0.6%)     5 (0.4%)\n",
       "T2N0M1    21 (0.5%)     9 (0.5%)     4 (0.5%)     8 (0.7%)\n",
       "T2N1M1    12 (0.3%)     3 (0.2%)     3 (0.4%)     6 (0.5%)\n",
       "T4N0M1    12 (0.3%)     5 (0.3%)     2 (0.3%)     5 (0.4%)\n",
       "T3N3M1    11 (0.3%)     8 (0.4%)          NaN     3 (0.3%)\n",
       "T4N3M1    10 (0.3%)     4 (0.2%)     4 (0.5%)     2 (0.2%)\n",
       "T2N2M1     7 (0.2%)     4 (0.2%)          NaN     3 (0.3%)\n",
       "T1N0M1     7 (0.2%)     4 (0.2%)     1 (0.1%)     2 (0.2%)\n",
       "T1N1M1     5 (0.1%)     4 (0.2%)          NaN     1 (0.1%)\n",
       "T1N3M0     3 (0.1%)     1 (0.1%)          NaN     2 (0.2%)\n",
       "T2N3M1     1 (0.0%)     1 (0.1%)          NaN          NaN"
      ]
     },
     "execution_count": 25,
     "metadata": {},
     "output_type": "execute_result"
    }
   ],
   "source": [
    "utils.value_dist({\n",
    "    \"all\": df_data[\"tnm_label\"],\n",
    "    \"train\": df_train[\"tnm_label\"],\n",
    "    \"val\": df_val[\"tnm_label\"],\n",
    "    \"test\": df_test[\"tnm_label\"]\n",
    "})"
   ]
  },
  {
   "cell_type": "markdown",
   "metadata": {},
   "source": [
    "We present the same information in a graphical way:"
   ]
  },
  {
   "cell_type": "code",
   "execution_count": 26,
   "metadata": {},
   "outputs": [],
   "source": [
    "df_label_dist = pd.DataFrame({\n",
    "    \"all\": df_data[\"tnm_label\"].value_counts(normalize=True).to_dict(),\n",
    "    \"train\": df_train[\"tnm_label\"].value_counts(normalize=True).to_dict(),\n",
    "    \"val\": df_val[\"tnm_label\"].value_counts(normalize=True).to_dict(),\n",
    "    \"test\": df_test[\"tnm_label\"].value_counts(normalize=True).to_dict()\n",
    "})"
   ]
  },
  {
   "cell_type": "code",
   "execution_count": 27,
   "metadata": {},
   "outputs": [
    {
     "data": {
      "image/png": "[encoded data removed]",
      "text/plain": [
       "<Figure size 1500x1000 with 1 Axes>"
      ]
     },
     "metadata": {},
     "output_type": "display_data"
    }
   ],
   "source": [
    "fig, ax = plt.subplots(figsize=(15, 10))\n",
    "df_label_dist.plot(kind='bar', ax=ax)\n",
    "ax.set_title('Distribution of TNM Stageing across Different Subsets')\n",
    "ax.set_xlabel('TNM Stage')\n",
    "ax.set_ylabel('Number of Patients')\n",
    "ax.legend(title=\"Dataset Subsets\")\n",
    "plt.show()"
   ]
  },
  {
   "cell_type": "markdown",
   "metadata": {},
   "source": [
    "# Stratified split"
   ]
  },
  {
   "cell_type": "code",
   "execution_count": 28,
   "metadata": {},
   "outputs": [],
   "source": [
    "random_seed = 0"
   ]
  },
  {
   "cell_type": "markdown",
   "metadata": {},
   "source": [
    "We remove classes with only 1 sample:"
   ]
  },
  {
   "cell_type": "code",
   "execution_count": 29,
   "metadata": {},
   "outputs": [
    {
     "data": {
      "text/plain": [
       "(3898, 6)"
      ]
     },
     "execution_count": 29,
     "metadata": {},
     "output_type": "execute_result"
    }
   ],
   "source": [
    "df_data.shape"
   ]
  },
  {
   "cell_type": "code",
   "execution_count": 30,
   "metadata": {},
   "outputs": [],
   "source": [
    "df_data = df_data[df_data[\"tnm_label\"] != \"T2N3M1\"]"
   ]
  },
  {
   "cell_type": "code",
   "execution_count": 31,
   "metadata": {},
   "outputs": [
    {
     "data": {
      "text/plain": [
       "(3897, 6)"
      ]
     },
     "execution_count": 31,
     "metadata": {},
     "output_type": "execute_result"
    }
   ],
   "source": [
    "df_data.shape"
   ]
  },
  {
   "cell_type": "markdown",
   "metadata": {},
   "source": [
    "## Test split"
   ]
  },
  {
   "cell_type": "code",
   "execution_count": 32,
   "metadata": {},
   "outputs": [],
   "source": [
    "df_train_val, df_test = train_test_split(\n",
    "    df_data,\n",
    "    test_size=test_size,\n",
    "    random_state=random_seed,\n",
    "    stratify=df_data[\"tnm_label\"]\n",
    ")"
   ]
  },
  {
   "cell_type": "code",
   "execution_count": 33,
   "metadata": {},
   "outputs": [
    {
     "data": {
      "text/plain": [
       "(1170, 6)"
      ]
     },
     "execution_count": 33,
     "metadata": {},
     "output_type": "execute_result"
    }
   ],
   "source": [
    "df_test.shape"
   ]
  },
  {
   "cell_type": "markdown",
   "metadata": {},
   "source": [
    "## Val split"
   ]
  },
  {
   "cell_type": "code",
   "execution_count": 34,
   "metadata": {},
   "outputs": [],
   "source": [
    "# Adjust val_size proportionally to the remaining data\n",
    "val_size_adjusted = val_size / (1 - test_size)  # Because test set is already removed"
   ]
  },
  {
   "cell_type": "code",
   "execution_count": 35,
   "metadata": {},
   "outputs": [],
   "source": [
    "df_train, df_val = train_test_split(\n",
    "    df_train_val,\n",
    "    test_size=val_size_adjusted,\n",
    "    random_state=random_seed,\n",
    "    stratify=df_train_val[\"tnm_label\"]\n",
    ")"
   ]
  },
  {
   "cell_type": "code",
   "execution_count": 36,
   "metadata": {},
   "outputs": [
    {
     "data": {
      "text/plain": [
       "(780, 6)"
      ]
     },
     "execution_count": 36,
     "metadata": {},
     "output_type": "execute_result"
    }
   ],
   "source": [
    "df_val.shape"
   ]
  },
  {
   "cell_type": "code",
   "execution_count": 37,
   "metadata": {},
   "outputs": [
    {
     "data": {
      "text/plain": [
       "(1947, 6)"
      ]
     },
     "execution_count": 37,
     "metadata": {},
     "output_type": "execute_result"
    }
   ],
   "source": [
    "df_train.shape"
   ]
  },
  {
   "cell_type": "code",
   "execution_count": 38,
   "metadata": {},
   "outputs": [
    {
     "data": {
      "text/plain": [
       "(0.4996150885296382, 0.20015396458814472, 0.3002309468822171)"
      ]
     },
     "execution_count": 38,
     "metadata": {},
     "output_type": "execute_result"
    }
   ],
   "source": [
    "df_train.shape[0] / df_data.shape[0], df_val.shape[0] / df_data.shape[0], df_test.shape[0] / df_data.shape[0]"
   ]
  },
  {
   "cell_type": "code",
   "execution_count": 39,
   "metadata": {},
   "outputs": [],
   "source": [
    "# Sanity check\n",
    "assert df_train.shape[0] + df_val.shape[0] + df_test.shape[0] == df_data.shape[0]\n",
    "assert len(set(df_train[\"patient_id\"].values).intersection(set(df_val[\"patient_id\"].values))) == 0\n",
    "assert len(set(df_train[\"patient_id\"].values).intersection(set(df_test[\"patient_id\"].values))) == 0\n",
    "assert len(set(df_val[\"patient_id\"].values).intersection(set(df_test[\"patient_id\"].values))) == 0"
   ]
  },
  {
   "cell_type": "markdown",
   "metadata": {},
   "source": [
    "We ensure that the distribution of the labels in the three subsets is similar to the label distribution of the entire set:"
   ]
  },
  {
   "cell_type": "code",
   "execution_count": 40,
   "metadata": {},
   "outputs": [
    {
     "data": {
      "text/html": [
       "<div>\n",
       "<style scoped>\n",
       "    .dataframe tbody tr th:only-of-type {\n",
       "        vertical-align: middle;\n",
       "    }\n",
       "\n",
       "    .dataframe tbody tr th {\n",
       "        vertical-align: top;\n",
       "    }\n",
       "\n",
       "    .dataframe thead th {\n",
       "        text-align: right;\n",
       "    }\n",
       "</style>\n",
       "<table border=\"1\" class=\"dataframe\">\n",
       "  <thead>\n",
       "    <tr style=\"text-align: right;\">\n",
       "      <th></th>\n",
       "      <th>all</th>\n",
       "      <th>train</th>\n",
       "      <th>val</th>\n",
       "      <th>test</th>\n",
       "    </tr>\n",
       "  </thead>\n",
       "  <tbody>\n",
       "    <tr>\n",
       "      <th>T2N0M0</th>\n",
       "      <td>778 (20.0%)</td>\n",
       "      <td>389 (20.0%)</td>\n",
       "      <td>156 (20.0%)</td>\n",
       "      <td>233 (19.9%)</td>\n",
       "    </tr>\n",
       "    <tr>\n",
       "      <th>T1N0M0</th>\n",
       "      <td>692 (17.8%)</td>\n",
       "      <td>345 (17.7%)</td>\n",
       "      <td>139 (17.8%)</td>\n",
       "      <td>208 (17.8%)</td>\n",
       "    </tr>\n",
       "    <tr>\n",
       "      <th>T3N0M0</th>\n",
       "      <td>545 (14.0%)</td>\n",
       "      <td>272 (14.0%)</td>\n",
       "      <td>109 (14.0%)</td>\n",
       "      <td>164 (14.0%)</td>\n",
       "    </tr>\n",
       "    <tr>\n",
       "      <th>T2N1M0</th>\n",
       "      <td>371 (9.5%)</td>\n",
       "      <td>186 (9.6%)</td>\n",
       "      <td>74 (9.5%)</td>\n",
       "      <td>111 (9.5%)</td>\n",
       "    </tr>\n",
       "    <tr>\n",
       "      <th>T3N1M0</th>\n",
       "      <td>332 (8.5%)</td>\n",
       "      <td>166 (8.5%)</td>\n",
       "      <td>66 (8.5%)</td>\n",
       "      <td>100 (8.5%)</td>\n",
       "    </tr>\n",
       "    <tr>\n",
       "      <th>T4N0M0</th>\n",
       "      <td>169 (4.3%)</td>\n",
       "      <td>84 (4.3%)</td>\n",
       "      <td>34 (4.4%)</td>\n",
       "      <td>51 (4.4%)</td>\n",
       "    </tr>\n",
       "    <tr>\n",
       "      <th>T3N2M0</th>\n",
       "      <td>143 (3.7%)</td>\n",
       "      <td>71 (3.6%)</td>\n",
       "      <td>29 (3.7%)</td>\n",
       "      <td>43 (3.7%)</td>\n",
       "    </tr>\n",
       "    <tr>\n",
       "      <th>T2N2M0</th>\n",
       "      <td>143 (3.7%)</td>\n",
       "      <td>71 (3.6%)</td>\n",
       "      <td>29 (3.7%)</td>\n",
       "      <td>43 (3.7%)</td>\n",
       "    </tr>\n",
       "    <tr>\n",
       "      <th>T1N1M0</th>\n",
       "      <td>133 (3.4%)</td>\n",
       "      <td>66 (3.4%)</td>\n",
       "      <td>27 (3.5%)</td>\n",
       "      <td>40 (3.4%)</td>\n",
       "    </tr>\n",
       "    <tr>\n",
       "      <th>T4N2M0</th>\n",
       "      <td>91 (2.3%)</td>\n",
       "      <td>46 (2.4%)</td>\n",
       "      <td>18 (2.3%)</td>\n",
       "      <td>27 (2.3%)</td>\n",
       "    </tr>\n",
       "    <tr>\n",
       "      <th>T4N1M0</th>\n",
       "      <td>82 (2.1%)</td>\n",
       "      <td>41 (2.1%)</td>\n",
       "      <td>16 (2.1%)</td>\n",
       "      <td>25 (2.1%)</td>\n",
       "    </tr>\n",
       "    <tr>\n",
       "      <th>T3N3M0</th>\n",
       "      <td>49 (1.3%)</td>\n",
       "      <td>24 (1.2%)</td>\n",
       "      <td>10 (1.3%)</td>\n",
       "      <td>15 (1.3%)</td>\n",
       "    </tr>\n",
       "    <tr>\n",
       "      <th>T3N1M1</th>\n",
       "      <td>47 (1.2%)</td>\n",
       "      <td>23 (1.2%)</td>\n",
       "      <td>10 (1.3%)</td>\n",
       "      <td>14 (1.2%)</td>\n",
       "    </tr>\n",
       "    <tr>\n",
       "      <th>T2N3M0</th>\n",
       "      <td>44 (1.1%)</td>\n",
       "      <td>22 (1.1%)</td>\n",
       "      <td>9 (1.2%)</td>\n",
       "      <td>13 (1.1%)</td>\n",
       "    </tr>\n",
       "    <tr>\n",
       "      <th>T4N3M0</th>\n",
       "      <td>41 (1.1%)</td>\n",
       "      <td>21 (1.1%)</td>\n",
       "      <td>8 (1.0%)</td>\n",
       "      <td>12 (1.0%)</td>\n",
       "    </tr>\n",
       "    <tr>\n",
       "      <th>T3N0M1</th>\n",
       "      <td>37 (0.9%)</td>\n",
       "      <td>18 (0.9%)</td>\n",
       "      <td>8 (1.0%)</td>\n",
       "      <td>11 (0.9%)</td>\n",
       "    </tr>\n",
       "    <tr>\n",
       "      <th>T1N2M0</th>\n",
       "      <td>32 (0.8%)</td>\n",
       "      <td>16 (0.8%)</td>\n",
       "      <td>6 (0.8%)</td>\n",
       "      <td>10 (0.9%)</td>\n",
       "    </tr>\n",
       "    <tr>\n",
       "      <th>T3N2M1</th>\n",
       "      <td>32 (0.8%)</td>\n",
       "      <td>16 (0.8%)</td>\n",
       "      <td>6 (0.8%)</td>\n",
       "      <td>10 (0.9%)</td>\n",
       "    </tr>\n",
       "    <tr>\n",
       "      <th>T4N1M1</th>\n",
       "      <td>24 (0.6%)</td>\n",
       "      <td>12 (0.6%)</td>\n",
       "      <td>5 (0.6%)</td>\n",
       "      <td>7 (0.6%)</td>\n",
       "    </tr>\n",
       "    <tr>\n",
       "      <th>T4N2M1</th>\n",
       "      <td>24 (0.6%)</td>\n",
       "      <td>12 (0.6%)</td>\n",
       "      <td>5 (0.6%)</td>\n",
       "      <td>7 (0.6%)</td>\n",
       "    </tr>\n",
       "    <tr>\n",
       "      <th>T2N0M1</th>\n",
       "      <td>21 (0.5%)</td>\n",
       "      <td>11 (0.6%)</td>\n",
       "      <td>4 (0.5%)</td>\n",
       "      <td>6 (0.5%)</td>\n",
       "    </tr>\n",
       "    <tr>\n",
       "      <th>T2N1M1</th>\n",
       "      <td>12 (0.3%)</td>\n",
       "      <td>6 (0.3%)</td>\n",
       "      <td>2 (0.3%)</td>\n",
       "      <td>4 (0.3%)</td>\n",
       "    </tr>\n",
       "    <tr>\n",
       "      <th>T4N0M1</th>\n",
       "      <td>12 (0.3%)</td>\n",
       "      <td>6 (0.3%)</td>\n",
       "      <td>2 (0.3%)</td>\n",
       "      <td>4 (0.3%)</td>\n",
       "    </tr>\n",
       "    <tr>\n",
       "      <th>T3N3M1</th>\n",
       "      <td>11 (0.3%)</td>\n",
       "      <td>6 (0.3%)</td>\n",
       "      <td>2 (0.3%)</td>\n",
       "      <td>3 (0.3%)</td>\n",
       "    </tr>\n",
       "    <tr>\n",
       "      <th>T4N3M1</th>\n",
       "      <td>10 (0.3%)</td>\n",
       "      <td>5 (0.3%)</td>\n",
       "      <td>2 (0.3%)</td>\n",
       "      <td>3 (0.3%)</td>\n",
       "    </tr>\n",
       "    <tr>\n",
       "      <th>T1N0M1</th>\n",
       "      <td>7 (0.2%)</td>\n",
       "      <td>4 (0.2%)</td>\n",
       "      <td>1 (0.1%)</td>\n",
       "      <td>2 (0.2%)</td>\n",
       "    </tr>\n",
       "    <tr>\n",
       "      <th>T2N2M1</th>\n",
       "      <td>7 (0.2%)</td>\n",
       "      <td>4 (0.2%)</td>\n",
       "      <td>1 (0.1%)</td>\n",
       "      <td>2 (0.2%)</td>\n",
       "    </tr>\n",
       "    <tr>\n",
       "      <th>T1N1M1</th>\n",
       "      <td>5 (0.1%)</td>\n",
       "      <td>3 (0.2%)</td>\n",
       "      <td>1 (0.1%)</td>\n",
       "      <td>1 (0.1%)</td>\n",
       "    </tr>\n",
       "    <tr>\n",
       "      <th>T1N3M0</th>\n",
       "      <td>3 (0.1%)</td>\n",
       "      <td>1 (0.1%)</td>\n",
       "      <td>1 (0.1%)</td>\n",
       "      <td>1 (0.1%)</td>\n",
       "    </tr>\n",
       "  </tbody>\n",
       "</table>\n",
       "</div>"
      ],
      "text/plain": [
       "                all        train          val         test\n",
       "T2N0M0  778 (20.0%)  389 (20.0%)  156 (20.0%)  233 (19.9%)\n",
       "T1N0M0  692 (17.8%)  345 (17.7%)  139 (17.8%)  208 (17.8%)\n",
       "T3N0M0  545 (14.0%)  272 (14.0%)  109 (14.0%)  164 (14.0%)\n",
       "T2N1M0   371 (9.5%)   186 (9.6%)    74 (9.5%)   111 (9.5%)\n",
       "T3N1M0   332 (8.5%)   166 (8.5%)    66 (8.5%)   100 (8.5%)\n",
       "T4N0M0   169 (4.3%)    84 (4.3%)    34 (4.4%)    51 (4.4%)\n",
       "T3N2M0   143 (3.7%)    71 (3.6%)    29 (3.7%)    43 (3.7%)\n",
       "T2N2M0   143 (3.7%)    71 (3.6%)    29 (3.7%)    43 (3.7%)\n",
       "T1N1M0   133 (3.4%)    66 (3.4%)    27 (3.5%)    40 (3.4%)\n",
       "T4N2M0    91 (2.3%)    46 (2.4%)    18 (2.3%)    27 (2.3%)\n",
       "T4N1M0    82 (2.1%)    41 (2.1%)    16 (2.1%)    25 (2.1%)\n",
       "T3N3M0    49 (1.3%)    24 (1.2%)    10 (1.3%)    15 (1.3%)\n",
       "T3N1M1    47 (1.2%)    23 (1.2%)    10 (1.3%)    14 (1.2%)\n",
       "T2N3M0    44 (1.1%)    22 (1.1%)     9 (1.2%)    13 (1.1%)\n",
       "T4N3M0    41 (1.1%)    21 (1.1%)     8 (1.0%)    12 (1.0%)\n",
       "T3N0M1    37 (0.9%)    18 (0.9%)     8 (1.0%)    11 (0.9%)\n",
       "T1N2M0    32 (0.8%)    16 (0.8%)     6 (0.8%)    10 (0.9%)\n",
       "T3N2M1    32 (0.8%)    16 (0.8%)     6 (0.8%)    10 (0.9%)\n",
       "T4N1M1    24 (0.6%)    12 (0.6%)     5 (0.6%)     7 (0.6%)\n",
       "T4N2M1    24 (0.6%)    12 (0.6%)     5 (0.6%)     7 (0.6%)\n",
       "T2N0M1    21 (0.5%)    11 (0.6%)     4 (0.5%)     6 (0.5%)\n",
       "T2N1M1    12 (0.3%)     6 (0.3%)     2 (0.3%)     4 (0.3%)\n",
       "T4N0M1    12 (0.3%)     6 (0.3%)     2 (0.3%)     4 (0.3%)\n",
       "T3N3M1    11 (0.3%)     6 (0.3%)     2 (0.3%)     3 (0.3%)\n",
       "T4N3M1    10 (0.3%)     5 (0.3%)     2 (0.3%)     3 (0.3%)\n",
       "T1N0M1     7 (0.2%)     4 (0.2%)     1 (0.1%)     2 (0.2%)\n",
       "T2N2M1     7 (0.2%)     4 (0.2%)     1 (0.1%)     2 (0.2%)\n",
       "T1N1M1     5 (0.1%)     3 (0.2%)     1 (0.1%)     1 (0.1%)\n",
       "T1N3M0     3 (0.1%)     1 (0.1%)     1 (0.1%)     1 (0.1%)"
      ]
     },
     "execution_count": 40,
     "metadata": {},
     "output_type": "execute_result"
    }
   ],
   "source": [
    "utils.value_dist({\n",
    "    \"all\": df_data[\"tnm_label\"],\n",
    "    \"train\": df_train[\"tnm_label\"],\n",
    "    \"val\": df_val[\"tnm_label\"],\n",
    "    \"test\": df_test[\"tnm_label\"]\n",
    "})"
   ]
  },
  {
   "cell_type": "markdown",
   "metadata": {},
   "source": [
    "We present the same information in a graphical way:"
   ]
  },
  {
   "cell_type": "code",
   "execution_count": 41,
   "metadata": {},
   "outputs": [],
   "source": [
    "df_label_dist = pd.DataFrame({\n",
    "    \"all\": df_data[\"tnm_label\"].value_counts(normalize=True).to_dict(),\n",
    "    \"train\": df_train[\"tnm_label\"].value_counts(normalize=True).to_dict(),\n",
    "    \"val\": df_val[\"tnm_label\"].value_counts(normalize=True).to_dict(),\n",
    "    \"test\": df_test[\"tnm_label\"].value_counts(normalize=True).to_dict()\n",
    "})"
   ]
  },
  {
   "cell_type": "code",
   "execution_count": 42,
   "metadata": {},
   "outputs": [
    {
     "data": {
      "image/png": "[encoded data removed]",
      "text/plain": [
       "<Figure size 1500x1000 with 1 Axes>"
      ]
     },
     "metadata": {},
     "output_type": "display_data"
    }
   ],
   "source": [
    "fig, ax = plt.subplots(figsize=(15, 10))\n",
    "df_label_dist.plot(kind='bar', ax=ax)\n",
    "ax.set_title('Distribution of TNM Stageing across Different Subsets')\n",
    "ax.set_xlabel('TNM Stage')\n",
    "ax.set_ylabel('Number of Patients')\n",
    "ax.legend(title=\"Dataset Subsets\")\n",
    "plt.show()"
   ]
  },
  {
   "cell_type": "markdown",
   "metadata": {},
   "source": [
    "We also ensure that the distributions of individual T, N, and M labels are stratified:"
   ]
  },
  {
   "cell_type": "code",
   "execution_count": 43,
   "metadata": {},
   "outputs": [
    {
     "data": {
      "text/html": [
       "<div>\n",
       "<style scoped>\n",
       "    .dataframe tbody tr th:only-of-type {\n",
       "        vertical-align: middle;\n",
       "    }\n",
       "\n",
       "    .dataframe tbody tr th {\n",
       "        vertical-align: top;\n",
       "    }\n",
       "\n",
       "    .dataframe thead th {\n",
       "        text-align: right;\n",
       "    }\n",
       "</style>\n",
       "<table border=\"1\" class=\"dataframe\">\n",
       "  <thead>\n",
       "    <tr style=\"text-align: right;\">\n",
       "      <th></th>\n",
       "      <th>all</th>\n",
       "      <th>train</th>\n",
       "      <th>val</th>\n",
       "      <th>test</th>\n",
       "    </tr>\n",
       "  </thead>\n",
       "  <tbody>\n",
       "    <tr>\n",
       "      <th>T2</th>\n",
       "      <td>1376 (35.3%)</td>\n",
       "      <td>689 (35.4%)</td>\n",
       "      <td>275 (35.3%)</td>\n",
       "      <td>412 (35.2%)</td>\n",
       "    </tr>\n",
       "    <tr>\n",
       "      <th>T3</th>\n",
       "      <td>1196 (30.7%)</td>\n",
       "      <td>596 (30.6%)</td>\n",
       "      <td>240 (30.8%)</td>\n",
       "      <td>360 (30.8%)</td>\n",
       "    </tr>\n",
       "    <tr>\n",
       "      <th>T1</th>\n",
       "      <td>872 (22.4%)</td>\n",
       "      <td>435 (22.3%)</td>\n",
       "      <td>175 (22.4%)</td>\n",
       "      <td>262 (22.4%)</td>\n",
       "    </tr>\n",
       "    <tr>\n",
       "      <th>T4</th>\n",
       "      <td>453 (11.6%)</td>\n",
       "      <td>227 (11.7%)</td>\n",
       "      <td>90 (11.5%)</td>\n",
       "      <td>136 (11.6%)</td>\n",
       "    </tr>\n",
       "  </tbody>\n",
       "</table>\n",
       "</div>"
      ],
      "text/plain": [
       "             all        train          val         test\n",
       "T2  1376 (35.3%)  689 (35.4%)  275 (35.3%)  412 (35.2%)\n",
       "T3  1196 (30.7%)  596 (30.6%)  240 (30.8%)  360 (30.8%)\n",
       "T1   872 (22.4%)  435 (22.3%)  175 (22.4%)  262 (22.4%)\n",
       "T4   453 (11.6%)  227 (11.7%)   90 (11.5%)  136 (11.6%)"
      ]
     },
     "execution_count": 43,
     "metadata": {},
     "output_type": "execute_result"
    }
   ],
   "source": [
    "utils.value_dist({\n",
    "    \"all\": df_data[\"t_label\"],\n",
    "    \"train\": df_train[\"t_label\"],\n",
    "    \"val\": df_val[\"t_label\"],\n",
    "    \"test\": df_test[\"t_label\"]\n",
    "})"
   ]
  },
  {
   "cell_type": "code",
   "execution_count": 44,
   "metadata": {},
   "outputs": [
    {
     "data": {
      "text/html": [
       "<div>\n",
       "<style scoped>\n",
       "    .dataframe tbody tr th:only-of-type {\n",
       "        vertical-align: middle;\n",
       "    }\n",
       "\n",
       "    .dataframe tbody tr th {\n",
       "        vertical-align: top;\n",
       "    }\n",
       "\n",
       "    .dataframe thead th {\n",
       "        text-align: right;\n",
       "    }\n",
       "</style>\n",
       "<table border=\"1\" class=\"dataframe\">\n",
       "  <thead>\n",
       "    <tr style=\"text-align: right;\">\n",
       "      <th></th>\n",
       "      <th>all</th>\n",
       "      <th>train</th>\n",
       "      <th>val</th>\n",
       "      <th>test</th>\n",
       "    </tr>\n",
       "  </thead>\n",
       "  <tbody>\n",
       "    <tr>\n",
       "      <th>N0</th>\n",
       "      <td>2261 (58.0%)</td>\n",
       "      <td>1129 (58.0%)</td>\n",
       "      <td>453 (58.1%)</td>\n",
       "      <td>679 (58.0%)</td>\n",
       "    </tr>\n",
       "    <tr>\n",
       "      <th>N1</th>\n",
       "      <td>1006 (25.8%)</td>\n",
       "      <td>503 (25.8%)</td>\n",
       "      <td>201 (25.8%)</td>\n",
       "      <td>302 (25.8%)</td>\n",
       "    </tr>\n",
       "    <tr>\n",
       "      <th>N2</th>\n",
       "      <td>472 (12.1%)</td>\n",
       "      <td>236 (12.1%)</td>\n",
       "      <td>94 (12.1%)</td>\n",
       "      <td>142 (12.1%)</td>\n",
       "    </tr>\n",
       "    <tr>\n",
       "      <th>N3</th>\n",
       "      <td>158 (4.1%)</td>\n",
       "      <td>79 (4.1%)</td>\n",
       "      <td>32 (4.1%)</td>\n",
       "      <td>47 (4.0%)</td>\n",
       "    </tr>\n",
       "  </tbody>\n",
       "</table>\n",
       "</div>"
      ],
      "text/plain": [
       "             all         train          val         test\n",
       "N0  2261 (58.0%)  1129 (58.0%)  453 (58.1%)  679 (58.0%)\n",
       "N1  1006 (25.8%)   503 (25.8%)  201 (25.8%)  302 (25.8%)\n",
       "N2   472 (12.1%)   236 (12.1%)   94 (12.1%)  142 (12.1%)\n",
       "N3    158 (4.1%)     79 (4.1%)    32 (4.1%)    47 (4.0%)"
      ]
     },
     "execution_count": 44,
     "metadata": {},
     "output_type": "execute_result"
    }
   ],
   "source": [
    "utils.value_dist({\n",
    "    \"all\": df_data[\"n_label\"],\n",
    "    \"train\": df_train[\"n_label\"],\n",
    "    \"val\": df_val[\"n_label\"],\n",
    "    \"test\": df_test[\"n_label\"]\n",
    "})"
   ]
  },
  {
   "cell_type": "code",
   "execution_count": 45,
   "metadata": {},
   "outputs": [
    {
     "data": {
      "text/html": [
       "<div>\n",
       "<style scoped>\n",
       "    .dataframe tbody tr th:only-of-type {\n",
       "        vertical-align: middle;\n",
       "    }\n",
       "\n",
       "    .dataframe tbody tr th {\n",
       "        vertical-align: top;\n",
       "    }\n",
       "\n",
       "    .dataframe thead th {\n",
       "        text-align: right;\n",
       "    }\n",
       "</style>\n",
       "<table border=\"1\" class=\"dataframe\">\n",
       "  <thead>\n",
       "    <tr style=\"text-align: right;\">\n",
       "      <th></th>\n",
       "      <th>all</th>\n",
       "      <th>train</th>\n",
       "      <th>val</th>\n",
       "      <th>test</th>\n",
       "    </tr>\n",
       "  </thead>\n",
       "  <tbody>\n",
       "    <tr>\n",
       "      <th>M0</th>\n",
       "      <td>3648 (93.6%)</td>\n",
       "      <td>1821 (93.5%)</td>\n",
       "      <td>731 (93.7%)</td>\n",
       "      <td>1096 (93.7%)</td>\n",
       "    </tr>\n",
       "    <tr>\n",
       "      <th>M1</th>\n",
       "      <td>249 (6.4%)</td>\n",
       "      <td>126 (6.5%)</td>\n",
       "      <td>49 (6.3%)</td>\n",
       "      <td>74 (6.3%)</td>\n",
       "    </tr>\n",
       "  </tbody>\n",
       "</table>\n",
       "</div>"
      ],
      "text/plain": [
       "             all         train          val          test\n",
       "M0  3648 (93.6%)  1821 (93.5%)  731 (93.7%)  1096 (93.7%)\n",
       "M1    249 (6.4%)    126 (6.5%)    49 (6.3%)     74 (6.3%)"
      ]
     },
     "execution_count": 45,
     "metadata": {},
     "output_type": "execute_result"
    }
   ],
   "source": [
    "utils.value_dist({\n",
    "    \"all\": df_data[\"m_label\"],\n",
    "    \"train\": df_train[\"m_label\"],\n",
    "    \"val\": df_val[\"m_label\"],\n",
    "    \"test\": df_test[\"m_label\"]\n",
    "})"
   ]
  },
  {
   "cell_type": "markdown",
   "metadata": {},
   "source": [
    "# Save\n",
    "\n",
    "We finally save the training, validation and test subsets:"
   ]
  },
  {
   "cell_type": "code",
   "execution_count": 46,
   "metadata": {},
   "outputs": [],
   "source": [
    "df_train.to_csv(\n",
    "    os.path.join(data_dir, \"train_tcga_reports_tnm_stage.csv\"),\n",
    "    sep=',',\n",
    "    index=False,\n",
    "    header=True\n",
    ")"
   ]
  },
  {
   "cell_type": "code",
   "execution_count": 47,
   "metadata": {},
   "outputs": [],
   "source": [
    "df_val.to_csv(\n",
    "    os.path.join(data_dir, \"val_tcga_reports_tnm_stage.csv\"),\n",
    "    sep=',',\n",
    "    index=False,\n",
    "    header=True\n",
    ")"
   ]
  },
  {
   "cell_type": "code",
   "execution_count": 48,
   "metadata": {},
   "outputs": [],
   "source": [
    "df_test.to_csv(\n",
    "    os.path.join(data_dir, \"test_tcga_reports_tnm_stage.csv\"),\n",
    "    sep=',',\n",
    "    index=False,\n",
    "    header=True\n",
    ")"
   ]
  }
 ],
 "metadata": {
  "kernelspec": {
   "display_name": "ai-campus",
   "language": "python",
   "name": "python3"
  },
  "language_info": {
   "codemirror_mode": {
    "name": "ipython",
    "version": 3
   },
   "file_extension": ".py",
   "mimetype": "text/x-python",
   "name": "python",
   "nbconvert_exporter": "python",
   "pygments_lexer": "ipython3",
   "version": "3.13.2"
  }
 },
 "nbformat": 4,
 "nbformat_minor": 2
}
