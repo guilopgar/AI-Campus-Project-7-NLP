{
 "cells": [
  {
   "cell_type": "code",
   "execution_count": 1,
   "metadata": {},
   "outputs": [],
   "source": [
    "import os\n",
    "import pandas as pd"
   ]
  },
  {
   "cell_type": "markdown",
   "metadata": {},
   "source": [
    "# Data loading"
   ]
  },
  {
   "cell_type": "code",
   "execution_count": 2,
   "metadata": {},
   "outputs": [],
   "source": [
    "data_dir = \"../../data\""
   ]
  },
  {
   "cell_type": "markdown",
   "metadata": {},
   "source": [
    "## Corpus"
   ]
  },
  {
   "cell_type": "code",
   "execution_count": 3,
   "metadata": {},
   "outputs": [],
   "source": [
    "df_corpus = pd.read_csv(\n",
    "    os.path.join(data_dir, \"corpus\", \"TCGA_Reports.csv\"),\n",
    "    sep=',',\n",
    "    header=0\n",
    ")"
   ]
  },
  {
   "cell_type": "code",
   "execution_count": 4,
   "metadata": {},
   "outputs": [
    {
     "data": {
      "text/plain": [
       "(9523, 2)"
      ]
     },
     "execution_count": 4,
     "metadata": {},
     "output_type": "execute_result"
    }
   ],
   "source": [
    "df_corpus.shape"
   ]
  },
  {
   "cell_type": "code",
   "execution_count": 5,
   "metadata": {},
   "outputs": [
    {
     "data": {
      "text/html": [
       "<div>\n",
       "<style scoped>\n",
       "    .dataframe tbody tr th:only-of-type {\n",
       "        vertical-align: middle;\n",
       "    }\n",
       "\n",
       "    .dataframe tbody tr th {\n",
       "        vertical-align: top;\n",
       "    }\n",
       "\n",
       "    .dataframe thead th {\n",
       "        text-align: right;\n",
       "    }\n",
       "</style>\n",
       "<table border=\"1\" class=\"dataframe\">\n",
       "  <thead>\n",
       "    <tr style=\"text-align: right;\">\n",
       "      <th></th>\n",
       "      <th>patient_filename</th>\n",
       "      <th>text</th>\n",
       "    </tr>\n",
       "  </thead>\n",
       "  <tbody>\n",
       "    <tr>\n",
       "      <th>0</th>\n",
       "      <td>TCGA-BP-5195.25c0b433-5557-4165-922e-2c1eac9c26f0</td>\n",
       "      <td>Date of Recelpt: Clinical Diagnosis &amp; History:...</td>\n",
       "    </tr>\n",
       "    <tr>\n",
       "      <th>1</th>\n",
       "      <td>TCGA-D7-8573.b7306a47-697d-4ed3-bbe1-81d49674a8f8</td>\n",
       "      <td>Material: 1) Material: stomach, Method of coll...</td>\n",
       "    </tr>\n",
       "    <tr>\n",
       "      <th>2</th>\n",
       "      <td>TCGA-EI-7004.13591eed-30e5-47a3-91be-7a370663d2d4</td>\n",
       "      <td>page 1 / 1. copy No. 3. Examination: Histopath...</td>\n",
       "    </tr>\n",
       "    <tr>\n",
       "      <th>3</th>\n",
       "      <td>TCGA-EB-A82B.23E186C6-739C-4EF1-8788-79AA89C6E87A</td>\n",
       "      <td>Patient ID: Gross Description: A mass is locat...</td>\n",
       "    </tr>\n",
       "    <tr>\n",
       "      <th>4</th>\n",
       "      <td>TCGA-A6-3808.e1505f65-72ef-438d-a5e1-93ed8bf6635d</td>\n",
       "      <td>SPECIMEN. Right colon. CLINICAL NOTES. PRE-OP ...</td>\n",
       "    </tr>\n",
       "  </tbody>\n",
       "</table>\n",
       "</div>"
      ],
      "text/plain": [
       "                                    patient_filename  \\\n",
       "0  TCGA-BP-5195.25c0b433-5557-4165-922e-2c1eac9c26f0   \n",
       "1  TCGA-D7-8573.b7306a47-697d-4ed3-bbe1-81d49674a8f8   \n",
       "2  TCGA-EI-7004.13591eed-30e5-47a3-91be-7a370663d2d4   \n",
       "3  TCGA-EB-A82B.23E186C6-739C-4EF1-8788-79AA89C6E87A   \n",
       "4  TCGA-A6-3808.e1505f65-72ef-438d-a5e1-93ed8bf6635d   \n",
       "\n",
       "                                                text  \n",
       "0  Date of Recelpt: Clinical Diagnosis & History:...  \n",
       "1  Material: 1) Material: stomach, Method of coll...  \n",
       "2  page 1 / 1. copy No. 3. Examination: Histopath...  \n",
       "3  Patient ID: Gross Description: A mass is locat...  \n",
       "4  SPECIMEN. Right colon. CLINICAL NOTES. PRE-OP ...  "
      ]
     },
     "execution_count": 5,
     "metadata": {},
     "output_type": "execute_result"
    }
   ],
   "source": [
    "df_corpus.head()"
   ]
  },
  {
   "cell_type": "markdown",
   "metadata": {},
   "source": [
    "Extract TCGA patient IDs:"
   ]
  },
  {
   "cell_type": "code",
   "execution_count": 6,
   "metadata": {},
   "outputs": [],
   "source": [
    "df_corpus[\"patient_id\"] = df_corpus[\"patient_filename\"].apply(lambda x: x.split('.')[0])"
   ]
  },
  {
   "cell_type": "code",
   "execution_count": 7,
   "metadata": {},
   "outputs": [],
   "source": [
    "assert not df_corpus[\"patient_filename\"].duplicated().any()"
   ]
  },
  {
   "cell_type": "code",
   "execution_count": 8,
   "metadata": {},
   "outputs": [],
   "source": [
    "assert not df_corpus[\"patient_id\"].duplicated().any()"
   ]
  },
  {
   "cell_type": "code",
   "execution_count": 9,
   "metadata": {},
   "outputs": [],
   "source": [
    "df_corpus = df_corpus[[\"patient_id\", \"text\"]]"
   ]
  },
  {
   "cell_type": "code",
   "execution_count": 10,
   "metadata": {},
   "outputs": [],
   "source": [
    "df_corpus.index = df_corpus[\"patient_id\"].values"
   ]
  },
  {
   "cell_type": "code",
   "execution_count": 11,
   "metadata": {},
   "outputs": [
    {
     "data": {
      "text/html": [
       "<div>\n",
       "<style scoped>\n",
       "    .dataframe tbody tr th:only-of-type {\n",
       "        vertical-align: middle;\n",
       "    }\n",
       "\n",
       "    .dataframe tbody tr th {\n",
       "        vertical-align: top;\n",
       "    }\n",
       "\n",
       "    .dataframe thead th {\n",
       "        text-align: right;\n",
       "    }\n",
       "</style>\n",
       "<table border=\"1\" class=\"dataframe\">\n",
       "  <thead>\n",
       "    <tr style=\"text-align: right;\">\n",
       "      <th></th>\n",
       "      <th>patient_id</th>\n",
       "      <th>text</th>\n",
       "    </tr>\n",
       "  </thead>\n",
       "  <tbody>\n",
       "    <tr>\n",
       "      <th>TCGA-BP-5195</th>\n",
       "      <td>TCGA-BP-5195</td>\n",
       "      <td>Date of Recelpt: Clinical Diagnosis &amp; History:...</td>\n",
       "    </tr>\n",
       "    <tr>\n",
       "      <th>TCGA-D7-8573</th>\n",
       "      <td>TCGA-D7-8573</td>\n",
       "      <td>Material: 1) Material: stomach, Method of coll...</td>\n",
       "    </tr>\n",
       "    <tr>\n",
       "      <th>TCGA-EI-7004</th>\n",
       "      <td>TCGA-EI-7004</td>\n",
       "      <td>page 1 / 1. copy No. 3. Examination: Histopath...</td>\n",
       "    </tr>\n",
       "    <tr>\n",
       "      <th>TCGA-EB-A82B</th>\n",
       "      <td>TCGA-EB-A82B</td>\n",
       "      <td>Patient ID: Gross Description: A mass is locat...</td>\n",
       "    </tr>\n",
       "    <tr>\n",
       "      <th>TCGA-A6-3808</th>\n",
       "      <td>TCGA-A6-3808</td>\n",
       "      <td>SPECIMEN. Right colon. CLINICAL NOTES. PRE-OP ...</td>\n",
       "    </tr>\n",
       "  </tbody>\n",
       "</table>\n",
       "</div>"
      ],
      "text/plain": [
       "                patient_id                                               text\n",
       "TCGA-BP-5195  TCGA-BP-5195  Date of Recelpt: Clinical Diagnosis & History:...\n",
       "TCGA-D7-8573  TCGA-D7-8573  Material: 1) Material: stomach, Method of coll...\n",
       "TCGA-EI-7004  TCGA-EI-7004  page 1 / 1. copy No. 3. Examination: Histopath...\n",
       "TCGA-EB-A82B  TCGA-EB-A82B  Patient ID: Gross Description: A mass is locat...\n",
       "TCGA-A6-3808  TCGA-A6-3808  SPECIMEN. Right colon. CLINICAL NOTES. PRE-OP ..."
      ]
     },
     "execution_count": 11,
     "metadata": {},
     "output_type": "execute_result"
    }
   ],
   "source": [
    "df_corpus.head()"
   ]
  },
  {
   "cell_type": "markdown",
   "metadata": {},
   "source": [
    "## Cancer type"
   ]
  },
  {
   "cell_type": "code",
   "execution_count": 12,
   "metadata": {},
   "outputs": [],
   "source": [
    "df_cancer_type = pd.read_csv(\n",
    "    os.path.join(data_dir, \"cancer_type\", \"tcga_patient_to_cancer_type.csv\"),\n",
    "    sep=',',\n",
    "    header=0\n",
    ")"
   ]
  },
  {
   "cell_type": "code",
   "execution_count": 13,
   "metadata": {},
   "outputs": [
    {
     "data": {
      "text/plain": [
       "(11160, 2)"
      ]
     },
     "execution_count": 13,
     "metadata": {},
     "output_type": "execute_result"
    }
   ],
   "source": [
    "df_cancer_type.shape"
   ]
  },
  {
   "cell_type": "code",
   "execution_count": 14,
   "metadata": {},
   "outputs": [
    {
     "data": {
      "text/html": [
       "<div>\n",
       "<style scoped>\n",
       "    .dataframe tbody tr th:only-of-type {\n",
       "        vertical-align: middle;\n",
       "    }\n",
       "\n",
       "    .dataframe tbody tr th {\n",
       "        vertical-align: top;\n",
       "    }\n",
       "\n",
       "    .dataframe thead th {\n",
       "        text-align: right;\n",
       "    }\n",
       "</style>\n",
       "<table border=\"1\" class=\"dataframe\">\n",
       "  <thead>\n",
       "    <tr style=\"text-align: right;\">\n",
       "      <th></th>\n",
       "      <th>patient_id</th>\n",
       "      <th>cancer_type</th>\n",
       "    </tr>\n",
       "  </thead>\n",
       "  <tbody>\n",
       "    <tr>\n",
       "      <th>0</th>\n",
       "      <td>TCGA-OR-A5J1</td>\n",
       "      <td>ACC</td>\n",
       "    </tr>\n",
       "    <tr>\n",
       "      <th>1</th>\n",
       "      <td>TCGA-OR-A5J2</td>\n",
       "      <td>ACC</td>\n",
       "    </tr>\n",
       "    <tr>\n",
       "      <th>2</th>\n",
       "      <td>TCGA-OR-A5J3</td>\n",
       "      <td>ACC</td>\n",
       "    </tr>\n",
       "    <tr>\n",
       "      <th>3</th>\n",
       "      <td>TCGA-OR-A5J4</td>\n",
       "      <td>ACC</td>\n",
       "    </tr>\n",
       "    <tr>\n",
       "      <th>4</th>\n",
       "      <td>TCGA-OR-A5J5</td>\n",
       "      <td>ACC</td>\n",
       "    </tr>\n",
       "  </tbody>\n",
       "</table>\n",
       "</div>"
      ],
      "text/plain": [
       "     patient_id cancer_type\n",
       "0  TCGA-OR-A5J1         ACC\n",
       "1  TCGA-OR-A5J2         ACC\n",
       "2  TCGA-OR-A5J3         ACC\n",
       "3  TCGA-OR-A5J4         ACC\n",
       "4  TCGA-OR-A5J5         ACC"
      ]
     },
     "execution_count": 14,
     "metadata": {},
     "output_type": "execute_result"
    }
   ],
   "source": [
    "df_cancer_type.head()"
   ]
  },
  {
   "cell_type": "code",
   "execution_count": 15,
   "metadata": {},
   "outputs": [],
   "source": [
    "assert not df_cancer_type[\"patient_id\"].duplicated().any()"
   ]
  },
  {
   "cell_type": "code",
   "execution_count": 16,
   "metadata": {},
   "outputs": [],
   "source": [
    "df_cancer_type.index = df_cancer_type[\"patient_id\"].values"
   ]
  },
  {
   "cell_type": "code",
   "execution_count": 17,
   "metadata": {},
   "outputs": [
    {
     "data": {
      "text/html": [
       "<div>\n",
       "<style scoped>\n",
       "    .dataframe tbody tr th:only-of-type {\n",
       "        vertical-align: middle;\n",
       "    }\n",
       "\n",
       "    .dataframe tbody tr th {\n",
       "        vertical-align: top;\n",
       "    }\n",
       "\n",
       "    .dataframe thead th {\n",
       "        text-align: right;\n",
       "    }\n",
       "</style>\n",
       "<table border=\"1\" class=\"dataframe\">\n",
       "  <thead>\n",
       "    <tr style=\"text-align: right;\">\n",
       "      <th></th>\n",
       "      <th>patient_id</th>\n",
       "      <th>cancer_type</th>\n",
       "    </tr>\n",
       "  </thead>\n",
       "  <tbody>\n",
       "    <tr>\n",
       "      <th>TCGA-OR-A5J1</th>\n",
       "      <td>TCGA-OR-A5J1</td>\n",
       "      <td>ACC</td>\n",
       "    </tr>\n",
       "    <tr>\n",
       "      <th>TCGA-OR-A5J2</th>\n",
       "      <td>TCGA-OR-A5J2</td>\n",
       "      <td>ACC</td>\n",
       "    </tr>\n",
       "    <tr>\n",
       "      <th>TCGA-OR-A5J3</th>\n",
       "      <td>TCGA-OR-A5J3</td>\n",
       "      <td>ACC</td>\n",
       "    </tr>\n",
       "    <tr>\n",
       "      <th>TCGA-OR-A5J4</th>\n",
       "      <td>TCGA-OR-A5J4</td>\n",
       "      <td>ACC</td>\n",
       "    </tr>\n",
       "    <tr>\n",
       "      <th>TCGA-OR-A5J5</th>\n",
       "      <td>TCGA-OR-A5J5</td>\n",
       "      <td>ACC</td>\n",
       "    </tr>\n",
       "  </tbody>\n",
       "</table>\n",
       "</div>"
      ],
      "text/plain": [
       "                patient_id cancer_type\n",
       "TCGA-OR-A5J1  TCGA-OR-A5J1         ACC\n",
       "TCGA-OR-A5J2  TCGA-OR-A5J2         ACC\n",
       "TCGA-OR-A5J3  TCGA-OR-A5J3         ACC\n",
       "TCGA-OR-A5J4  TCGA-OR-A5J4         ACC\n",
       "TCGA-OR-A5J5  TCGA-OR-A5J5         ACC"
      ]
     },
     "execution_count": 17,
     "metadata": {},
     "output_type": "execute_result"
    }
   ],
   "source": [
    "df_cancer_type.head()"
   ]
  },
  {
   "cell_type": "markdown",
   "metadata": {},
   "source": [
    "# Data merging\n",
    "\n",
    "We combine both datasets into a single dataframe:"
   ]
  },
  {
   "cell_type": "code",
   "execution_count": 18,
   "metadata": {},
   "outputs": [],
   "source": [
    "assert df_corpus[\"patient_id\"].isin(df_cancer_type[\"patient_id\"]).all()"
   ]
  },
  {
   "cell_type": "code",
   "execution_count": 19,
   "metadata": {},
   "outputs": [],
   "source": [
    "df_corpus[\"cancer_type\"] = df_cancer_type.loc[df_corpus.index, \"cancer_type\"]"
   ]
  },
  {
   "cell_type": "code",
   "execution_count": 20,
   "metadata": {},
   "outputs": [
    {
     "data": {
      "text/html": [
       "<div>\n",
       "<style scoped>\n",
       "    .dataframe tbody tr th:only-of-type {\n",
       "        vertical-align: middle;\n",
       "    }\n",
       "\n",
       "    .dataframe tbody tr th {\n",
       "        vertical-align: top;\n",
       "    }\n",
       "\n",
       "    .dataframe thead th {\n",
       "        text-align: right;\n",
       "    }\n",
       "</style>\n",
       "<table border=\"1\" class=\"dataframe\">\n",
       "  <thead>\n",
       "    <tr style=\"text-align: right;\">\n",
       "      <th></th>\n",
       "      <th>patient_id</th>\n",
       "      <th>text</th>\n",
       "      <th>cancer_type</th>\n",
       "    </tr>\n",
       "  </thead>\n",
       "  <tbody>\n",
       "    <tr>\n",
       "      <th>TCGA-BP-5195</th>\n",
       "      <td>TCGA-BP-5195</td>\n",
       "      <td>Date of Recelpt: Clinical Diagnosis &amp; History:...</td>\n",
       "      <td>KIRC</td>\n",
       "    </tr>\n",
       "    <tr>\n",
       "      <th>TCGA-D7-8573</th>\n",
       "      <td>TCGA-D7-8573</td>\n",
       "      <td>Material: 1) Material: stomach, Method of coll...</td>\n",
       "      <td>STAD</td>\n",
       "    </tr>\n",
       "    <tr>\n",
       "      <th>TCGA-EI-7004</th>\n",
       "      <td>TCGA-EI-7004</td>\n",
       "      <td>page 1 / 1. copy No. 3. Examination: Histopath...</td>\n",
       "      <td>READ</td>\n",
       "    </tr>\n",
       "    <tr>\n",
       "      <th>TCGA-EB-A82B</th>\n",
       "      <td>TCGA-EB-A82B</td>\n",
       "      <td>Patient ID: Gross Description: A mass is locat...</td>\n",
       "      <td>SKCM</td>\n",
       "    </tr>\n",
       "    <tr>\n",
       "      <th>TCGA-A6-3808</th>\n",
       "      <td>TCGA-A6-3808</td>\n",
       "      <td>SPECIMEN. Right colon. CLINICAL NOTES. PRE-OP ...</td>\n",
       "      <td>COAD</td>\n",
       "    </tr>\n",
       "  </tbody>\n",
       "</table>\n",
       "</div>"
      ],
      "text/plain": [
       "                patient_id                                               text  \\\n",
       "TCGA-BP-5195  TCGA-BP-5195  Date of Recelpt: Clinical Diagnosis & History:...   \n",
       "TCGA-D7-8573  TCGA-D7-8573  Material: 1) Material: stomach, Method of coll...   \n",
       "TCGA-EI-7004  TCGA-EI-7004  page 1 / 1. copy No. 3. Examination: Histopath...   \n",
       "TCGA-EB-A82B  TCGA-EB-A82B  Patient ID: Gross Description: A mass is locat...   \n",
       "TCGA-A6-3808  TCGA-A6-3808  SPECIMEN. Right colon. CLINICAL NOTES. PRE-OP ...   \n",
       "\n",
       "             cancer_type  \n",
       "TCGA-BP-5195        KIRC  \n",
       "TCGA-D7-8573        STAD  \n",
       "TCGA-EI-7004        READ  \n",
       "TCGA-EB-A82B        SKCM  \n",
       "TCGA-A6-3808        COAD  "
      ]
     },
     "execution_count": 20,
     "metadata": {},
     "output_type": "execute_result"
    }
   ],
   "source": [
    "df_corpus.head()"
   ]
  },
  {
   "cell_type": "markdown",
   "metadata": {},
   "source": [
    "We add a column with the full name of the cancer type. This information was downloaded from here: https://github.com/KatherLab/cancer-metadata/blob/main/tcga/tcga-tumor-types.csv"
   ]
  },
  {
   "cell_type": "code",
   "execution_count": 21,
   "metadata": {},
   "outputs": [],
   "source": [
    "df_cancer_name = pd.read_csv(\n",
    "    os.path.join(data_dir, \"cancer_type\", \"tcga-tumor-types.csv\"),\n",
    "    sep=';',\n",
    "    header=0\n",
    ")"
   ]
  },
  {
   "cell_type": "code",
   "execution_count": 22,
   "metadata": {},
   "outputs": [
    {
     "data": {
      "text/plain": [
       "(37, 2)"
      ]
     },
     "execution_count": 22,
     "metadata": {},
     "output_type": "execute_result"
    }
   ],
   "source": [
    "df_cancer_name.shape"
   ]
  },
  {
   "cell_type": "code",
   "execution_count": 23,
   "metadata": {},
   "outputs": [
    {
     "data": {
      "text/html": [
       "<div>\n",
       "<style scoped>\n",
       "    .dataframe tbody tr th:only-of-type {\n",
       "        vertical-align: middle;\n",
       "    }\n",
       "\n",
       "    .dataframe tbody tr th {\n",
       "        vertical-align: top;\n",
       "    }\n",
       "\n",
       "    .dataframe thead th {\n",
       "        text-align: right;\n",
       "    }\n",
       "</style>\n",
       "<table border=\"1\" class=\"dataframe\">\n",
       "  <thead>\n",
       "    <tr style=\"text-align: right;\">\n",
       "      <th></th>\n",
       "      <th>Study Abbreviation</th>\n",
       "      <th>Study Name</th>\n",
       "    </tr>\n",
       "  </thead>\n",
       "  <tbody>\n",
       "    <tr>\n",
       "      <th>0</th>\n",
       "      <td>LAML</td>\n",
       "      <td>Acute Myeloid Leukemia</td>\n",
       "    </tr>\n",
       "    <tr>\n",
       "      <th>1</th>\n",
       "      <td>ACC</td>\n",
       "      <td>Adrenocortical carcinoma</td>\n",
       "    </tr>\n",
       "    <tr>\n",
       "      <th>2</th>\n",
       "      <td>BLCA</td>\n",
       "      <td>Bladder Urothelial Carcinoma</td>\n",
       "    </tr>\n",
       "    <tr>\n",
       "      <th>3</th>\n",
       "      <td>LGG</td>\n",
       "      <td>Brain Lower Grade Glioma</td>\n",
       "    </tr>\n",
       "    <tr>\n",
       "      <th>4</th>\n",
       "      <td>BRCA</td>\n",
       "      <td>Breast invasive carcinoma</td>\n",
       "    </tr>\n",
       "  </tbody>\n",
       "</table>\n",
       "</div>"
      ],
      "text/plain": [
       "  Study Abbreviation                    Study Name\n",
       "0               LAML        Acute Myeloid Leukemia\n",
       "1                ACC      Adrenocortical carcinoma\n",
       "2               BLCA  Bladder Urothelial Carcinoma\n",
       "3                LGG      Brain Lower Grade Glioma\n",
       "4               BRCA     Breast invasive carcinoma"
      ]
     },
     "execution_count": 23,
     "metadata": {},
     "output_type": "execute_result"
    }
   ],
   "source": [
    "df_cancer_name.head()"
   ]
  },
  {
   "cell_type": "code",
   "execution_count": 24,
   "metadata": {},
   "outputs": [],
   "source": [
    "# Convert DataFrame into dictionary\n",
    "assert not df_cancer_name[\"Study Abbreviation\"].duplicated().any()\n",
    "df_cancer_name.index = df_cancer_name[\"Study Abbreviation\"].values\n",
    "dict_cancer_name = df_cancer_name[\"Study Name\"].to_dict()"
   ]
  },
  {
   "cell_type": "code",
   "execution_count": 25,
   "metadata": {},
   "outputs": [],
   "source": [
    "assert df_corpus[\"cancer_type\"].isin(list(dict_cancer_name.keys())).all()"
   ]
  },
  {
   "cell_type": "code",
   "execution_count": 26,
   "metadata": {},
   "outputs": [],
   "source": [
    "df_corpus[\"cancer_type_name\"] = df_corpus[\"cancer_type\"].apply(lambda x: dict_cancer_name[x])"
   ]
  },
  {
   "cell_type": "code",
   "execution_count": 27,
   "metadata": {},
   "outputs": [],
   "source": [
    "df_corpus.to_csv(\n",
    "    os.path.join(data_dir, \"cancer_type\", \"tcga_reports_cancer_type.csv\"),\n",
    "    sep=',',\n",
    "    index=False,\n",
    "    header=True\n",
    ")"
   ]
  }
 ],
 "metadata": {
  "kernelspec": {
   "display_name": "prostate",
   "language": "python",
   "name": "python3"
  },
  "language_info": {
   "codemirror_mode": {
    "name": "ipython",
    "version": 3
   },
   "file_extension": ".py",
   "mimetype": "text/x-python",
   "name": "python",
   "nbconvert_exporter": "python",
   "pygments_lexer": "ipython3",
   "version": "3.13.2"
  }
 },
 "nbformat": 4,
 "nbformat_minor": 2
}
