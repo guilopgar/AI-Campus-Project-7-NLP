{
 "cells": [
  {
   "cell_type": "code",
   "execution_count": 1,
   "metadata": {},
   "outputs": [],
   "source": [
    "import os\n",
    "import random\n",
    "import pandas as pd\n",
    "import matplotlib.pyplot as plt\n",
    "\n",
    "# Import file from parent directory\n",
    "import sys\n",
    "sys.path.append('../')\n",
    "import utils\n",
    "\n",
    "random.seed(0)\n",
    "\n",
    "val_size = .2\n",
    "test_size = .3"
   ]
  },
  {
   "cell_type": "markdown",
   "metadata": {},
   "source": [
    "# Data loading"
   ]
  },
  {
   "cell_type": "code",
   "execution_count": 2,
   "metadata": {},
   "outputs": [],
   "source": [
    "data_dir = \"../../data/cancer_type\""
   ]
  },
  {
   "cell_type": "code",
   "execution_count": 3,
   "metadata": {},
   "outputs": [],
   "source": [
    "df_data = pd.read_csv(\n",
    "    os.path.join(data_dir, \"tcga_reports_cancer_type.csv\"),\n",
    "    sep=',',\n",
    "    header=0\n",
    ")"
   ]
  },
  {
   "cell_type": "code",
   "execution_count": 4,
   "metadata": {},
   "outputs": [
    {
     "data": {
      "text/plain": [
       "(9523, 4)"
      ]
     },
     "execution_count": 4,
     "metadata": {},
     "output_type": "execute_result"
    }
   ],
   "source": [
    "df_data.shape"
   ]
  },
  {
   "cell_type": "code",
   "execution_count": 5,
   "metadata": {},
   "outputs": [
    {
     "data": {
      "text/html": [
       "<div>\n",
       "<style scoped>\n",
       "    .dataframe tbody tr th:only-of-type {\n",
       "        vertical-align: middle;\n",
       "    }\n",
       "\n",
       "    .dataframe tbody tr th {\n",
       "        vertical-align: top;\n",
       "    }\n",
       "\n",
       "    .dataframe thead th {\n",
       "        text-align: right;\n",
       "    }\n",
       "</style>\n",
       "<table border=\"1\" class=\"dataframe\">\n",
       "  <thead>\n",
       "    <tr style=\"text-align: right;\">\n",
       "      <th></th>\n",
       "      <th>patient_id</th>\n",
       "      <th>text</th>\n",
       "      <th>cancer_type</th>\n",
       "      <th>cancer_type_name</th>\n",
       "    </tr>\n",
       "  </thead>\n",
       "  <tbody>\n",
       "    <tr>\n",
       "      <th>0</th>\n",
       "      <td>TCGA-BP-5195</td>\n",
       "      <td>Date of Recelpt: Clinical Diagnosis &amp; History:...</td>\n",
       "      <td>KIRC</td>\n",
       "      <td>Kidney renal clear cell carcinoma</td>\n",
       "    </tr>\n",
       "    <tr>\n",
       "      <th>1</th>\n",
       "      <td>TCGA-D7-8573</td>\n",
       "      <td>Material: 1) Material: stomach, Method of coll...</td>\n",
       "      <td>STAD</td>\n",
       "      <td>Stomach adenocarcinoma</td>\n",
       "    </tr>\n",
       "    <tr>\n",
       "      <th>2</th>\n",
       "      <td>TCGA-EI-7004</td>\n",
       "      <td>page 1 / 1. copy No. 3. Examination: Histopath...</td>\n",
       "      <td>READ</td>\n",
       "      <td>Rectum adenocarcinoma</td>\n",
       "    </tr>\n",
       "    <tr>\n",
       "      <th>3</th>\n",
       "      <td>TCGA-EB-A82B</td>\n",
       "      <td>Patient ID: Gross Description: A mass is locat...</td>\n",
       "      <td>SKCM</td>\n",
       "      <td>Skin Cutaneous Melanoma</td>\n",
       "    </tr>\n",
       "    <tr>\n",
       "      <th>4</th>\n",
       "      <td>TCGA-A6-3808</td>\n",
       "      <td>SPECIMEN. Right colon. CLINICAL NOTES. PRE-OP ...</td>\n",
       "      <td>COAD</td>\n",
       "      <td>Colon adenocarcinoma</td>\n",
       "    </tr>\n",
       "  </tbody>\n",
       "</table>\n",
       "</div>"
      ],
      "text/plain": [
       "     patient_id                                               text  \\\n",
       "0  TCGA-BP-5195  Date of Recelpt: Clinical Diagnosis & History:...   \n",
       "1  TCGA-D7-8573  Material: 1) Material: stomach, Method of coll...   \n",
       "2  TCGA-EI-7004  page 1 / 1. copy No. 3. Examination: Histopath...   \n",
       "3  TCGA-EB-A82B  Patient ID: Gross Description: A mass is locat...   \n",
       "4  TCGA-A6-3808  SPECIMEN. Right colon. CLINICAL NOTES. PRE-OP ...   \n",
       "\n",
       "  cancer_type                   cancer_type_name  \n",
       "0        KIRC  Kidney renal clear cell carcinoma  \n",
       "1        STAD             Stomach adenocarcinoma  \n",
       "2        READ              Rectum adenocarcinoma  \n",
       "3        SKCM            Skin Cutaneous Melanoma  \n",
       "4        COAD               Colon adenocarcinoma  "
      ]
     },
     "execution_count": 5,
     "metadata": {},
     "output_type": "execute_result"
    }
   ],
   "source": [
    "df_data.head()"
   ]
  },
  {
   "cell_type": "code",
   "execution_count": 6,
   "metadata": {},
   "outputs": [],
   "source": [
    "df_data.index = df_data[\"patient_id\"].values"
   ]
  },
  {
   "cell_type": "markdown",
   "metadata": {},
   "source": [
    "# Data split"
   ]
  },
  {
   "cell_type": "code",
   "execution_count": 7,
   "metadata": {},
   "outputs": [],
   "source": [
    "arr_pat_id = df_data[\"patient_id\"].values.tolist()"
   ]
  },
  {
   "cell_type": "code",
   "execution_count": 8,
   "metadata": {},
   "outputs": [],
   "source": [
    "n_test_size = round(test_size * df_data.shape[0])"
   ]
  },
  {
   "cell_type": "code",
   "execution_count": 9,
   "metadata": {},
   "outputs": [],
   "source": [
    "n_val_size = round(val_size * df_data.shape[0])"
   ]
  },
  {
   "cell_type": "markdown",
   "metadata": {},
   "source": [
    "## Test split"
   ]
  },
  {
   "cell_type": "code",
   "execution_count": 10,
   "metadata": {},
   "outputs": [],
   "source": [
    "arr_test_pat_id = random.sample(arr_pat_id, n_test_size)"
   ]
  },
  {
   "cell_type": "code",
   "execution_count": 11,
   "metadata": {},
   "outputs": [],
   "source": [
    "df_test = df_data.loc[arr_test_pat_id].copy()"
   ]
  },
  {
   "cell_type": "code",
   "execution_count": 12,
   "metadata": {},
   "outputs": [
    {
     "data": {
      "text/plain": [
       "(2857, 4)"
      ]
     },
     "execution_count": 12,
     "metadata": {},
     "output_type": "execute_result"
    }
   ],
   "source": [
    "df_test.shape"
   ]
  },
  {
   "cell_type": "code",
   "execution_count": 13,
   "metadata": {},
   "outputs": [],
   "source": [
    "arr_train_val_pat_id = [\n",
    "    pat_id for pat_id in arr_pat_id\n",
    "    if pat_id not in arr_test_pat_id\n",
    "]"
   ]
  },
  {
   "cell_type": "code",
   "execution_count": 14,
   "metadata": {},
   "outputs": [],
   "source": [
    "df_train_val = df_data.loc[arr_train_val_pat_id].copy()"
   ]
  },
  {
   "cell_type": "markdown",
   "metadata": {},
   "source": [
    "## Val split"
   ]
  },
  {
   "cell_type": "code",
   "execution_count": 15,
   "metadata": {},
   "outputs": [],
   "source": [
    "arr_val_pat_id = random.sample(arr_train_val_pat_id, n_val_size)"
   ]
  },
  {
   "cell_type": "code",
   "execution_count": 16,
   "metadata": {},
   "outputs": [],
   "source": [
    "df_val = df_data.loc[arr_val_pat_id].copy()"
   ]
  },
  {
   "cell_type": "code",
   "execution_count": 17,
   "metadata": {},
   "outputs": [
    {
     "data": {
      "text/plain": [
       "(1905, 4)"
      ]
     },
     "execution_count": 17,
     "metadata": {},
     "output_type": "execute_result"
    }
   ],
   "source": [
    "df_val.shape"
   ]
  },
  {
   "cell_type": "code",
   "execution_count": 18,
   "metadata": {},
   "outputs": [],
   "source": [
    "arr_train_pat_id = [\n",
    "    pat_id for pat_id in arr_train_val_pat_id\n",
    "    if pat_id not in arr_val_pat_id\n",
    "]"
   ]
  },
  {
   "cell_type": "code",
   "execution_count": 19,
   "metadata": {},
   "outputs": [],
   "source": [
    "df_train = df_data.loc[arr_train_pat_id].copy()"
   ]
  },
  {
   "cell_type": "code",
   "execution_count": 20,
   "metadata": {},
   "outputs": [
    {
     "data": {
      "text/plain": [
       "(4761, 4)"
      ]
     },
     "execution_count": 20,
     "metadata": {},
     "output_type": "execute_result"
    }
   ],
   "source": [
    "df_train.shape"
   ]
  },
  {
   "cell_type": "code",
   "execution_count": 21,
   "metadata": {},
   "outputs": [],
   "source": [
    "# Sanity check\n",
    "assert df_train.shape[0] + df_val.shape[0] + df_test.shape[0] == df_data.shape[0]\n",
    "assert len(set(df_train[\"patient_id\"].values).intersection(set(df_val[\"patient_id\"].values))) == 0\n",
    "assert len(set(df_train[\"patient_id\"].values).intersection(set(df_test[\"patient_id\"].values))) == 0\n",
    "assert len(set(df_val[\"patient_id\"].values).intersection(set(df_test[\"patient_id\"].values))) == 0"
   ]
  },
  {
   "cell_type": "markdown",
   "metadata": {},
   "source": [
    "We ensure that the distribution of the labels in the three subsets is similar to the label distribution of the entire set:"
   ]
  },
  {
   "cell_type": "code",
   "execution_count": 22,
   "metadata": {},
   "outputs": [
    {
     "data": {
      "text/html": [
       "<div>\n",
       "<style scoped>\n",
       "    .dataframe tbody tr th:only-of-type {\n",
       "        vertical-align: middle;\n",
       "    }\n",
       "\n",
       "    .dataframe tbody tr th {\n",
       "        vertical-align: top;\n",
       "    }\n",
       "\n",
       "    .dataframe thead th {\n",
       "        text-align: right;\n",
       "    }\n",
       "</style>\n",
       "<table border=\"1\" class=\"dataframe\">\n",
       "  <thead>\n",
       "    <tr style=\"text-align: right;\">\n",
       "      <th></th>\n",
       "      <th>all</th>\n",
       "      <th>train</th>\n",
       "      <th>val</th>\n",
       "      <th>test</th>\n",
       "    </tr>\n",
       "  </thead>\n",
       "  <tbody>\n",
       "    <tr>\n",
       "      <th>BRCA</th>\n",
       "      <td>1034 (10.9%)</td>\n",
       "      <td>532 (11.2%)</td>\n",
       "      <td>232 (12.2%)</td>\n",
       "      <td>270 (9.5%)</td>\n",
       "    </tr>\n",
       "    <tr>\n",
       "      <th>UCEC</th>\n",
       "      <td>546 (5.7%)</td>\n",
       "      <td>278 (5.8%)</td>\n",
       "      <td>111 (5.8%)</td>\n",
       "      <td>157 (5.5%)</td>\n",
       "    </tr>\n",
       "    <tr>\n",
       "      <th>KIRC</th>\n",
       "      <td>525 (5.5%)</td>\n",
       "      <td>255 (5.4%)</td>\n",
       "      <td>111 (5.8%)</td>\n",
       "      <td>159 (5.6%)</td>\n",
       "    </tr>\n",
       "    <tr>\n",
       "      <th>HNSC</th>\n",
       "      <td>520 (5.5%)</td>\n",
       "      <td>254 (5.3%)</td>\n",
       "      <td>118 (6.2%)</td>\n",
       "      <td>148 (5.2%)</td>\n",
       "    </tr>\n",
       "    <tr>\n",
       "      <th>LUAD</th>\n",
       "      <td>488 (5.1%)</td>\n",
       "      <td>230 (4.8%)</td>\n",
       "      <td>104 (5.5%)</td>\n",
       "      <td>154 (5.4%)</td>\n",
       "    </tr>\n",
       "    <tr>\n",
       "      <th>THCA</th>\n",
       "      <td>487 (5.1%)</td>\n",
       "      <td>237 (5.0%)</td>\n",
       "      <td>93 (4.9%)</td>\n",
       "      <td>157 (5.5%)</td>\n",
       "    </tr>\n",
       "    <tr>\n",
       "      <th>LGG</th>\n",
       "      <td>469 (4.9%)</td>\n",
       "      <td>230 (4.8%)</td>\n",
       "      <td>103 (5.4%)</td>\n",
       "      <td>136 (4.8%)</td>\n",
       "    </tr>\n",
       "    <tr>\n",
       "      <th>LUSC</th>\n",
       "      <td>468 (4.9%)</td>\n",
       "      <td>232 (4.9%)</td>\n",
       "      <td>97 (5.1%)</td>\n",
       "      <td>139 (4.9%)</td>\n",
       "    </tr>\n",
       "    <tr>\n",
       "      <th>PRAD</th>\n",
       "      <td>446 (4.7%)</td>\n",
       "      <td>225 (4.7%)</td>\n",
       "      <td>87 (4.6%)</td>\n",
       "      <td>134 (4.7%)</td>\n",
       "    </tr>\n",
       "    <tr>\n",
       "      <th>COAD</th>\n",
       "      <td>418 (4.4%)</td>\n",
       "      <td>213 (4.5%)</td>\n",
       "      <td>85 (4.5%)</td>\n",
       "      <td>120 (4.2%)</td>\n",
       "    </tr>\n",
       "    <tr>\n",
       "      <th>GBM</th>\n",
       "      <td>399 (4.2%)</td>\n",
       "      <td>184 (3.9%)</td>\n",
       "      <td>80 (4.2%)</td>\n",
       "      <td>135 (4.7%)</td>\n",
       "    </tr>\n",
       "    <tr>\n",
       "      <th>BLCA</th>\n",
       "      <td>379 (4.0%)</td>\n",
       "      <td>180 (3.8%)</td>\n",
       "      <td>70 (3.7%)</td>\n",
       "      <td>129 (4.5%)</td>\n",
       "    </tr>\n",
       "    <tr>\n",
       "      <th>OV</th>\n",
       "      <td>371 (3.9%)</td>\n",
       "      <td>191 (4.0%)</td>\n",
       "      <td>65 (3.4%)</td>\n",
       "      <td>115 (4.0%)</td>\n",
       "    </tr>\n",
       "    <tr>\n",
       "      <th>STAD</th>\n",
       "      <td>361 (3.8%)</td>\n",
       "      <td>197 (4.1%)</td>\n",
       "      <td>67 (3.5%)</td>\n",
       "      <td>97 (3.4%)</td>\n",
       "    </tr>\n",
       "    <tr>\n",
       "      <th>LIHC</th>\n",
       "      <td>341 (3.6%)</td>\n",
       "      <td>183 (3.8%)</td>\n",
       "      <td>56 (2.9%)</td>\n",
       "      <td>102 (3.6%)</td>\n",
       "    </tr>\n",
       "    <tr>\n",
       "      <th>CESC</th>\n",
       "      <td>289 (3.0%)</td>\n",
       "      <td>155 (3.3%)</td>\n",
       "      <td>45 (2.4%)</td>\n",
       "      <td>89 (3.1%)</td>\n",
       "    </tr>\n",
       "    <tr>\n",
       "      <th>KIRP</th>\n",
       "      <td>280 (2.9%)</td>\n",
       "      <td>143 (3.0%)</td>\n",
       "      <td>55 (2.9%)</td>\n",
       "      <td>82 (2.9%)</td>\n",
       "    </tr>\n",
       "    <tr>\n",
       "      <th>SARC</th>\n",
       "      <td>249 (2.6%)</td>\n",
       "      <td>125 (2.6%)</td>\n",
       "      <td>43 (2.3%)</td>\n",
       "      <td>81 (2.8%)</td>\n",
       "    </tr>\n",
       "    <tr>\n",
       "      <th>PAAD</th>\n",
       "      <td>176 (1.8%)</td>\n",
       "      <td>83 (1.7%)</td>\n",
       "      <td>39 (2.0%)</td>\n",
       "      <td>54 (1.9%)</td>\n",
       "    </tr>\n",
       "    <tr>\n",
       "      <th>PCPG</th>\n",
       "      <td>174 (1.8%)</td>\n",
       "      <td>91 (1.9%)</td>\n",
       "      <td>35 (1.8%)</td>\n",
       "      <td>48 (1.7%)</td>\n",
       "    </tr>\n",
       "    <tr>\n",
       "      <th>READ</th>\n",
       "      <td>162 (1.7%)</td>\n",
       "      <td>84 (1.8%)</td>\n",
       "      <td>31 (1.6%)</td>\n",
       "      <td>47 (1.6%)</td>\n",
       "    </tr>\n",
       "    <tr>\n",
       "      <th>ESCA</th>\n",
       "      <td>146 (1.5%)</td>\n",
       "      <td>82 (1.7%)</td>\n",
       "      <td>28 (1.5%)</td>\n",
       "      <td>36 (1.3%)</td>\n",
       "    </tr>\n",
       "    <tr>\n",
       "      <th>THYM</th>\n",
       "      <td>114 (1.2%)</td>\n",
       "      <td>56 (1.2%)</td>\n",
       "      <td>22 (1.2%)</td>\n",
       "      <td>36 (1.3%)</td>\n",
       "    </tr>\n",
       "    <tr>\n",
       "      <th>KICH</th>\n",
       "      <td>112 (1.2%)</td>\n",
       "      <td>54 (1.1%)</td>\n",
       "      <td>19 (1.0%)</td>\n",
       "      <td>39 (1.4%)</td>\n",
       "    </tr>\n",
       "    <tr>\n",
       "      <th>SKCM</th>\n",
       "      <td>102 (1.1%)</td>\n",
       "      <td>47 (1.0%)</td>\n",
       "      <td>16 (0.8%)</td>\n",
       "      <td>39 (1.4%)</td>\n",
       "    </tr>\n",
       "    <tr>\n",
       "      <th>ACC</th>\n",
       "      <td>90 (0.9%)</td>\n",
       "      <td>42 (0.9%)</td>\n",
       "      <td>16 (0.8%)</td>\n",
       "      <td>32 (1.1%)</td>\n",
       "    </tr>\n",
       "    <tr>\n",
       "      <th>TGCT</th>\n",
       "      <td>87 (0.9%)</td>\n",
       "      <td>44 (0.9%)</td>\n",
       "      <td>19 (1.0%)</td>\n",
       "      <td>24 (0.8%)</td>\n",
       "    </tr>\n",
       "    <tr>\n",
       "      <th>MESO</th>\n",
       "      <td>79 (0.8%)</td>\n",
       "      <td>34 (0.7%)</td>\n",
       "      <td>18 (0.9%)</td>\n",
       "      <td>27 (0.9%)</td>\n",
       "    </tr>\n",
       "    <tr>\n",
       "      <th>UVM</th>\n",
       "      <td>65 (0.7%)</td>\n",
       "      <td>27 (0.6%)</td>\n",
       "      <td>15 (0.8%)</td>\n",
       "      <td>23 (0.8%)</td>\n",
       "    </tr>\n",
       "    <tr>\n",
       "      <th>UCS</th>\n",
       "      <td>56 (0.6%)</td>\n",
       "      <td>29 (0.6%)</td>\n",
       "      <td>8 (0.4%)</td>\n",
       "      <td>19 (0.7%)</td>\n",
       "    </tr>\n",
       "    <tr>\n",
       "      <th>DLBC</th>\n",
       "      <td>47 (0.5%)</td>\n",
       "      <td>23 (0.5%)</td>\n",
       "      <td>8 (0.4%)</td>\n",
       "      <td>16 (0.6%)</td>\n",
       "    </tr>\n",
       "    <tr>\n",
       "      <th>CHOL</th>\n",
       "      <td>43 (0.5%)</td>\n",
       "      <td>21 (0.4%)</td>\n",
       "      <td>9 (0.5%)</td>\n",
       "      <td>13 (0.5%)</td>\n",
       "    </tr>\n",
       "  </tbody>\n",
       "</table>\n",
       "</div>"
      ],
      "text/plain": [
       "               all        train          val        test\n",
       "BRCA  1034 (10.9%)  532 (11.2%)  232 (12.2%)  270 (9.5%)\n",
       "UCEC    546 (5.7%)   278 (5.8%)   111 (5.8%)  157 (5.5%)\n",
       "KIRC    525 (5.5%)   255 (5.4%)   111 (5.8%)  159 (5.6%)\n",
       "HNSC    520 (5.5%)   254 (5.3%)   118 (6.2%)  148 (5.2%)\n",
       "LUAD    488 (5.1%)   230 (4.8%)   104 (5.5%)  154 (5.4%)\n",
       "THCA    487 (5.1%)   237 (5.0%)    93 (4.9%)  157 (5.5%)\n",
       "LGG     469 (4.9%)   230 (4.8%)   103 (5.4%)  136 (4.8%)\n",
       "LUSC    468 (4.9%)   232 (4.9%)    97 (5.1%)  139 (4.9%)\n",
       "PRAD    446 (4.7%)   225 (4.7%)    87 (4.6%)  134 (4.7%)\n",
       "COAD    418 (4.4%)   213 (4.5%)    85 (4.5%)  120 (4.2%)\n",
       "GBM     399 (4.2%)   184 (3.9%)    80 (4.2%)  135 (4.7%)\n",
       "BLCA    379 (4.0%)   180 (3.8%)    70 (3.7%)  129 (4.5%)\n",
       "OV      371 (3.9%)   191 (4.0%)    65 (3.4%)  115 (4.0%)\n",
       "STAD    361 (3.8%)   197 (4.1%)    67 (3.5%)   97 (3.4%)\n",
       "LIHC    341 (3.6%)   183 (3.8%)    56 (2.9%)  102 (3.6%)\n",
       "CESC    289 (3.0%)   155 (3.3%)    45 (2.4%)   89 (3.1%)\n",
       "KIRP    280 (2.9%)   143 (3.0%)    55 (2.9%)   82 (2.9%)\n",
       "SARC    249 (2.6%)   125 (2.6%)    43 (2.3%)   81 (2.8%)\n",
       "PAAD    176 (1.8%)    83 (1.7%)    39 (2.0%)   54 (1.9%)\n",
       "PCPG    174 (1.8%)    91 (1.9%)    35 (1.8%)   48 (1.7%)\n",
       "READ    162 (1.7%)    84 (1.8%)    31 (1.6%)   47 (1.6%)\n",
       "ESCA    146 (1.5%)    82 (1.7%)    28 (1.5%)   36 (1.3%)\n",
       "THYM    114 (1.2%)    56 (1.2%)    22 (1.2%)   36 (1.3%)\n",
       "KICH    112 (1.2%)    54 (1.1%)    19 (1.0%)   39 (1.4%)\n",
       "SKCM    102 (1.1%)    47 (1.0%)    16 (0.8%)   39 (1.4%)\n",
       "ACC      90 (0.9%)    42 (0.9%)    16 (0.8%)   32 (1.1%)\n",
       "TGCT     87 (0.9%)    44 (0.9%)    19 (1.0%)   24 (0.8%)\n",
       "MESO     79 (0.8%)    34 (0.7%)    18 (0.9%)   27 (0.9%)\n",
       "UVM      65 (0.7%)    27 (0.6%)    15 (0.8%)   23 (0.8%)\n",
       "UCS      56 (0.6%)    29 (0.6%)     8 (0.4%)   19 (0.7%)\n",
       "DLBC     47 (0.5%)    23 (0.5%)     8 (0.4%)   16 (0.6%)\n",
       "CHOL     43 (0.5%)    21 (0.4%)     9 (0.5%)   13 (0.5%)"
      ]
     },
     "execution_count": 22,
     "metadata": {},
     "output_type": "execute_result"
    }
   ],
   "source": [
    "utils.value_dist({\n",
    "    \"all\": df_data[\"cancer_type\"],\n",
    "    \"train\": df_train[\"cancer_type\"],\n",
    "    \"val\": df_val[\"cancer_type\"],\n",
    "    \"test\": df_test[\"cancer_type\"]\n",
    "})"
   ]
  },
  {
   "cell_type": "markdown",
   "metadata": {},
   "source": [
    "We present the same information in a graphical way:"
   ]
  },
  {
   "cell_type": "code",
   "execution_count": 23,
   "metadata": {},
   "outputs": [],
   "source": [
    "df_label_dist = pd.DataFrame({\n",
    "    \"all\": df_data[\"cancer_type\"].value_counts(normalize=True).to_dict(),\n",
    "    \"train\": df_train[\"cancer_type\"].value_counts(normalize=True).to_dict(),\n",
    "    \"val\": df_val[\"cancer_type\"].value_counts(normalize=True).to_dict(),\n",
    "    \"test\": df_test[\"cancer_type\"].value_counts(normalize=True).to_dict()\n",
    "})"
   ]
  },
  {
   "cell_type": "code",
   "execution_count": 24,
   "metadata": {},
   "outputs": [
    {
     "data": {
      "image/png": "[encoded data removed]",
      "text/plain": [
       "<Figure size 1500x1000 with 1 Axes>"
      ]
     },
     "metadata": {},
     "output_type": "display_data"
    }
   ],
   "source": [
    "fig, ax = plt.subplots(figsize=(15, 10))\n",
    "df_label_dist.plot(kind='bar', ax=ax)\n",
    "ax.set_title('Distribution of Cancer Types across Different Subsets')\n",
    "ax.set_xlabel('Cancer Type')\n",
    "ax.set_ylabel('Number of Patients')\n",
    "ax.legend(title=\"Dataset Subsets\")\n",
    "plt.show()"
   ]
  },
  {
   "cell_type": "markdown",
   "metadata": {},
   "source": [
    "# Save\n",
    "\n",
    "We finally save the training, validation and test subsets:"
   ]
  },
  {
   "cell_type": "code",
   "execution_count": 25,
   "metadata": {},
   "outputs": [],
   "source": [
    "df_train.to_csv(\n",
    "    os.path.join(data_dir, \"train_tcga_reports_cancer_type.csv\"),\n",
    "    sep=',',\n",
    "    index=False,\n",
    "    header=True\n",
    ")"
   ]
  },
  {
   "cell_type": "code",
   "execution_count": 26,
   "metadata": {},
   "outputs": [],
   "source": [
    "df_val.to_csv(\n",
    "    os.path.join(data_dir, \"val_tcga_reports_cancer_type.csv\"),\n",
    "    sep=',',\n",
    "    index=False,\n",
    "    header=True\n",
    ")"
   ]
  },
  {
   "cell_type": "code",
   "execution_count": 27,
   "metadata": {},
   "outputs": [],
   "source": [
    "df_test.to_csv(\n",
    "    os.path.join(data_dir, \"test_tcga_reports_cancer_type.csv\"),\n",
    "    sep=',',\n",
    "    index=False,\n",
    "    header=True\n",
    ")"
   ]
  }
 ],
 "metadata": {
  "kernelspec": {
   "display_name": "prostate",
   "language": "python",
   "name": "python3"
  },
  "language_info": {
   "codemirror_mode": {
    "name": "ipython",
    "version": 3
   },
   "file_extension": ".py",
   "mimetype": "text/x-python",
   "name": "python",
   "nbconvert_exporter": "python",
   "pygments_lexer": "ipython3",
   "version": "3.13.2"
  }
 },
 "nbformat": 4,
 "nbformat_minor": 2
}
