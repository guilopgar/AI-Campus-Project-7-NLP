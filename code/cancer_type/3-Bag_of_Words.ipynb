{
 "cells": [
  {
   "cell_type": "code",
   "execution_count": 1,
   "id": "5e641888",
   "metadata": {},
   "outputs": [
    {
     "name": "stderr",
     "output_type": "stream",
     "text": [
      "[nltk_data] Downloading package punkt_tab to\n",
      "[nltk_data]     /Users/lopezgg/nltk_data...\n",
      "[nltk_data]   Package punkt_tab is already up-to-date!\n",
      "[nltk_data] Downloading package stopwords to\n",
      "[nltk_data]     /Users/lopezgg/nltk_data...\n",
      "[nltk_data]   Package stopwords is already up-to-date!\n"
     ]
    }
   ],
   "source": [
    "import os\n",
    "import pandas as pd\n",
    "\n",
    "import nltk\n",
    "nltk.download('punkt_tab')  # This line is only needed the first time you run the code\n",
    "nltk.download('stopwords') # This line is only needed the first time you run the code\n",
    "\n",
    "from nltk.tokenize import word_tokenize\n",
    "\n",
    "from sklearn.feature_extraction.text import CountVectorizer"
   ]
  },
  {
   "cell_type": "markdown",
   "id": "8e7a36b5",
   "metadata": {},
   "source": [
    "# Data loading"
   ]
  },
  {
   "cell_type": "code",
   "execution_count": 2,
   "id": "32b5a69e",
   "metadata": {},
   "outputs": [],
   "source": [
    "data_dir = \"../../data/cancer_type\""
   ]
  },
  {
   "cell_type": "code",
   "execution_count": 3,
   "id": "c9c56f66",
   "metadata": {},
   "outputs": [],
   "source": [
    "df_train = pd.read_csv(\n",
    "    os.path.join(data_dir, \"train_tcga_reports_cancer_type.csv\"),\n",
    "    sep=',',\n",
    "    header=0\n",
    ")"
   ]
  },
  {
   "cell_type": "code",
   "execution_count": 4,
   "id": "12320c94",
   "metadata": {},
   "outputs": [
    {
     "data": {
      "text/plain": [
       "(4761, 4)"
      ]
     },
     "execution_count": 4,
     "metadata": {},
     "output_type": "execute_result"
    }
   ],
   "source": [
    "df_train.shape"
   ]
  },
  {
   "cell_type": "code",
   "execution_count": 5,
   "id": "e91002cf",
   "metadata": {},
   "outputs": [],
   "source": [
    "arr_train_corpus = df_train[\"text\"].values.tolist()"
   ]
  },
  {
   "cell_type": "code",
   "execution_count": 6,
   "id": "c3d8db11",
   "metadata": {},
   "outputs": [
    {
     "data": {
      "text/plain": [
       "4761"
      ]
     },
     "execution_count": 6,
     "metadata": {},
     "output_type": "execute_result"
    }
   ],
   "source": [
    "len(arr_train_corpus)"
   ]
  },
  {
   "cell_type": "markdown",
   "id": "4576b6ba",
   "metadata": {},
   "source": [
    "# Text analysis"
   ]
  },
  {
   "cell_type": "code",
   "execution_count": 7,
   "id": "435a836a",
   "metadata": {},
   "outputs": [],
   "source": [
    "example_text = arr_train_corpus[0]"
   ]
  },
  {
   "cell_type": "code",
   "execution_count": 8,
   "id": "dde6d30c",
   "metadata": {},
   "outputs": [
    {
     "data": {
      "text/plain": [
       "2399"
      ]
     },
     "execution_count": 8,
     "metadata": {},
     "output_type": "execute_result"
    }
   ],
   "source": [
    "len(example_text)"
   ]
  },
  {
   "cell_type": "code",
   "execution_count": 9,
   "id": "fab3f2f8",
   "metadata": {},
   "outputs": [
    {
     "name": "stdout",
     "output_type": "stream",
     "text": [
      "Date of Recelpt: Clinical Diagnosis & History: Incidental 3 cm left upper pole renal mass. Specimens Submitted: 1: Kidney, Left Upper Pole; Partial Nephrectomy. DIAGNOSIS: 1. Kidney, Left Upper Pole; Partial Nephrectomy: Tumor Type: Renal cell carcinoma - Conventional (clear cell) type. Fuhrman Nuclear Grade: Nuclear grade II/IV. Tumor Size: Greatest diameter is 2.4 cm. Local Invasion (for renal cortical types): Not Identified. Renal Vein Invasion: Not identified. Surgical Margins: Free of tumor. Non-Neoplastic Kidney: shows focal chronic inflammation and focal superficial glomerulosclerosis. Adrenal Gland: Not identified. Lymph Nodes: Not identified. Staging for renal cell carcinoma/oncocytoma: pT1 Tumor <= 7.0 cm in greatest dimension limited to the kidney. JATTEST THAT THE ABOVE DIAGNOSIS IS BASED UPON MY PERSONAL EXAMINATION OF THE SLIDES (AND/OR OTHER MATERIAL), AND THAT IHAVE. REVIEWED AND APPROVED THIS REPORT. Gross Description: 1). The specimen Is received fresh for frozen section consultation, labeled \"left upper pole renal tumor stitch marks deep margin\". It consists of a 6.6 X 3.7 x 2.9 cm wedge shaped portion of kidney with a suture marking the deep margin and attached 12.2 x 8,5 x. 2.7 cm of perirenal. Also received in the same container Is a separate 11.6 x 8.4 x 4.6 cm aggregate of unremarkable. fibroadipose tissue. The margin is inked black and the specimen is serially sectioned to reveal a well-circumscribed cortically. based yellow focally hemorrhagic 2.4 x 2.0 x 1.9 cm tumor. The tumor appears grossly confined to the renal parenchyma, no. extension into perirenal fat is identified. The clearance from the resection margin is 1.1 cm. A representative section of the. nearest margin is submilted for frozen section diagnosis. Representatively submitted. A photograph Is taken. Portions of the. tumor are submitted for TPS. Summary of sections: FSC - frozen section control. T tumor. M margin. RS - representative sections. Summary of Sections: Part 1: Kidney, Left Upper Pole; Partial Nephrectomy. Block. Sect. Site. PCs. 1. fsc. 1. 2. m. 2. 1. rs. 1. 2. t. 2. Intraoperative Consultation: Note: The diagnoses given in this section pertain only to the. tissue sample examined at the time of the intraoperative. consultation. 1). FROZEN SECTION DIAGNOSIS: LEFT UPPER POLE RENAL TUMOR. RENAL CORTICAL NEOPLASM. WITH BENIGN MARGIN. PERMANENT DIAGNOSIS: SAME.\n"
     ]
    }
   ],
   "source": [
    "print(example_text)"
   ]
  },
  {
   "cell_type": "code",
   "execution_count": 10,
   "id": "d0e1603c",
   "metadata": {},
   "outputs": [
    {
     "name": "stdout",
     "output_type": "stream",
     "text": [
      "['Date', 'of', 'Recelpt:', 'Clinical', 'Diagnosis', '&', 'History:', 'Incidental', '3', 'cm', 'left', 'upper', 'pole', 'renal', 'mass.', 'Specimens', 'Submitted:', '1:', 'Kidney,', 'Left', 'Upper', 'Pole;', 'Partial', 'Nephrectomy.', 'DIAGNOSIS:', '1.', 'Kidney,', 'Left', 'Upper', 'Pole;', 'Partial', 'Nephrectomy:', 'Tumor', 'Type:', 'Renal', 'cell', 'carcinoma', '-', 'Conventional', '(clear', 'cell)', 'type.', 'Fuhrman', 'Nuclear', 'Grade:', 'Nuclear', 'grade', 'II/IV.', 'Tumor', 'Size:', 'Greatest', 'diameter', 'is', '2.4', 'cm.', 'Local', 'Invasion', '(for', 'renal', 'cortical', 'types):', 'Not', 'Identified.', 'Renal', 'Vein', 'Invasion:', 'Not', 'identified.', 'Surgical', 'Margins:', 'Free', 'of', 'tumor.', 'Non-Neoplastic', 'Kidney:', 'shows', 'focal', 'chronic', 'inflammation', 'and', 'focal', 'superficial', 'glomerulosclerosis.', 'Adrenal', 'Gland:', 'Not', 'identified.', 'Lymph', 'Nodes:', 'Not', 'identified.', 'Staging', 'for', 'renal', 'cell', 'carcinoma/oncocytoma:', 'pT1', 'Tumor', '<=', '7.0', 'cm', 'in', 'greatest', 'dimension', 'limited', 'to', 'the', 'kidney.', 'JATTEST', 'THAT', 'THE', 'ABOVE', 'DIAGNOSIS', 'IS', 'BASED', 'UPON', 'MY', 'PERSONAL', 'EXAMINATION', 'OF', 'THE', 'SLIDES', '(AND/OR', 'OTHER', 'MATERIAL),', 'AND', 'THAT', 'IHAVE.', 'REVIEWED', 'AND', 'APPROVED', 'THIS', 'REPORT.', 'Gross', 'Description:', '1).', 'The', 'specimen', 'Is', 'received', 'fresh', 'for', 'frozen', 'section', 'consultation,', 'labeled', '\"left', 'upper', 'pole', 'renal', 'tumor', 'stitch', 'marks', 'deep', 'margin\".', 'It', 'consists', 'of', 'a', '6.6', 'X', '3.7', 'x', '2.9', 'cm', 'wedge', 'shaped', 'portion', 'of', 'kidney', 'with', 'a', 'suture', 'marking', 'the', 'deep', 'margin', 'and', 'attached', '12.2', 'x', '8,5', 'x.', '2.7', 'cm', 'of', 'perirenal.', 'Also', 'received', 'in', 'the', 'same', 'container', 'Is', 'a', 'separate', '11.6', 'x', '8.4', 'x', '4.6', 'cm', 'aggregate', 'of', 'unremarkable.', 'fibroadipose', 'tissue.', 'The', 'margin', 'is', 'inked', 'black', 'and', 'the', 'specimen', 'is', 'serially', 'sectioned', 'to', 'reveal', 'a', 'well-circumscribed', 'cortically.', 'based', 'yellow', 'focally', 'hemorrhagic', '2.4', 'x', '2.0', 'x', '1.9', 'cm', 'tumor.', 'The', 'tumor', 'appears', 'grossly', 'confined', 'to', 'the', 'renal', 'parenchyma,', 'no.', 'extension', 'into', 'perirenal', 'fat', 'is', 'identified.', 'The', 'clearance', 'from', 'the', 'resection', 'margin', 'is', '1.1', 'cm.', 'A', 'representative', 'section', 'of', 'the.', 'nearest', 'margin', 'is', 'submilted', 'for', 'frozen', 'section', 'diagnosis.', 'Representatively', 'submitted.', 'A', 'photograph', 'Is', 'taken.', 'Portions', 'of', 'the.', 'tumor', 'are', 'submitted', 'for', 'TPS.', 'Summary', 'of', 'sections:', 'FSC', '-', 'frozen', 'section', 'control.', 'T', 'tumor.', 'M', 'margin.', 'RS', '-', 'representative', 'sections.', 'Summary', 'of', 'Sections:', 'Part', '1:', 'Kidney,', 'Left', 'Upper', 'Pole;', 'Partial', 'Nephrectomy.', 'Block.', 'Sect.', 'Site.', 'PCs.', '1.', 'fsc.', '1.', '2.', 'm.', '2.', '1.', 'rs.', '1.', '2.', 't.', '2.', 'Intraoperative', 'Consultation:', 'Note:', 'The', 'diagnoses', 'given', 'in', 'this', 'section', 'pertain', 'only', 'to', 'the.', 'tissue', 'sample', 'examined', 'at', 'the', 'time', 'of', 'the', 'intraoperative.', 'consultation.', '1).', 'FROZEN', 'SECTION', 'DIAGNOSIS:', 'LEFT', 'UPPER', 'POLE', 'RENAL', 'TUMOR.', 'RENAL', 'CORTICAL', 'NEOPLASM.', 'WITH', 'BENIGN', 'MARGIN.', 'PERMANENT', 'DIAGNOSIS:', 'SAME.']\n"
     ]
    }
   ],
   "source": [
    "# This is a simple tokenizer that splits on whitespace\n",
    "print(example_text.split())"
   ]
  },
  {
   "cell_type": "code",
   "execution_count": 11,
   "id": "33ee1969",
   "metadata": {},
   "outputs": [
    {
     "name": "stdout",
     "output_type": "stream",
     "text": [
      "['Date', 'of', 'Recelpt', ':', 'Clinical', 'Diagnosis', '&', 'History', ':', 'Incidental', '3', 'cm', 'left', 'upper', 'pole', 'renal', 'mass', '.', 'Specimens', 'Submitted', ':', '1', ':', 'Kidney', ',', 'Left', 'Upper', 'Pole', ';', 'Partial', 'Nephrectomy', '.', 'DIAGNOSIS', ':', '1', '.', 'Kidney', ',', 'Left', 'Upper', 'Pole', ';', 'Partial', 'Nephrectomy', ':', 'Tumor', 'Type', ':', 'Renal', 'cell', 'carcinoma', '-', 'Conventional', '(', 'clear', 'cell', ')', 'type', '.', 'Fuhrman', 'Nuclear', 'Grade', ':', 'Nuclear', 'grade', 'II/IV', '.', 'Tumor', 'Size', ':', 'Greatest', 'diameter', 'is', '2.4', 'cm', '.', 'Local', 'Invasion', '(', 'for', 'renal', 'cortical', 'types', ')', ':', 'Not', 'Identified', '.', 'Renal', 'Vein', 'Invasion', ':', 'Not', 'identified', '.', 'Surgical', 'Margins', ':', 'Free', 'of', 'tumor', '.', 'Non-Neoplastic', 'Kidney', ':', 'shows', 'focal', 'chronic', 'inflammation', 'and', 'focal', 'superficial', 'glomerulosclerosis', '.', 'Adrenal', 'Gland', ':', 'Not', 'identified', '.', 'Lymph', 'Nodes', ':', 'Not', 'identified', '.', 'Staging', 'for', 'renal', 'cell', 'carcinoma/oncocytoma', ':', 'pT1', 'Tumor', '<', '=', '7.0', 'cm', 'in', 'greatest', 'dimension', 'limited', 'to', 'the', 'kidney', '.', 'JATTEST', 'THAT', 'THE', 'ABOVE', 'DIAGNOSIS', 'IS', 'BASED', 'UPON', 'MY', 'PERSONAL', 'EXAMINATION', 'OF', 'THE', 'SLIDES', '(', 'AND/OR', 'OTHER', 'MATERIAL', ')', ',', 'AND', 'THAT', 'IHAVE', '.', 'REVIEWED', 'AND', 'APPROVED', 'THIS', 'REPORT', '.', 'Gross', 'Description', ':', '1', ')', '.', 'The', 'specimen', 'Is', 'received', 'fresh', 'for', 'frozen', 'section', 'consultation', ',', 'labeled', '``', 'left', 'upper', 'pole', 'renal', 'tumor', 'stitch', 'marks', 'deep', 'margin', \"''\", '.', 'It', 'consists', 'of', 'a', '6.6', 'X', '3.7', 'x', '2.9', 'cm', 'wedge', 'shaped', 'portion', 'of', 'kidney', 'with', 'a', 'suture', 'marking', 'the', 'deep', 'margin', 'and', 'attached', '12.2', 'x', '8,5', 'x', '.', '2.7', 'cm', 'of', 'perirenal', '.', 'Also', 'received', 'in', 'the', 'same', 'container', 'Is', 'a', 'separate', '11.6', 'x', '8.4', 'x', '4.6', 'cm', 'aggregate', 'of', 'unremarkable', '.', 'fibroadipose', 'tissue', '.', 'The', 'margin', 'is', 'inked', 'black', 'and', 'the', 'specimen', 'is', 'serially', 'sectioned', 'to', 'reveal', 'a', 'well-circumscribed', 'cortically', '.', 'based', 'yellow', 'focally', 'hemorrhagic', '2.4', 'x', '2.0', 'x', '1.9', 'cm', 'tumor', '.', 'The', 'tumor', 'appears', 'grossly', 'confined', 'to', 'the', 'renal', 'parenchyma', ',', 'no', '.', 'extension', 'into', 'perirenal', 'fat', 'is', 'identified', '.', 'The', 'clearance', 'from', 'the', 'resection', 'margin', 'is', '1.1', 'cm', '.', 'A', 'representative', 'section', 'of', 'the', '.', 'nearest', 'margin', 'is', 'submilted', 'for', 'frozen', 'section', 'diagnosis', '.', 'Representatively', 'submitted', '.', 'A', 'photograph', 'Is', 'taken', '.', 'Portions', 'of', 'the', '.', 'tumor', 'are', 'submitted', 'for', 'TPS', '.', 'Summary', 'of', 'sections', ':', 'FSC', '-', 'frozen', 'section', 'control', '.', 'T', 'tumor', '.', 'M', 'margin', '.', 'RS', '-', 'representative', 'sections', '.', 'Summary', 'of', 'Sections', ':', 'Part', '1', ':', 'Kidney', ',', 'Left', 'Upper', 'Pole', ';', 'Partial', 'Nephrectomy', '.', 'Block', '.', 'Sect', '.', 'Site', '.', 'PCs', '.', '1.', 'fsc', '.', '1', '.', '2.', 'm.', '2', '.', '1.', 'rs', '.', '1', '.', '2.', 't.', '2', '.', 'Intraoperative', 'Consultation', ':', 'Note', ':', 'The', 'diagnoses', 'given', 'in', 'this', 'section', 'pertain', 'only', 'to', 'the', '.', 'tissue', 'sample', 'examined', 'at', 'the', 'time', 'of', 'the', 'intraoperative', '.', 'consultation', '.', '1', ')', '.', 'FROZEN', 'SECTION', 'DIAGNOSIS', ':', 'LEFT', 'UPPER', 'POLE', 'RENAL', 'TUMOR', '.', 'RENAL', 'CORTICAL', 'NEOPLASM', '.', 'WITH', 'BENIGN', 'MARGIN', '.', 'PERMANENT', 'DIAGNOSIS', ':', 'SAME', '.']\n"
     ]
    }
   ],
   "source": [
    "# This is a more sophisticated tokenizer that uses NLTK's word_tokenize\n",
    "print(word_tokenize(example_text))"
   ]
  },
  {
   "cell_type": "code",
   "execution_count": 12,
   "id": "0f22977a",
   "metadata": {},
   "outputs": [],
   "source": [
    "# We concatenate all the documents into a single string, which represents the entire corpus\n",
    "corpus = ' '.join(arr_train_corpus)"
   ]
  },
  {
   "cell_type": "code",
   "execution_count": 13,
   "id": "b6d1989d",
   "metadata": {},
   "outputs": [
    {
     "data": {
      "text/plain": [
       "17375130"
      ]
     },
     "execution_count": 13,
     "metadata": {},
     "output_type": "execute_result"
    }
   ],
   "source": [
    "len(corpus)"
   ]
  },
  {
   "cell_type": "code",
   "execution_count": 14,
   "id": "fda53375",
   "metadata": {},
   "outputs": [],
   "source": [
    "arr_tok_coprus = word_tokenize(corpus)"
   ]
  },
  {
   "cell_type": "code",
   "execution_count": 15,
   "id": "b9f82dac",
   "metadata": {},
   "outputs": [
    {
     "data": {
      "text/plain": [
       "3479265"
      ]
     },
     "execution_count": 15,
     "metadata": {},
     "output_type": "execute_result"
    }
   ],
   "source": [
    "# Number of tokens in the corpus\n",
    "len(arr_tok_coprus)"
   ]
  },
  {
   "cell_type": "code",
   "execution_count": 16,
   "id": "1e4997dd",
   "metadata": {},
   "outputs": [
    {
     "data": {
      "text/plain": [
       ".        426200\n",
       ":        129098\n",
       ",        117620\n",
       "of        64418\n",
       "the       57700\n",
       "and       56069\n",
       "is        49493\n",
       ")         47540\n",
       "(         43714\n",
       "cm        43426\n",
       "in        38111\n",
       "The       35766\n",
       "x         32805\n",
       "-         28938\n",
       "lymph     26174\n",
       "with      24164\n",
       "to        23388\n",
       "a         23353\n",
       "tumor     21413\n",
       "1         20650\n",
       "Name: count, dtype: int64"
      ]
     },
     "execution_count": 16,
     "metadata": {},
     "output_type": "execute_result"
    }
   ],
   "source": [
    "# Top-20 most frequent tokens in the corpus\n",
    "pd.Series(arr_tok_coprus).value_counts().head(20)"
   ]
  },
  {
   "cell_type": "code",
   "execution_count": 17,
   "id": "58e71e62",
   "metadata": {},
   "outputs": [
    {
     "data": {
      "text/plain": [
       "55499"
      ]
     },
     "execution_count": 17,
     "metadata": {},
     "output_type": "execute_result"
    }
   ],
   "source": [
    "# Vocabulary size (number of unique tokens in the corpus)\n",
    "len(set(arr_tok_coprus))"
   ]
  },
  {
   "cell_type": "markdown",
   "id": "74fa6f5b",
   "metadata": {},
   "source": [
    "# BoW"
   ]
  },
  {
   "cell_type": "code",
   "execution_count": 18,
   "id": "50f95028",
   "metadata": {},
   "outputs": [],
   "source": [
    "arr_stopwords = nltk.corpus.stopwords.words('english')"
   ]
  },
  {
   "cell_type": "code",
   "execution_count": 19,
   "id": "7f4f2c73",
   "metadata": {},
   "outputs": [
    {
     "name": "stdout",
     "output_type": "stream",
     "text": [
      "['a', 'about', 'above', 'after', 'again', 'against', 'ain', 'all', 'am', 'an', 'and', 'any', 'are', 'aren', \"aren't\", 'as', 'at', 'be', 'because', 'been', 'before', 'being', 'below', 'between', 'both', 'but', 'by', 'can', 'couldn', \"couldn't\", 'd', 'did', 'didn', \"didn't\", 'do', 'does', 'doesn', \"doesn't\", 'doing', 'don', \"don't\", 'down', 'during', 'each', 'few', 'for', 'from', 'further', 'had', 'hadn', \"hadn't\", 'has', 'hasn', \"hasn't\", 'have', 'haven', \"haven't\", 'having', 'he', \"he'd\", \"he'll\", 'her', 'here', 'hers', 'herself', \"he's\", 'him', 'himself', 'his', 'how', 'i', \"i'd\", 'if', \"i'll\", \"i'm\", 'in', 'into', 'is', 'isn', \"isn't\", 'it', \"it'd\", \"it'll\", \"it's\", 'its', 'itself', \"i've\", 'just', 'll', 'm', 'ma', 'me', 'mightn', \"mightn't\", 'more', 'most', 'mustn', \"mustn't\", 'my', 'myself', 'needn', \"needn't\", 'no', 'nor', 'not', 'now', 'o', 'of', 'off', 'on', 'once', 'only', 'or', 'other', 'our', 'ours', 'ourselves', 'out', 'over', 'own', 're', 's', 'same', 'shan', \"shan't\", 'she', \"she'd\", \"she'll\", \"she's\", 'should', 'shouldn', \"shouldn't\", \"should've\", 'so', 'some', 'such', 't', 'than', 'that', \"that'll\", 'the', 'their', 'theirs', 'them', 'themselves', 'then', 'there', 'these', 'they', \"they'd\", \"they'll\", \"they're\", \"they've\", 'this', 'those', 'through', 'to', 'too', 'under', 'until', 'up', 've', 'very', 'was', 'wasn', \"wasn't\", 'we', \"we'd\", \"we'll\", \"we're\", 'were', 'weren', \"weren't\", \"we've\", 'what', 'when', 'where', 'which', 'while', 'who', 'whom', 'why', 'will', 'with', 'won', \"won't\", 'wouldn', \"wouldn't\", 'y', 'you', \"you'd\", \"you'll\", 'your', \"you're\", 'yours', 'yourself', 'yourselves', \"you've\"]\n"
     ]
    }
   ],
   "source": [
    "print(arr_stopwords)"
   ]
  },
  {
   "cell_type": "code",
   "execution_count": 20,
   "id": "c85c228a",
   "metadata": {},
   "outputs": [],
   "source": [
    "def tokenizer(text):\n",
    "    \"\"\"\n",
    "    Tokenizes the input text (lowercased) using NLTK's word_tokenize function and removes\n",
    "    stopwords, punctuation, tokens containing non-alphabetic characters, and tokens with length 1.\n",
    "    \n",
    "    Args:\n",
    "        text (str): The input text to tokenize.\n",
    "        \n",
    "    Returns:\n",
    "        list: A list of tokens.\n",
    "    \"\"\"\n",
    "    arr_tokens = word_tokenize(text.lower())\n",
    "    # Remove tokens with length 1\n",
    "    arr_tokens = [token for token in arr_tokens if len(token) > 1]\n",
    "    # Remove stopwords\n",
    "    arr_tokens = [token for token in arr_tokens if token not in arr_stopwords]\n",
    "    # Remove punctuation and tokens containing non-alphabetic characters\n",
    "    arr_tokens = [token for token in arr_tokens if token.isalpha()]\n",
    "    return arr_tokens"
   ]
  },
  {
   "cell_type": "code",
   "execution_count": 21,
   "id": "d15d2804",
   "metadata": {},
   "outputs": [],
   "source": [
    "word_vectorizer = CountVectorizer(\n",
    "    tokenizer=tokenizer,\n",
    "    token_pattern=None,\n",
    "    lowercase=False,\n",
    "    stop_words=None\n",
    ")"
   ]
  },
  {
   "cell_type": "code",
   "execution_count": 22,
   "id": "3ab4cdd0",
   "metadata": {},
   "outputs": [
    {
     "data": {
      "text/html": [
       "<style>#sk-container-id-1 {\n",
       "  /* Definition of color scheme common for light and dark mode */\n",
       "  --sklearn-color-text: #000;\n",
       "  --sklearn-color-text-muted: #666;\n",
       "  --sklearn-color-line: gray;\n",
       "  /* Definition of color scheme for unfitted estimators */\n",
       "  --sklearn-color-unfitted-level-0: #fff5e6;\n",
       "  --sklearn-color-unfitted-level-1: #f6e4d2;\n",
       "  --sklearn-color-unfitted-level-2: #ffe0b3;\n",
       "  --sklearn-color-unfitted-level-3: chocolate;\n",
       "  /* Definition of color scheme for fitted estimators */\n",
       "  --sklearn-color-fitted-level-0: #f0f8ff;\n",
       "  --sklearn-color-fitted-level-1: #d4ebff;\n",
       "  --sklearn-color-fitted-level-2: #b3dbfd;\n",
       "  --sklearn-color-fitted-level-3: cornflowerblue;\n",
       "\n",
       "  /* Specific color for light theme */\n",
       "  --sklearn-color-text-on-default-background: var(--sg-text-color, var(--theme-code-foreground, var(--jp-content-font-color1, black)));\n",
       "  --sklearn-color-background: var(--sg-background-color, var(--theme-background, var(--jp-layout-color0, white)));\n",
       "  --sklearn-color-border-box: var(--sg-text-color, var(--theme-code-foreground, var(--jp-content-font-color1, black)));\n",
       "  --sklearn-color-icon: #696969;\n",
       "\n",
       "  @media (prefers-color-scheme: dark) {\n",
       "    /* Redefinition of color scheme for dark theme */\n",
       "    --sklearn-color-text-on-default-background: var(--sg-text-color, var(--theme-code-foreground, var(--jp-content-font-color1, white)));\n",
       "    --sklearn-color-background: var(--sg-background-color, var(--theme-background, var(--jp-layout-color0, #111)));\n",
       "    --sklearn-color-border-box: var(--sg-text-color, var(--theme-code-foreground, var(--jp-content-font-color1, white)));\n",
       "    --sklearn-color-icon: #878787;\n",
       "  }\n",
       "}\n",
       "\n",
       "#sk-container-id-1 {\n",
       "  color: var(--sklearn-color-text);\n",
       "}\n",
       "\n",
       "#sk-container-id-1 pre {\n",
       "  padding: 0;\n",
       "}\n",
       "\n",
       "#sk-container-id-1 input.sk-hidden--visually {\n",
       "  border: 0;\n",
       "  clip: rect(1px 1px 1px 1px);\n",
       "  clip: rect(1px, 1px, 1px, 1px);\n",
       "  height: 1px;\n",
       "  margin: -1px;\n",
       "  overflow: hidden;\n",
       "  padding: 0;\n",
       "  position: absolute;\n",
       "  width: 1px;\n",
       "}\n",
       "\n",
       "#sk-container-id-1 div.sk-dashed-wrapped {\n",
       "  border: 1px dashed var(--sklearn-color-line);\n",
       "  margin: 0 0.4em 0.5em 0.4em;\n",
       "  box-sizing: border-box;\n",
       "  padding-bottom: 0.4em;\n",
       "  background-color: var(--sklearn-color-background);\n",
       "}\n",
       "\n",
       "#sk-container-id-1 div.sk-container {\n",
       "  /* jupyter's `normalize.less` sets `[hidden] { display: none; }`\n",
       "     but bootstrap.min.css set `[hidden] { display: none !important; }`\n",
       "     so we also need the `!important` here to be able to override the\n",
       "     default hidden behavior on the sphinx rendered scikit-learn.org.\n",
       "     See: https://github.com/scikit-learn/scikit-learn/issues/21755 */\n",
       "  display: inline-block !important;\n",
       "  position: relative;\n",
       "}\n",
       "\n",
       "#sk-container-id-1 div.sk-text-repr-fallback {\n",
       "  display: none;\n",
       "}\n",
       "\n",
       "div.sk-parallel-item,\n",
       "div.sk-serial,\n",
       "div.sk-item {\n",
       "  /* draw centered vertical line to link estimators */\n",
       "  background-image: linear-gradient(var(--sklearn-color-text-on-default-background), var(--sklearn-color-text-on-default-background));\n",
       "  background-size: 2px 100%;\n",
       "  background-repeat: no-repeat;\n",
       "  background-position: center center;\n",
       "}\n",
       "\n",
       "/* Parallel-specific style estimator block */\n",
       "\n",
       "#sk-container-id-1 div.sk-parallel-item::after {\n",
       "  content: \"\";\n",
       "  width: 100%;\n",
       "  border-bottom: 2px solid var(--sklearn-color-text-on-default-background);\n",
       "  flex-grow: 1;\n",
       "}\n",
       "\n",
       "#sk-container-id-1 div.sk-parallel {\n",
       "  display: flex;\n",
       "  align-items: stretch;\n",
       "  justify-content: center;\n",
       "  background-color: var(--sklearn-color-background);\n",
       "  position: relative;\n",
       "}\n",
       "\n",
       "#sk-container-id-1 div.sk-parallel-item {\n",
       "  display: flex;\n",
       "  flex-direction: column;\n",
       "}\n",
       "\n",
       "#sk-container-id-1 div.sk-parallel-item:first-child::after {\n",
       "  align-self: flex-end;\n",
       "  width: 50%;\n",
       "}\n",
       "\n",
       "#sk-container-id-1 div.sk-parallel-item:last-child::after {\n",
       "  align-self: flex-start;\n",
       "  width: 50%;\n",
       "}\n",
       "\n",
       "#sk-container-id-1 div.sk-parallel-item:only-child::after {\n",
       "  width: 0;\n",
       "}\n",
       "\n",
       "/* Serial-specific style estimator block */\n",
       "\n",
       "#sk-container-id-1 div.sk-serial {\n",
       "  display: flex;\n",
       "  flex-direction: column;\n",
       "  align-items: center;\n",
       "  background-color: var(--sklearn-color-background);\n",
       "  padding-right: 1em;\n",
       "  padding-left: 1em;\n",
       "}\n",
       "\n",
       "\n",
       "/* Toggleable style: style used for estimator/Pipeline/ColumnTransformer box that is\n",
       "clickable and can be expanded/collapsed.\n",
       "- Pipeline and ColumnTransformer use this feature and define the default style\n",
       "- Estimators will overwrite some part of the style using the `sk-estimator` class\n",
       "*/\n",
       "\n",
       "/* Pipeline and ColumnTransformer style (default) */\n",
       "\n",
       "#sk-container-id-1 div.sk-toggleable {\n",
       "  /* Default theme specific background. It is overwritten whether we have a\n",
       "  specific estimator or a Pipeline/ColumnTransformer */\n",
       "  background-color: var(--sklearn-color-background);\n",
       "}\n",
       "\n",
       "/* Toggleable label */\n",
       "#sk-container-id-1 label.sk-toggleable__label {\n",
       "  cursor: pointer;\n",
       "  display: flex;\n",
       "  width: 100%;\n",
       "  margin-bottom: 0;\n",
       "  padding: 0.5em;\n",
       "  box-sizing: border-box;\n",
       "  text-align: center;\n",
       "  align-items: start;\n",
       "  justify-content: space-between;\n",
       "  gap: 0.5em;\n",
       "}\n",
       "\n",
       "#sk-container-id-1 label.sk-toggleable__label .caption {\n",
       "  font-size: 0.6rem;\n",
       "  font-weight: lighter;\n",
       "  color: var(--sklearn-color-text-muted);\n",
       "}\n",
       "\n",
       "#sk-container-id-1 label.sk-toggleable__label-arrow:before {\n",
       "  /* Arrow on the left of the label */\n",
       "  content: \"▸\";\n",
       "  float: left;\n",
       "  margin-right: 0.25em;\n",
       "  color: var(--sklearn-color-icon);\n",
       "}\n",
       "\n",
       "#sk-container-id-1 label.sk-toggleable__label-arrow:hover:before {\n",
       "  color: var(--sklearn-color-text);\n",
       "}\n",
       "\n",
       "/* Toggleable content - dropdown */\n",
       "\n",
       "#sk-container-id-1 div.sk-toggleable__content {\n",
       "  max-height: 0;\n",
       "  max-width: 0;\n",
       "  overflow: hidden;\n",
       "  text-align: left;\n",
       "  /* unfitted */\n",
       "  background-color: var(--sklearn-color-unfitted-level-0);\n",
       "}\n",
       "\n",
       "#sk-container-id-1 div.sk-toggleable__content.fitted {\n",
       "  /* fitted */\n",
       "  background-color: var(--sklearn-color-fitted-level-0);\n",
       "}\n",
       "\n",
       "#sk-container-id-1 div.sk-toggleable__content pre {\n",
       "  margin: 0.2em;\n",
       "  border-radius: 0.25em;\n",
       "  color: var(--sklearn-color-text);\n",
       "  /* unfitted */\n",
       "  background-color: var(--sklearn-color-unfitted-level-0);\n",
       "}\n",
       "\n",
       "#sk-container-id-1 div.sk-toggleable__content.fitted pre {\n",
       "  /* unfitted */\n",
       "  background-color: var(--sklearn-color-fitted-level-0);\n",
       "}\n",
       "\n",
       "#sk-container-id-1 input.sk-toggleable__control:checked~div.sk-toggleable__content {\n",
       "  /* Expand drop-down */\n",
       "  max-height: 200px;\n",
       "  max-width: 100%;\n",
       "  overflow: auto;\n",
       "}\n",
       "\n",
       "#sk-container-id-1 input.sk-toggleable__control:checked~label.sk-toggleable__label-arrow:before {\n",
       "  content: \"▾\";\n",
       "}\n",
       "\n",
       "/* Pipeline/ColumnTransformer-specific style */\n",
       "\n",
       "#sk-container-id-1 div.sk-label input.sk-toggleable__control:checked~label.sk-toggleable__label {\n",
       "  color: var(--sklearn-color-text);\n",
       "  background-color: var(--sklearn-color-unfitted-level-2);\n",
       "}\n",
       "\n",
       "#sk-container-id-1 div.sk-label.fitted input.sk-toggleable__control:checked~label.sk-toggleable__label {\n",
       "  background-color: var(--sklearn-color-fitted-level-2);\n",
       "}\n",
       "\n",
       "/* Estimator-specific style */\n",
       "\n",
       "/* Colorize estimator box */\n",
       "#sk-container-id-1 div.sk-estimator input.sk-toggleable__control:checked~label.sk-toggleable__label {\n",
       "  /* unfitted */\n",
       "  background-color: var(--sklearn-color-unfitted-level-2);\n",
       "}\n",
       "\n",
       "#sk-container-id-1 div.sk-estimator.fitted input.sk-toggleable__control:checked~label.sk-toggleable__label {\n",
       "  /* fitted */\n",
       "  background-color: var(--sklearn-color-fitted-level-2);\n",
       "}\n",
       "\n",
       "#sk-container-id-1 div.sk-label label.sk-toggleable__label,\n",
       "#sk-container-id-1 div.sk-label label {\n",
       "  /* The background is the default theme color */\n",
       "  color: var(--sklearn-color-text-on-default-background);\n",
       "}\n",
       "\n",
       "/* On hover, darken the color of the background */\n",
       "#sk-container-id-1 div.sk-label:hover label.sk-toggleable__label {\n",
       "  color: var(--sklearn-color-text);\n",
       "  background-color: var(--sklearn-color-unfitted-level-2);\n",
       "}\n",
       "\n",
       "/* Label box, darken color on hover, fitted */\n",
       "#sk-container-id-1 div.sk-label.fitted:hover label.sk-toggleable__label.fitted {\n",
       "  color: var(--sklearn-color-text);\n",
       "  background-color: var(--sklearn-color-fitted-level-2);\n",
       "}\n",
       "\n",
       "/* Estimator label */\n",
       "\n",
       "#sk-container-id-1 div.sk-label label {\n",
       "  font-family: monospace;\n",
       "  font-weight: bold;\n",
       "  display: inline-block;\n",
       "  line-height: 1.2em;\n",
       "}\n",
       "\n",
       "#sk-container-id-1 div.sk-label-container {\n",
       "  text-align: center;\n",
       "}\n",
       "\n",
       "/* Estimator-specific */\n",
       "#sk-container-id-1 div.sk-estimator {\n",
       "  font-family: monospace;\n",
       "  border: 1px dotted var(--sklearn-color-border-box);\n",
       "  border-radius: 0.25em;\n",
       "  box-sizing: border-box;\n",
       "  margin-bottom: 0.5em;\n",
       "  /* unfitted */\n",
       "  background-color: var(--sklearn-color-unfitted-level-0);\n",
       "}\n",
       "\n",
       "#sk-container-id-1 div.sk-estimator.fitted {\n",
       "  /* fitted */\n",
       "  background-color: var(--sklearn-color-fitted-level-0);\n",
       "}\n",
       "\n",
       "/* on hover */\n",
       "#sk-container-id-1 div.sk-estimator:hover {\n",
       "  /* unfitted */\n",
       "  background-color: var(--sklearn-color-unfitted-level-2);\n",
       "}\n",
       "\n",
       "#sk-container-id-1 div.sk-estimator.fitted:hover {\n",
       "  /* fitted */\n",
       "  background-color: var(--sklearn-color-fitted-level-2);\n",
       "}\n",
       "\n",
       "/* Specification for estimator info (e.g. \"i\" and \"?\") */\n",
       "\n",
       "/* Common style for \"i\" and \"?\" */\n",
       "\n",
       ".sk-estimator-doc-link,\n",
       "a:link.sk-estimator-doc-link,\n",
       "a:visited.sk-estimator-doc-link {\n",
       "  float: right;\n",
       "  font-size: smaller;\n",
       "  line-height: 1em;\n",
       "  font-family: monospace;\n",
       "  background-color: var(--sklearn-color-background);\n",
       "  border-radius: 1em;\n",
       "  height: 1em;\n",
       "  width: 1em;\n",
       "  text-decoration: none !important;\n",
       "  margin-left: 0.5em;\n",
       "  text-align: center;\n",
       "  /* unfitted */\n",
       "  border: var(--sklearn-color-unfitted-level-1) 1pt solid;\n",
       "  color: var(--sklearn-color-unfitted-level-1);\n",
       "}\n",
       "\n",
       ".sk-estimator-doc-link.fitted,\n",
       "a:link.sk-estimator-doc-link.fitted,\n",
       "a:visited.sk-estimator-doc-link.fitted {\n",
       "  /* fitted */\n",
       "  border: var(--sklearn-color-fitted-level-1) 1pt solid;\n",
       "  color: var(--sklearn-color-fitted-level-1);\n",
       "}\n",
       "\n",
       "/* On hover */\n",
       "div.sk-estimator:hover .sk-estimator-doc-link:hover,\n",
       ".sk-estimator-doc-link:hover,\n",
       "div.sk-label-container:hover .sk-estimator-doc-link:hover,\n",
       ".sk-estimator-doc-link:hover {\n",
       "  /* unfitted */\n",
       "  background-color: var(--sklearn-color-unfitted-level-3);\n",
       "  color: var(--sklearn-color-background);\n",
       "  text-decoration: none;\n",
       "}\n",
       "\n",
       "div.sk-estimator.fitted:hover .sk-estimator-doc-link.fitted:hover,\n",
       ".sk-estimator-doc-link.fitted:hover,\n",
       "div.sk-label-container:hover .sk-estimator-doc-link.fitted:hover,\n",
       ".sk-estimator-doc-link.fitted:hover {\n",
       "  /* fitted */\n",
       "  background-color: var(--sklearn-color-fitted-level-3);\n",
       "  color: var(--sklearn-color-background);\n",
       "  text-decoration: none;\n",
       "}\n",
       "\n",
       "/* Span, style for the box shown on hovering the info icon */\n",
       ".sk-estimator-doc-link span {\n",
       "  display: none;\n",
       "  z-index: 9999;\n",
       "  position: relative;\n",
       "  font-weight: normal;\n",
       "  right: .2ex;\n",
       "  padding: .5ex;\n",
       "  margin: .5ex;\n",
       "  width: min-content;\n",
       "  min-width: 20ex;\n",
       "  max-width: 50ex;\n",
       "  color: var(--sklearn-color-text);\n",
       "  box-shadow: 2pt 2pt 4pt #999;\n",
       "  /* unfitted */\n",
       "  background: var(--sklearn-color-unfitted-level-0);\n",
       "  border: .5pt solid var(--sklearn-color-unfitted-level-3);\n",
       "}\n",
       "\n",
       ".sk-estimator-doc-link.fitted span {\n",
       "  /* fitted */\n",
       "  background: var(--sklearn-color-fitted-level-0);\n",
       "  border: var(--sklearn-color-fitted-level-3);\n",
       "}\n",
       "\n",
       ".sk-estimator-doc-link:hover span {\n",
       "  display: block;\n",
       "}\n",
       "\n",
       "/* \"?\"-specific style due to the `<a>` HTML tag */\n",
       "\n",
       "#sk-container-id-1 a.estimator_doc_link {\n",
       "  float: right;\n",
       "  font-size: 1rem;\n",
       "  line-height: 1em;\n",
       "  font-family: monospace;\n",
       "  background-color: var(--sklearn-color-background);\n",
       "  border-radius: 1rem;\n",
       "  height: 1rem;\n",
       "  width: 1rem;\n",
       "  text-decoration: none;\n",
       "  /* unfitted */\n",
       "  color: var(--sklearn-color-unfitted-level-1);\n",
       "  border: var(--sklearn-color-unfitted-level-1) 1pt solid;\n",
       "}\n",
       "\n",
       "#sk-container-id-1 a.estimator_doc_link.fitted {\n",
       "  /* fitted */\n",
       "  border: var(--sklearn-color-fitted-level-1) 1pt solid;\n",
       "  color: var(--sklearn-color-fitted-level-1);\n",
       "}\n",
       "\n",
       "/* On hover */\n",
       "#sk-container-id-1 a.estimator_doc_link:hover {\n",
       "  /* unfitted */\n",
       "  background-color: var(--sklearn-color-unfitted-level-3);\n",
       "  color: var(--sklearn-color-background);\n",
       "  text-decoration: none;\n",
       "}\n",
       "\n",
       "#sk-container-id-1 a.estimator_doc_link.fitted:hover {\n",
       "  /* fitted */\n",
       "  background-color: var(--sklearn-color-fitted-level-3);\n",
       "}\n",
       "</style><div id=\"sk-container-id-1\" class=\"sk-top-container\"><div class=\"sk-text-repr-fallback\"><pre>CountVectorizer(lowercase=False, token_pattern=None,\n",
       "                tokenizer=&lt;function tokenizer at 0x1af668900&gt;)</pre><b>In a Jupyter environment, please rerun this cell to show the HTML representation or trust the notebook. <br />On GitHub, the HTML representation is unable to render, please try loading this page with nbviewer.org.</b></div><div class=\"sk-container\" hidden><div class=\"sk-item\"><div class=\"sk-estimator fitted sk-toggleable\"><input class=\"sk-toggleable__control sk-hidden--visually\" id=\"sk-estimator-id-1\" type=\"checkbox\" checked><label for=\"sk-estimator-id-1\" class=\"sk-toggleable__label fitted sk-toggleable__label-arrow\"><div><div>CountVectorizer</div></div><div><a class=\"sk-estimator-doc-link fitted\" rel=\"noreferrer\" target=\"_blank\" href=\"https://scikit-learn.org/1.6/modules/generated/sklearn.feature_extraction.text.CountVectorizer.html\">?<span>Documentation for CountVectorizer</span></a><span class=\"sk-estimator-doc-link fitted\">i<span>Fitted</span></span></div></label><div class=\"sk-toggleable__content fitted\"><pre>CountVectorizer(lowercase=False, token_pattern=None,\n",
       "                tokenizer=&lt;function tokenizer at 0x1af668900&gt;)</pre></div> </div></div></div></div>"
      ],
      "text/plain": [
       "CountVectorizer(lowercase=False, token_pattern=None,\n",
       "                tokenizer=<function tokenizer at 0x1af668900>)"
      ]
     },
     "execution_count": 22,
     "metadata": {},
     "output_type": "execute_result"
    }
   ],
   "source": [
    "word_vectorizer.fit(arr_train_corpus)"
   ]
  },
  {
   "cell_type": "code",
   "execution_count": 23,
   "id": "d00d394d",
   "metadata": {},
   "outputs": [
    {
     "data": {
      "text/plain": [
       "23818"
      ]
     },
     "execution_count": 23,
     "metadata": {},
     "output_type": "execute_result"
    }
   ],
   "source": [
    "# Vocabulary size\n",
    "len(word_vectorizer.vocabulary_)"
   ]
  },
  {
   "cell_type": "code",
   "execution_count": 24,
   "id": "374f46f3",
   "metadata": {},
   "outputs": [],
   "source": [
    "arr_train_bow = word_vectorizer.transform(arr_train_corpus)"
   ]
  },
  {
   "cell_type": "code",
   "execution_count": 25,
   "id": "8196d157",
   "metadata": {},
   "outputs": [
    {
     "data": {
      "text/plain": [
       "(4761, 23818)"
      ]
     },
     "execution_count": 25,
     "metadata": {},
     "output_type": "execute_result"
    }
   ],
   "source": [
    "arr_train_bow.shape"
   ]
  }
 ],
 "metadata": {
  "kernelspec": {
   "display_name": "ai-campus",
   "language": "python",
   "name": "python3"
  },
  "language_info": {
   "codemirror_mode": {
    "name": "ipython",
    "version": 3
   },
   "file_extension": ".py",
   "mimetype": "text/x-python",
   "name": "python",
   "nbconvert_exporter": "python",
   "pygments_lexer": "ipython3",
   "version": "3.13.2"
  }
 },
 "nbformat": 4,
 "nbformat_minor": 5
}
